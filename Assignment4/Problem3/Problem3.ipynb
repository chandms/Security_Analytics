{
 "cells": [
  {
   "cell_type": "markdown",
   "metadata": {},
   "source": [
    "## Problem3"
   ]
  },
  {
   "cell_type": "code",
   "execution_count": 1,
   "metadata": {},
   "outputs": [],
   "source": [
    "import numpy as np\n",
    "import warnings\n",
    "warnings.filterwarnings(\"ignore\", category=np.VisibleDeprecationWarning) "
   ]
  },
  {
   "cell_type": "code",
   "execution_count": 2,
   "metadata": {},
   "outputs": [],
   "source": [
    "# Imports.\n",
    "import random\n",
    "import network.network as Network\n",
    "import network.mnist_loader as mnist_loader\n",
    "import pickle\n",
    "import matplotlib.pyplot as plt\n",
    "\n",
    "# Set the random seed. DO NOT CHANGE THIS!\n",
    "seedVal = 41\n",
    "random.seed(seedVal)\n",
    "np.random.seed(seedVal)\n",
    "\n",
    "%matplotlib inline"
   ]
  },
  {
   "cell_type": "markdown",
   "metadata": {},
   "source": [
    "Use a pre-trained network. It has been saved as a pickle file. Load the model, and continue.\n",
    "The network has only one hidden layer of 30 units, 784 input units (MNIST images are $ 28 \\times 28 = 784 $ pixels large), and 10 output units. All the activations are sigmoidal."
   ]
  },
  {
   "cell_type": "code",
   "execution_count": 3,
   "metadata": {},
   "outputs": [],
   "source": [
    "# Load the pre-trained model.\n",
    "with open('network/trained_network.pkl', 'rb') as f:\n",
    "    u = pickle._Unpickler(f)\n",
    "    u.encoding = 'latin1'\n",
    "    net = u.load()\n",
    "\n",
    "# Helpful function to load the MNIST data.\n",
    "training_data, validation_data, test_data = mnist_loader.load_data_wrapper()"
   ]
  },
  {
   "cell_type": "markdown",
   "metadata": {},
   "source": [
    "The neural network is pretrained, so it should already be set up to predict characters. Run `predict(n)` to evaluate the $ n^{th} $ digit in the test set using the network. You should see that even this relatively simple network works really well (~97% accuracy). The output of the network is a one-hot vector indicating the network's predictions:"
   ]
  },
  {
   "cell_type": "code",
   "execution_count": 4,
   "metadata": {},
   "outputs": [
    {
     "name": "stdout",
     "output_type": "stream",
     "text": [
      "Network output: \n",
      "[[0.]\n",
      " [0.]\n",
      " [0.]\n",
      " [0.]\n",
      " [0.]\n",
      " [0.]\n",
      " [0.]\n",
      " [0.]\n",
      " [1.]\n",
      " [0.]]\n",
      "\n",
      "Network prediction: 8\n",
      "\n",
      "Actual image: \n"
     ]
    },
    {
     "data": {
      "image/png": "[encoded data removed]",
      "text/plain": [
       "<Figure size 432x288 with 1 Axes>"
      ]
     },
     "metadata": {
      "needs_background": "light"
     },
     "output_type": "display_data"
    }
   ],
   "source": [
    "def predict(n):\n",
    "    # Get the data from the test set\n",
    "    x = test_data[n][0]\n",
    "    \n",
    "    # Print the prediction of the network\n",
    "    print('Network output: \\n' + str(np.round(net.feedforward(x), 2)) + '\\n')\n",
    "    print('Network prediction: ' + str(np.argmax(net.feedforward(x))) + '\\n')\n",
    "    print('Actual image: ')\n",
    "    \n",
    "    # Draw the image\n",
    "    plt.imshow(x.reshape((28,28)), cmap='Greys')\n",
    "\n",
    "# Replace the argument with any number between 0 and 9999\n",
    "predict(8384)"
   ]
  },
  {
   "cell_type": "markdown",
   "metadata": {},
   "source": [
    "To actually generate adversarial examples we solve a minimization problem. We do this by setting a \"goal\" label called $ \\vec y_{goal} $ (for instance, if we wanted the network to think the adversarial image is an 8, then we would choose $ \\vec y_{goal} $ to be a one-hot vector with the eighth entry being 1). Now we define a cost function:\n",
    "\n",
    "$$ C = \\frac{1}{2} \\|\\vec y_{goal} - \\hat y(\\vec x)\\|^2_2 $$\n",
    "\n",
    "where $ \\| \\cdot \\|^2_2 $ is the squared Euclidean norm and $ \\hat y $ is the network's output. It is a function of $ \\vec x $, the input image to the network, so we write $ \\hat y(\\vec x) $. Our goal is to find an $ \\vec x $ such that $ C $ is minimized. Hopefully this makes sense, because if we find an image $ \\vec x $ that minimizes $ C $ then that means the output of the network when given $ \\vec x $ is close to our desired output, $ \\vec y_{goal} $. So in full mathy language, our optimization problem is:\n",
    "\n",
    "$$ \\arg \\min_{\\vec x} C(\\vec x) $$\n",
    "\n",
    "that is, find the $ \\vec x $ that minimizes the cost $ C $.\n",
    "\n",
    "To actually do this we can do gradient descent on $ C $. Start with an initially random vector $ \\vec x $ and take steps (changing $ \\vec x $) gradually in the direction opposite of the gradient $ \\nabla_x C $. To actually get these derivatives we can perform backpropagation on the network. In contrast to training a network, where we perform gradient descent on the weights and biases, when we create adversarial examples we hold the weights and biases constant (because we don't want to change the network!), and change the inputs to our network."
   ]
  },
  {
   "cell_type": "markdown",
   "metadata": {},
   "source": [
    "Helper functions to evaluate the non-linearity and it's derivative:"
   ]
  },
  {
   "cell_type": "code",
   "execution_count": 6,
   "metadata": {},
   "outputs": [],
   "source": [
    "def sigmoid(z):\n",
    "    \"\"\"The sigmoid function.\"\"\"\n",
    "    return 1.0/(1.0+np.exp(-z))\n",
    "                                                                                                                                                                                \n",
    "def sigmoid_prime(z):\n",
    "    \"\"\"Derivative of the sigmoid function.\"\"\"\n",
    "    return sigmoid(z)*(1-sigmoid(z))"
   ]
  },
  {
   "cell_type": "markdown",
   "metadata": {},
   "source": [
    "Also, a function to find the gradient derivatives of the cost function, $ \\nabla_x C $ with respect to the input $ \\vec x $, with a goal label of $ \\vec y_{goal} $. (Don't worry too much about the implementation, just know it calculates derivatives)."
   ]
  },
  {
   "cell_type": "code",
   "execution_count": 7,
   "metadata": {},
   "outputs": [],
   "source": [
    "def input_derivative(net, x, y):\n",
    "    \"\"\" Calculate derivatives wrt the inputs\"\"\"\n",
    "    nabla_b = [np.zeros(b.shape) for b in net.biases]\n",
    "    nabla_w = [np.zeros(w.shape) for w in net.weights]\n",
    "    \n",
    "    # feedforward\n",
    "    activation = x\n",
    "    activations = [x] # list to store all the activations, layer by layer\n",
    "    zs = [] # list to store all the z vectors, layer by layer\n",
    "    for b, w in zip(net.biases, net.weights):\n",
    "        z = np.dot(w, activation)+b\n",
    "        zs.append(z)\n",
    "        activation = sigmoid(z)\n",
    "        activations.append(activation)\n",
    "        \n",
    "    # backward pass\n",
    "    delta = net.cost_derivative(activations[-1], y) * \\\n",
    "        sigmoid_prime(zs[-1])\n",
    "    nabla_b[-1] = delta\n",
    "    nabla_w[-1] = np.dot(delta, activations[-2].transpose())\n",
    "\n",
    "    for l in range(2, net.num_layers):\n",
    "        z = zs[-l]\n",
    "        sp = sigmoid_prime(z)\n",
    "        delta = np.dot(net.weights[-l+1].transpose(), delta) * sp\n",
    "        nabla_b[-l] = delta\n",
    "        nabla_w[-l] = np.dot(delta, activations[-l-1].transpose())\n",
    "        \n",
    "    # Return derivatives WRT to input\n",
    "    return net.weights[0].T.dot(delta)"
   ]
  },
  {
   "cell_type": "markdown",
   "metadata": {},
   "source": [
    "The actual function that generates adversarial examples and a wrapper function:"
   ]
  },
  {
   "cell_type": "markdown",
   "metadata": {},
   "source": [
    "## (a) Non Targeted Attack"
   ]
  },
  {
   "cell_type": "code",
   "execution_count": 8,
   "metadata": {},
   "outputs": [],
   "source": [
    "def nonTargetedAdversarial(net, n, steps, eta):\n",
    "    \"\"\"\n",
    "    net : network object\n",
    "        neural network instance to use\n",
    "    n : integer\n",
    "        our goal label (just an int, the function transforms it into a one-hot vector)\n",
    "    steps : integer\n",
    "        number of steps for gradient descent\n",
    "    eta : float\n",
    "        step size for gradient descent\n",
    "    \"\"\"\n",
    "    \n",
    "    ####### Enter your code below #######\n",
    "    \n",
    "    # Set the goal output\n",
    "    goal = np.zeros((10,1))\n",
    "    goal[n] = 1\n",
    "\n",
    "    # Create a random image to initialize gradient descent with\n",
    "    x = np.random.normal(.5, .3, (784, 1))\n",
    "    \n",
    "    # Gradient descent on the input\n",
    "    for i in range(steps):\n",
    "        # Calculate the derivative\n",
    "        d = input_derivative(net,x,goal)\n",
    "    \n",
    "        # The GD update on x\n",
    "        x -= eta*d;\n",
    "            \n",
    "    return x\n",
    "\n",
    "\n",
    "# Wrapper function \n",
    "def generate(n):\n",
    "    \"\"\"\n",
    "    n : integer\n",
    "        goal label (not a one hot vector)\n",
    "    \"\"\"\n",
    "    \n",
    "    ####### Enter your code below #######\n",
    "    \n",
    "    # Find the vector x with the above function that you just wrote.\n",
    "    a=nonTargetedAdversarial(net,n,1000,0.01)\n",
    "    \n",
    "    # Pass the generated image (vector) to the neural network. Perform a forward pass, and get the prediction.\n",
    "    x = net.feedforward(a)\n",
    "    \n",
    "    print('Network Output: \\n' + str(np.round(x,2)) + '\\n')\n",
    "    \n",
    "    print('Network Prediction: ' + str(np.argmax(x)) + '\\n')\n",
    "    \n",
    "    print('Adversarial Example: ')\n",
    "    \n",
    "    plt.imshow(a.reshape(28,28), cmap='Greys')"
   ]
  },
  {
   "cell_type": "markdown",
   "metadata": {},
   "source": [
    "Now let's generate some adversarial examples! Use the function provided to mess around with the neural network. (For some inputs gradient descent doesn't always converge; 0 and 5 seem to work pretty well though. I suspect convergence is very highly dependent on our choice of random initial $ \\vec x $. We'll see later in the notebook if we force the adversarial example to \"look like\" a handwritten digit, convergence is much more likely. In a sense we will be adding regularization to our generation process)."
   ]
  },
  {
   "cell_type": "code",
   "execution_count": 9,
   "metadata": {},
   "outputs": [
    {
     "name": "stdout",
     "output_type": "stream",
     "text": [
      "Network Output: \n",
      "[[0.  ]\n",
      " [0.  ]\n",
      " [0.95]\n",
      " [0.  ]\n",
      " [0.  ]\n",
      " [0.  ]\n",
      " [0.  ]\n",
      " [0.  ]\n",
      " [0.  ]\n",
      " [0.  ]]\n",
      "\n",
      "Network Prediction: 2\n",
      "\n",
      "Adversarial Example: \n"
     ]
    },
    {
     "data": {
      "image/png": "[encoded data removed]",
      "text/plain": [
       "<Figure size 432x288 with 1 Axes>"
      ]
     },
     "metadata": {
      "needs_background": "light"
     },
     "output_type": "display_data"
    }
   ],
   "source": [
    "generate(2)"
   ]
  },
  {
   "cell_type": "markdown",
   "metadata": {},
   "source": [
    "## (b) Targeted Attack(s)"
   ]
  },
  {
   "cell_type": "markdown",
   "metadata": {},
   "source": [
    "Sweet! We've just managed to create an image that looks utterly meaningless to a human, but the neural network thinks is a '5' with very high certainty. We can actually take this a bit further. Let's generate an image that looks like one number, but the neural network is certain is another. To do this we will modify our cost function a bit. Instead of just optimizing the input image, $ \\vec x $, to get a desired output label, we'll also optimize the input to look like a certain image, $ \\vec x_{target} $, at the same time. Our new cost function will be\n",
    "\n",
    "$$ C = \\|\\vec y_{goal} - y_{hat}(\\vec x)\\|^2_2 + \\lambda \\|\\vec x - \\vec x_{target}\\|^2_2 $$\n",
    "\n",
    "The added term tells us the distance from our $ \\vec x $ and some $ \\vec x_{target} $ (which is the image we want our adversarial example to look like). Because we want to minimize $ C $, we also want to minimize the distance between our adversarial example and this image. The $ \\lambda $ is hyperparameter that we can tune; it determines which is more important: optimizing for the desired output or optimizing for an image that looks like $ \\vec x_{target} $.\n",
    "\n",
    "If you are familiar with ridge regularization, the above cost function might look suspiciously like the ridge regression cost function. In fact, we can view this generation method as giving our model a prior, centered on our target image.\n",
    "\n",
    "Here is a function that implements optimizing the modified cost function, called `sneaky_adversarial` (because it is very sneaky). Note that the only difference between this function and `adversarial` is an additional term on the gradient descent update for the regularization term:"
   ]
  },
  {
   "cell_type": "code",
   "execution_count": 10,
   "metadata": {},
   "outputs": [],
   "source": [
    "def targetedAdversarial(net, n, x_target, steps, eta, lam=.05):\n",
    "    \"\"\"\n",
    "    net : network object\n",
    "        neural network instance to use\n",
    "    n : integer\n",
    "        our goal label (just an int, the function transforms it into a one-hot vector)\n",
    "    x_target : numpy vector\n",
    "        our goal image for the adversarial example\n",
    "    steps : integer\n",
    "        number of steps for gradient descent\n",
    "    eta : float\n",
    "        step size for gradient descent\n",
    "    lam : float\n",
    "        lambda, our regularization parameter. Default is .05\n",
    "    \"\"\"\n",
    "    \n",
    "    # Set the goal output\n",
    "    goal = np.zeros((10, 1))\n",
    "    goal[n] = 1\n",
    "    \n",
    "    # Create a random image to initialize gradient descent with\n",
    "    x = np.random.normal(.5, .3, (784, 1))\n",
    "\n",
    "    # Gradient descent on the input\n",
    "    for i in range(steps):\n",
    "        \n",
    "        # Calculate the derivative\n",
    "        d = input_derivative(net,x,goal)\n",
    "        \n",
    "        # The GD update on x, with an added penalty to the cost function\n",
    "        x -= eta*(d + lam*(x-x_target))\n",
    "\n",
    "    return x\n",
    "\n",
    "# Wrapper function\n",
    "def generate_advSample(n, m):\n",
    "    \"\"\"\n",
    "    n: int 0-9, the target number to match\n",
    "    m: index of example image to use (from the test set)\n",
    "    \"\"\"\n",
    "    \n",
    "    # Find random instance of m in test set\n",
    "    idx = np.random.randint(0,8000)\n",
    "    while test_data[idx][1] != m:\n",
    "        idx += 1\n",
    "    \n",
    "    # Hardcode the parameters for the wrapper function\n",
    "    a = targetedAdversarial(net, n, test_data[idx][0], 100, 1)\n",
    "    x = np.round(net.feedforward(a), 2)\n",
    "    \n",
    "    print('\\nWhat we want our adversarial example to look like: ')\n",
    "    plt.imshow(test_data[idx][0].reshape((28,28)), cmap='Greys')\n",
    "    plt.show()\n",
    "    \n",
    "    print('\\n')\n",
    "    \n",
    "    print('Adversarial Example: ')\n",
    "    \n",
    "    plt.imshow(a.reshape(28,28), cmap='Greys')\n",
    "    plt.show()\n",
    "    \n",
    "    print('Network Prediction: ' + str(np.argmax(x)) + '\\n')\n",
    "    \n",
    "    print('Network Output: \\n' + str(x) + '\\n')\n",
    "    \n",
    "    return a"
   ]
  },
  {
   "cell_type": "markdown",
   "metadata": {},
   "source": [
    "Play around with this function to make \"sneaky\" adversarial examples! (Again, some numbers converge better than others... try 0, 2, 3, 5, 6, or 8 as a target label. 1, 4, 7, and 9 still don't work as well... no idea why... We get more numbers that converge because we've added regularization term to our cost function. Perhaps changing $ \\lambda $ will get more to converge?)"
   ]
  },
  {
   "cell_type": "code",
   "execution_count": 11,
   "metadata": {},
   "outputs": [
    {
     "name": "stdout",
     "output_type": "stream",
     "text": [
      "\n",
      "What we want our adversarial example to look like: \n"
     ]
    },
    {
     "data": {
      "image/png": "[encoded data removed]",
      "text/plain": [
       "<Figure size 432x288 with 1 Axes>"
      ]
     },
     "metadata": {
      "needs_background": "light"
     },
     "output_type": "display_data"
    },
    {
     "name": "stdout",
     "output_type": "stream",
     "text": [
      "\n",
      "\n",
      "Adversarial Example: \n"
     ]
    },
    {
     "data": {
      "image/png": "[encoded data removed]",
      "text/plain": [
       "<Figure size 432x288 with 1 Axes>"
      ]
     },
     "metadata": {
      "needs_background": "light"
     },
     "output_type": "display_data"
    },
    {
     "name": "stdout",
     "output_type": "stream",
     "text": [
      "Network Prediction: 8\n",
      "\n",
      "Network Output: \n",
      "[[0.  ]\n",
      " [0.  ]\n",
      " [0.  ]\n",
      " [0.  ]\n",
      " [0.  ]\n",
      " [0.  ]\n",
      " [0.  ]\n",
      " [0.  ]\n",
      " [0.99]\n",
      " [0.  ]]\n",
      "\n"
     ]
    }
   ],
   "source": [
    "# generate_advSample(target label, target digit)\n",
    "adv_ex = generate_advSample(8, 2)"
   ]
  },
  {
   "cell_type": "markdown",
   "metadata": {},
   "source": [
    "## (c) Protection against adversarial attacks"
   ]
  },
  {
   "cell_type": "markdown",
   "metadata": {},
   "source": [
    "Awesome! We’ve just created images that trick neural networks. The next question we could ask is whether or not we could protect against these kinds of attacks. If you look closely at the original images and the adversarial examples you’ll see that the adversarial examples have some sort of grey tinged background."
   ]
  },
  {
   "cell_type": "markdown",
   "metadata": {},
   "source": [
    "So how could we protect against these adversarial attacks? One very simple way would be to use binary thresholding. Set a pixel as completely black or completely white depending on a threshold. This should remove the \"noise\" that's always present in the adversarial images. Let's see if it works:"
   ]
  },
  {
   "cell_type": "code",
   "execution_count": 12,
   "metadata": {},
   "outputs": [],
   "source": [
    "def simple_defense(n, m):\n",
    "    \"\"\"\n",
    "    n: int 0-9, the target number to match\n",
    "    m: index of example image to use (from the test set)\n",
    "    \"\"\"\n",
    "    \n",
    "    # Generate an adversarial sample.\n",
    "    x = generate_advSample(n, m)\n",
    "    \n",
    "    # Perform binary thresholding on the generated sample. You can choose the threshold as 0.5.\n",
    "    x = (x > .5).astype(float)\n",
    "    print(\"With binary thresholding: \")\n",
    "    \n",
    "    # Plot a grayscale image of the binarized generated sample.\n",
    "    plt.imshow(x.reshape(28,28), cmap=\"Greys\")\n",
    "    plt.show()\n",
    "    \n",
    "    binary_activations = net.feedforward(x)\n",
    "    binary_prediction = np.argmax(net.feedforward(x))\n",
    "\n",
    "    # Print the network's predictions.\n",
    "    print(\"Prediction with binary thresholding: \" + str(binary_prediction) + '\\n')\n",
    "    \n",
    "    # The output of the network.\n",
    "    print(\"Network output: \")\n",
    "    print( str(np.round(binary_activations,2)) )"
   ]
  },
  {
   "cell_type": "code",
   "execution_count": 13,
   "metadata": {},
   "outputs": [
    {
     "name": "stdout",
     "output_type": "stream",
     "text": [
      "\n",
      "What we want our adversarial example to look like: \n"
     ]
    },
    {
     "data": {
      "image/png": "[encoded data removed]",
      "text/plain": [
       "<Figure size 432x288 with 1 Axes>"
      ]
     },
     "metadata": {
      "needs_background": "light"
     },
     "output_type": "display_data"
    },
    {
     "name": "stdout",
     "output_type": "stream",
     "text": [
      "\n",
      "\n",
      "Adversarial Example: \n"
     ]
    },
    {
     "data": {
      "image/png": "[encoded data removed]",
      "text/plain": [
       "<Figure size 432x288 with 1 Axes>"
      ]
     },
     "metadata": {
      "needs_background": "light"
     },
     "output_type": "display_data"
    },
    {
     "name": "stdout",
     "output_type": "stream",
     "text": [
      "Network Prediction: 2\n",
      "\n",
      "Network Output: \n",
      "[[0.  ]\n",
      " [0.  ]\n",
      " [0.95]\n",
      " [0.03]\n",
      " [0.  ]\n",
      " [0.  ]\n",
      " [0.  ]\n",
      " [0.  ]\n",
      " [0.  ]\n",
      " [0.  ]]\n",
      "\n",
      "With binary thresholding: \n"
     ]
    },
    {
     "data": {
      "image/png": "[encoded data removed]",
      "text/plain": [
       "<Figure size 432x288 with 1 Axes>"
      ]
     },
     "metadata": {
      "needs_background": "light"
     },
     "output_type": "display_data"
    },
    {
     "name": "stdout",
     "output_type": "stream",
     "text": [
      "Prediction with binary thresholding: 3\n",
      "\n",
      "Network output: \n",
      "[[0.]\n",
      " [0.]\n",
      " [0.]\n",
      " [1.]\n",
      " [0.]\n",
      " [0.]\n",
      " [0.]\n",
      " [0.]\n",
      " [0.]\n",
      " [0.]]\n"
     ]
    }
   ],
   "source": [
    "# binary_thresholding(target digit, actual digit)\n",
    "simple_defense(2, 3)"
   ]
  },
  {
   "cell_type": "markdown",
   "metadata": {},
   "source": [
    "Looks like it works pretty well! However, note that most adversarial attacks, especially on convolutional neural networks trained on massive full color image sets such as imagenet, can't be defended against by a simple binary threshold."
   ]
  },
  {
   "cell_type": "markdown",
   "metadata": {},
   "source": [
    "## Adversarial Training"
   ]
  },
  {
   "cell_type": "markdown",
   "metadata": {},
   "source": [
    "Looks like it works pretty well! However, note that most adversarial attacks, especially on convolutional neural networks trained on massive full color image sets such as imagenet, can't be defended against by a simple binary threshold.\n",
    "\n",
    "We could try one more thing that might be a bit more universal to protect our neural network against adversarial attacks. If we had access to the adversarial attack method (which we do in this case, because we're the ones implementing the attack) we could create a ton of adversarial examples, mix that up with our training dataset with the correct labels, and then retrain a network on this augmented dataset. The retrained network should learn to ignore the adversarial attacks. Here we implement a function to do just that."
   ]
  },
  {
   "cell_type": "code",
   "execution_count": 14,
   "metadata": {},
   "outputs": [],
   "source": [
    "def augment_data(n, data, steps):\n",
    "    \"\"\"\n",
    "    n : integer\n",
    "        number of adversarial examples to generate\n",
    "    data : list of tuples\n",
    "        data set to generate adversarial examples using\n",
    "    \"\"\"\n",
    "    # Our augmented training set:\n",
    "    augmented = []\n",
    "    \n",
    "    for i in range(n):\n",
    "        # Progress \"bar\"\n",
    "        if i % 500 == 0:\n",
    "            print(\"Generated digits: \" + str(i))\n",
    "            \n",
    "        # Randomly choose a digit that the example will look like\n",
    "        rnd_actual_digit = random.randint(0,9)\n",
    "         \n",
    "        # Find random instance of rnd_actual_digit in the training set\n",
    "        rnd_actual_idx = np.random.randint(0,8000)\n",
    "        \n",
    "        # TODO : Find a random instance of rnd_actual_digit in the training set. \n",
    "        while True:\n",
    "            arr = data[rnd_actual_idx][1]\n",
    "            dig_val = arr.squeeze().tolist().index(1)\n",
    "            if(dig_val == rnd_actual_digit):\n",
    "                break\n",
    "            rnd_actual_idx += 1\n",
    "        x_target = data[rnd_actual_idx][0]\n",
    "        y_actual = data[rnd_actual_idx][1]\n",
    "            \n",
    "        true_digit_label = y_actual.squeeze().tolist().index(1)\n",
    "        \n",
    "        # Choose a value for the adversarial attack\n",
    "        while True:\n",
    "            rnd_fake_digit = np.random.randint(10)\n",
    "            if rnd_fake_digit != true_digit_label: break\n",
    "    \n",
    "        # Generate adversarial example\n",
    "        x_adversarial = targetedAdversarial(net, rnd_fake_digit, x_target, steps, 1)\n",
    "        x_adversarial = np.array((x_adversarial, y_actual))\n",
    "        # Add new data       \n",
    "        augmented.append(x_adversarial)\n",
    "        \n",
    "    return augmented"
   ]
  },
  {
   "cell_type": "code",
   "execution_count": 15,
   "metadata": {},
   "outputs": [
    {
     "name": "stdout",
     "output_type": "stream",
     "text": [
      "Generated digits: 0\n",
      "Generated digits: 500\n",
      "Generated digits: 1000\n",
      "Generated digits: 1500\n",
      "Generated digits: 2000\n",
      "Generated digits: 2500\n",
      "Generated digits: 3000\n",
      "Generated digits: 3500\n",
      "Generated digits: 4000\n",
      "Generated digits: 4500\n",
      "Generated digits: 5000\n",
      "Generated digits: 5500\n",
      "Generated digits: 6000\n",
      "Generated digits: 6500\n",
      "Generated digits: 7000\n",
      "Generated digits: 7500\n",
      "Generated digits: 8000\n",
      "Generated digits: 8500\n",
      "Generated digits: 9000\n",
      "Generated digits: 9500\n"
     ]
    }
   ],
   "source": [
    "# Try 10000 examples first if you don't want to wait for a long time!\n",
    "augmented = augment_data(10000, training_data, 100)"
   ]
  },
  {
   "cell_type": "markdown",
   "metadata": {},
   "source": [
    "Now let's check to make sure our augmented dataset actually makes sense. Here we have a function that checks the $ i^{th} $ example in our augmented set."
   ]
  },
  {
   "cell_type": "code",
   "execution_count": 16,
   "metadata": {},
   "outputs": [
    {
     "name": "stdout",
     "output_type": "stream",
     "text": [
      "Image: \n",
      "\n"
     ]
    },
    {
     "data": {
      "image/png": "[encoded data removed]",
      "text/plain": [
       "<Figure size 432x288 with 1 Axes>"
      ]
     },
     "metadata": {
      "needs_background": "light"
     },
     "output_type": "display_data"
    },
    {
     "name": "stdout",
     "output_type": "stream",
     "text": [
      "Original network prediction: \n",
      "\n",
      "[[0.  ]\n",
      " [0.  ]\n",
      " [0.  ]\n",
      " [0.  ]\n",
      " [0.  ]\n",
      " [0.98]\n",
      " [0.  ]\n",
      " [0.  ]\n",
      " [0.  ]\n",
      " [0.  ]]\n",
      "\n",
      "Label: \n",
      "\n",
      "[[0.]\n",
      " [0.]\n",
      " [0.]\n",
      " [0.]\n",
      " [1.]\n",
      " [0.]\n",
      " [0.]\n",
      " [0.]\n",
      " [0.]\n",
      " [0.]]\n"
     ]
    }
   ],
   "source": [
    "def check_augmented(i, augmented):\n",
    "    # Show image\n",
    "    print('Image: \\n')\n",
    "    plt.imshow(augmented[i][0].reshape(28,28), cmap='Greys')\n",
    "    plt.show()\n",
    "    \n",
    "    # Show original network prediction\n",
    "    print('Original network prediction: \\n')\n",
    "    print(np.round(net.feedforward(augmented[i][0]), 2))\n",
    "    \n",
    "    # Show label\n",
    "    print('\\nLabel: \\n')\n",
    "    print(augmented[i][1])\n",
    "    \n",
    "# check i^th adversarial image\n",
    "check_augmented(239, augmented)"
   ]
  },
  {
   "cell_type": "markdown",
   "metadata": {},
   "source": [
    "We can now create a new neural network and train it on our augmented dataset and the original training set, using the original test set to validate."
   ]
  },
  {
   "cell_type": "code",
   "execution_count": 17,
   "metadata": {},
   "outputs": [
    {
     "name": "stdout",
     "output_type": "stream",
     "text": [
      "Epoch 0: 6992 / 10000\n",
      "Epoch 1: 7450 / 10000\n",
      "Epoch 2: 7511 / 10000\n",
      "Epoch 3: 7543 / 10000\n",
      "Epoch 4: 7553 / 10000\n",
      "Epoch 5: 7549 / 10000\n",
      "Epoch 6: 7563 / 10000\n",
      "Epoch 7: 7541 / 10000\n",
      "Epoch 8: 7575 / 10000\n",
      "Epoch 9: 7583 / 10000\n",
      "Epoch 10: 7571 / 10000\n",
      "Epoch 11: 7573 / 10000\n",
      "Epoch 12: 7587 / 10000\n",
      "Epoch 13: 8262 / 10000\n",
      "Epoch 14: 8312 / 10000\n",
      "Epoch 15: 8379 / 10000\n",
      "Epoch 16: 8365 / 10000\n",
      "Epoch 17: 8367 / 10000\n",
      "Epoch 18: 8361 / 10000\n",
      "Epoch 19: 8355 / 10000\n",
      "Epoch 20: 8342 / 10000\n",
      "Epoch 21: 8359 / 10000\n",
      "Epoch 22: 8353 / 10000\n",
      "Epoch 23: 8363 / 10000\n",
      "Epoch 24: 8357 / 10000\n",
      "Epoch 25: 8364 / 10000\n",
      "Epoch 26: 8352 / 10000\n",
      "Epoch 27: 8357 / 10000\n",
      "Epoch 28: 8353 / 10000\n",
      "Epoch 29: 8364 / 10000\n",
      "Epoch 30: 8365 / 10000\n",
      "Epoch 31: 8372 / 10000\n",
      "Epoch 32: 8361 / 10000\n",
      "Epoch 33: 8366 / 10000\n",
      "Epoch 34: 8378 / 10000\n",
      "Epoch 35: 8376 / 10000\n",
      "Epoch 36: 8368 / 10000\n",
      "Epoch 37: 8380 / 10000\n",
      "Epoch 38: 8349 / 10000\n",
      "Epoch 39: 8368 / 10000\n",
      "Epoch 40: 8350 / 10000\n",
      "Epoch 41: 8382 / 10000\n",
      "Epoch 42: 8355 / 10000\n",
      "Epoch 43: 8368 / 10000\n",
      "Epoch 44: 8355 / 10000\n",
      "Epoch 45: 8350 / 10000\n",
      "Epoch 46: 8375 / 10000\n",
      "Epoch 47: 8362 / 10000\n",
      "Epoch 48: 8362 / 10000\n",
      "Epoch 49: 8354 / 10000\n",
      "Epoch 50: 8356 / 10000\n",
      "Epoch 51: 8373 / 10000\n",
      "Epoch 52: 8351 / 10000\n",
      "Epoch 53: 8376 / 10000\n",
      "Epoch 54: 8356 / 10000\n",
      "Epoch 55: 8358 / 10000\n",
      "Epoch 56: 8365 / 10000\n",
      "Epoch 57: 8373 / 10000\n",
      "Epoch 58: 8369 / 10000\n",
      "Epoch 59: 8355 / 10000\n",
      "Epoch 60: 8356 / 10000\n",
      "Epoch 61: 8364 / 10000\n",
      "Epoch 62: 8365 / 10000\n",
      "Epoch 63: 8372 / 10000\n",
      "Epoch 64: 8338 / 10000\n",
      "Epoch 65: 8361 / 10000\n",
      "Epoch 66: 8355 / 10000\n",
      "Epoch 67: 8355 / 10000\n",
      "Epoch 68: 8354 / 10000\n",
      "Epoch 69: 8370 / 10000\n",
      "Epoch 70: 8358 / 10000\n",
      "Epoch 71: 8373 / 10000\n",
      "Epoch 72: 8364 / 10000\n",
      "Epoch 73: 8343 / 10000\n",
      "Epoch 74: 8352 / 10000\n",
      "Epoch 75: 8371 / 10000\n",
      "Epoch 76: 8365 / 10000\n",
      "Epoch 77: 8367 / 10000\n",
      "Epoch 78: 8358 / 10000\n",
      "Epoch 79: 8363 / 10000\n",
      "Epoch 80: 8358 / 10000\n",
      "Epoch 81: 8375 / 10000\n",
      "Epoch 82: 8362 / 10000\n",
      "Epoch 83: 8367 / 10000\n",
      "Epoch 84: 8357 / 10000\n",
      "Epoch 85: 8373 / 10000\n",
      "Epoch 86: 8367 / 10000\n",
      "Epoch 87: 8375 / 10000\n",
      "Epoch 88: 8359 / 10000\n",
      "Epoch 89: 8374 / 10000\n",
      "Epoch 90: 8374 / 10000\n",
      "Epoch 91: 8360 / 10000\n",
      "Epoch 92: 8362 / 10000\n",
      "Epoch 93: 8361 / 10000\n",
      "Epoch 94: 8358 / 10000\n",
      "Epoch 95: 8368 / 10000\n",
      "Epoch 96: 8362 / 10000\n",
      "Epoch 97: 8355 / 10000\n",
      "Epoch 98: 8364 / 10000\n",
      "Epoch 99: 8348 / 10000\n"
     ]
    }
   ],
   "source": [
    "# Create a new network. Use the function provided in the Network.network to create one. For this you'll have to \n",
    "# read the description of the function there. \n",
    "net2 = Network.Network([784,1])\n",
    "\n",
    "# Train on the augmented + original training set\n",
    "combined_train_data = []\n",
    "for j in augmented:\n",
    "    combined_train_data.append(j)\n",
    "for j in training_data:\n",
    "    combined_train_data.append(j)\n",
    "random.shuffle(combined_train_data)\n",
    "net2.SGD(combined_train_data, epochs=100, mini_batch_size=5, eta=1,\n",
    "            test_data=test_data)"
   ]
  },
  {
   "cell_type": "markdown",
   "metadata": {},
   "source": [
    "With a network trained on 50000 adversarial examples in addition to 50000 original training set examples we get about 95% accuracy (it takes quite a long time as well). We can make a test set of adversarial examples by using the following function call:"
   ]
  },
  {
   "cell_type": "code",
   "execution_count": 18,
   "metadata": {},
   "outputs": [
    {
     "name": "stdout",
     "output_type": "stream",
     "text": [
      "Generated digits: 0\n",
      "Generated digits: 500\n"
     ]
    }
   ],
   "source": [
    "# For some reason the training data has the format: list of tuples\n",
    "# tuple[0] is np array of image\n",
    "# tuple[1] is one hot np array of label\n",
    "# test data is also list of tuples\n",
    "# tuple[0] is np array of image\n",
    "# tuple[1] is integer of label\n",
    "# Just fixing this:\n",
    "normal_test_data = []\n",
    "\n",
    "for i in range(len(test_data)):\n",
    "    ground_truth = test_data[i][1]\n",
    "    one_hot = np.zeros(10)\n",
    "    one_hot[ground_truth] = 1\n",
    "    one_hot = np.expand_dims(one_hot, axis=1)\n",
    "    normal_test_data.append((test_data[i][0], one_hot))\n",
    "    \n",
    "\n",
    "# Using normal_test_data because of weird way data is packaged\n",
    "adversarial_test_set = augment_data(1000, normal_test_data, 100)"
   ]
  },
  {
   "cell_type": "markdown",
   "metadata": {},
   "source": [
    "Let's checkout the accuracy of our newly trained network on adversarial examples from the new adversarial test set:"
   ]
  },
  {
   "cell_type": "code",
   "execution_count": 19,
   "metadata": {},
   "outputs": [
    {
     "name": "stdout",
     "output_type": "stream",
     "text": [
      "Accuracy of the new augmented model on the adversarial test set: 0.836\n",
      "Accuracy of the new augmented model on the original test set: 0.8348\n",
      "Accuracy of the original network on the adversarial test set: 0.45\n",
      "Accuracy of the original network on the original test set: 0.8701\n"
     ]
    }
   ],
   "source": [
    "def accuracy(net, test_data):\n",
    "    \"\"\"\n",
    "    net : network object\n",
    "    test_data: list\n",
    "        list of 2-tuples of two arrays, one image and one label (one-hot)\n",
    "    \"\"\"\n",
    "    tot = float(len(test_data))\n",
    "    correct = 0\n",
    "    for i in range(len(test_data)):\n",
    "        dt = test_data[i]\n",
    "        pred = np.argmax(net.feedforward(dt[0]))\n",
    "        tr_label = dt[1].squeeze().tolist().index(1)\n",
    "        if(pred==tr_label):\n",
    "            correct += 1\n",
    "    \n",
    "    return correct / tot\n",
    "\n",
    "print('Accuracy of the new augmented model on the adversarial test set: ' + str(accuracy(net2, adversarial_test_set)))\n",
    "print('Accuracy of the new augmented model on the original test set: ' + str(accuracy(net2, normal_test_data)))\n",
    "\n",
    "print('Accuracy of the original network on the adversarial test set: ' + str(accuracy(net, adversarial_test_set)))\n",
    "print('Accuracy of the original network on the original test set: ' + str(accuracy(net, normal_test_data)))"
   ]
  },
  {
   "cell_type": "markdown",
   "metadata": {},
   "source": [
    "Finally, we'll be implementing a function that compares the original network to the new network on adversarial examples."
   ]
  },
  {
   "cell_type": "code",
   "execution_count": 20,
   "metadata": {},
   "outputs": [],
   "source": [
    "# You'll be implementing a function that compares the original network to the new network. The specifications of \n",
    "# what this function has to achieve has been provided in the pdf.\n",
    "\n",
    "# TODO : Implement a function.\n",
    "def compare(original_net, new_net, adv_example):\n",
    "    # Show image\n",
    "    print('Image: \\n')\n",
    "    plt.imshow(adv_example[0].reshape(28,28), cmap='Greys')\n",
    "    plt.show()\n",
    "    \n",
    "    # Show original network prediction\n",
    "    print('Original network prediction: \\n')\n",
    "    print(np.round(original_net.feedforward(adv_example[0]), 2))\n",
    "\n",
    "    # Show new network prediction\n",
    "    print('New network prediction: \\n')\n",
    "    print(np.round(new_net.feedforward(adv_example[0]), 2))\n",
    "    \n",
    "    # Show label\n",
    "    print('\\nLabel: \\n')\n",
    "    print(adv_example[1])"
   ]
  },
  {
   "cell_type": "code",
   "execution_count": 21,
   "metadata": {},
   "outputs": [
    {
     "name": "stdout",
     "output_type": "stream",
     "text": [
      "Image: \n",
      "\n"
     ]
    },
    {
     "data": {
      "image/png": "[encoded data removed]",
      "text/plain": [
       "<Figure size 432x288 with 1 Axes>"
      ]
     },
     "metadata": {
      "needs_background": "light"
     },
     "output_type": "display_data"
    },
    {
     "name": "stdout",
     "output_type": "stream",
     "text": [
      "Original network prediction: \n",
      "\n",
      "[[0.  ]\n",
      " [0.  ]\n",
      " [0.  ]\n",
      " [0.  ]\n",
      " [0.  ]\n",
      " [0.02]\n",
      " [0.  ]\n",
      " [0.  ]\n",
      " [0.  ]\n",
      " [0.  ]]\n",
      "New network prediction: \n",
      "\n",
      "[[0.  ]\n",
      " [0.  ]\n",
      " [0.  ]\n",
      " [0.  ]\n",
      " [0.  ]\n",
      " [1.  ]\n",
      " [0.  ]\n",
      " [0.  ]\n",
      " [0.01]\n",
      " [0.  ]]\n",
      "\n",
      "Label: \n",
      "\n",
      "[[0.]\n",
      " [0.]\n",
      " [0.]\n",
      " [0.]\n",
      " [0.]\n",
      " [1.]\n",
      " [0.]\n",
      " [0.]\n",
      " [0.]\n",
      " [0.]]\n"
     ]
    }
   ],
   "source": [
    "compare(net, net2, augmented[150])"
   ]
  },
  {
   "cell_type": "code",
   "execution_count": 22,
   "metadata": {},
   "outputs": [
    {
     "name": "stdout",
     "output_type": "stream",
     "text": [
      "Image: \n",
      "\n"
     ]
    },
    {
     "data": {
      "image/png": "[encoded data removed]",
      "text/plain": [
       "<Figure size 432x288 with 1 Axes>"
      ]
     },
     "metadata": {
      "needs_background": "light"
     },
     "output_type": "display_data"
    },
    {
     "name": "stdout",
     "output_type": "stream",
     "text": [
      "Original network prediction: \n",
      "\n",
      "[[0.  ]\n",
      " [0.  ]\n",
      " [0.  ]\n",
      " [0.02]\n",
      " [0.  ]\n",
      " [0.  ]\n",
      " [0.  ]\n",
      " [0.  ]\n",
      " [0.  ]\n",
      " [0.  ]]\n",
      "New network prediction: \n",
      "\n",
      "[[0.  ]\n",
      " [0.  ]\n",
      " [0.  ]\n",
      " [1.  ]\n",
      " [0.  ]\n",
      " [0.  ]\n",
      " [0.  ]\n",
      " [0.01]\n",
      " [0.  ]\n",
      " [0.  ]]\n",
      "\n",
      "Label: \n",
      "\n",
      "[[0.]\n",
      " [0.]\n",
      " [0.]\n",
      " [1.]\n",
      " [0.]\n",
      " [0.]\n",
      " [0.]\n",
      " [0.]\n",
      " [0.]\n",
      " [0.]]\n"
     ]
    }
   ],
   "source": [
    "compare(net, net2, augmented[850])"
   ]
  },
  {
   "cell_type": "markdown",
   "metadata": {},
   "source": [
    "## Extra Credit"
   ]
  },
  {
   "cell_type": "code",
   "execution_count": 24,
   "metadata": {},
   "outputs": [],
   "source": [
    "from art.estimators.classification import KerasClassifier\n",
    "import scipy.stats as jslib\n",
    "from keras.models import Sequential\n",
    "from keras.layers import Dense, Dropout, Flatten\n",
    "from keras.layers import Conv2D, MaxPooling2D\n",
    "import keras\n",
    "from keras.datasets import mnist\n",
    "from keras import backend as K"
   ]
  },
  {
   "cell_type": "markdown",
   "metadata": {},
   "source": [
    "## Function to Calculate Different Utility Metrics"
   ]
  },
  {
   "cell_type": "markdown",
   "metadata": {},
   "source": [
    "### Imported Utility Function From DEEPSEC Repository"
   ]
  },
  {
   "cell_type": "code",
   "execution_count": 25,
   "metadata": {},
   "outputs": [],
   "source": [
    "# calculate robustness of defense using utility metrics\n",
    "def defense_utility_measure(pred_def, pred_raw, true_label):\n",
    "    # compute the classification accuracy of raw model\n",
    "    correct_prediction_raw = np.equal(np.argmax(pred_raw, axis=1), true_label)\n",
    "    acc_raw = np.mean(correct_prediction_raw.astype(float))\n",
    "    print(\"accuracy of raw model \", acc_raw)\n",
    "\n",
    "    # compute the classification accuracy of defense-enhanced model\n",
    "    correct_prediction_def = np.equal(np.argmax(pred_def, axis=1), true_label)\n",
    "    acc_def = np.mean(correct_prediction_def.astype(float))\n",
    "    print(\"accuracy of defense-enhanced model \",acc_def)\n",
    "\n",
    "    # compute the Classification Accuracy Variance(CAV)\n",
    "    cav_result = acc_def - acc_raw\n",
    "    print(\"Classification Accuracy Variance (CAV)\",cav_result)\n",
    "\n",
    "    # find the index of correct predicted examples by defence-enhanced model and raw model\n",
    "    idx_def = np.squeeze(np.argwhere(correct_prediction_def == True))\n",
    "    idx_raw = np.squeeze(np.argwhere(correct_prediction_raw == True))\n",
    "    idx = np.intersect1d(idx_def, idx_raw, assume_unique=True)\n",
    "\n",
    "    # compute the Classification Rectify Ratio(CRR) & Classification Sacrifice Ratio(CSR)\n",
    "    num_rectify = len(idx_def) - len(idx)\n",
    "    crr_result = num_rectify / len(pred_def)\n",
    "    print(\"Classification Rectify Ratio (CRR)\",crr_result)\n",
    "\n",
    "    num_sacrifice = len(idx_raw) - len(idx)\n",
    "    csr_result = num_sacrifice / len(pred_def)\n",
    "    \n",
    "    print(\"Classification Sacrifice Ratio (CSR)\", csr_result)\n",
    "\n",
    "    # filter the correct prediction results\n",
    "    pred_def_filter = pred_def[idx]\n",
    "    pred_raw_filter = pred_raw[idx]\n",
    "\n",
    "    # compute the Classification Confidence Variance(CCV)\n",
    "    confidence_def = np.max(pred_def_filter, axis=1)\n",
    "    confidence_raw = np.max(pred_raw_filter, axis=1)\n",
    "    ccv_result = np.mean(np.absolute(confidence_def - confidence_raw))\n",
    "    print(\"Classification Confidence Variance(CCV)\", ccv_result)\n",
    "\n",
    "    # compute the Classification Output Stability(COS)\n",
    "    M = (pred_def_filter + pred_raw_filter) / 2.\n",
    "    js_total = 0\n",
    "    for i in range(len(M)):\n",
    "        js = 0.5 * jslib.entropy(pred_def_filter[i], M[i]) + 0.5 * jslib.entropy(pred_raw_filter[i], M[i])\n",
    "        js_total += js\n",
    "    cos_result = js_total / len(M)\n",
    "    print(\"Classification Output Stability (COS)\", cos_result)\n",
    "\n",
    "    #return acc_raw, acc_def, cav_result, crr_result, csr_result, ccv_result, cos_result"
   ]
  },
  {
   "cell_type": "code",
   "execution_count": 26,
   "metadata": {},
   "outputs": [],
   "source": [
    "from keras.layers import Dense, Dropout, Flatten, InputLayer\n",
    "from art.defences.preprocessor import Preprocessor\n",
    "from art.defences.detector.evasion import BinaryInputDetector\n",
    "from art.defences.preprocessor import SpatialSmoothing,FeatureSqueezing"
   ]
  },
  {
   "cell_type": "code",
   "execution_count": 27,
   "metadata": {},
   "outputs": [],
   "source": [
    "## Collecting the training data from actual training data\n",
    "final_train_x =  np.array( [seq[0] for seq in training_data] )\n",
    "final_train_y =  np.array( [seq[1] for seq in training_data] )\n",
    "\n",
    "## Using the previously generated adversarial_test_set for test\n",
    "final_test_x = np.array( [seq[0] for seq in adversarial_test_set] )\n",
    "final_test_y = np.array( [seq[1] for seq in adversarial_test_set] )"
   ]
  },
  {
   "cell_type": "code",
   "execution_count": 28,
   "metadata": {},
   "outputs": [],
   "source": [
    "lb_y=[]\n",
    "for j in range(len((final_train_y))):\n",
    "    lb_y.append(np.argmax(final_train_y[j]))\n",
    "final_train_y = np.array(lb_y)\n",
    "\n",
    "final_train_x = final_train_x.reshape(final_train_x.shape[0], 1, 28, 28)\n",
    "final_test_x = final_test_x.reshape(final_test_x.shape[0], 1, 28, 28)\n",
    "\n",
    "true_label=[]\n",
    "for j in range(len((final_test_y))):\n",
    "    true_label.append(np.argmax(final_test_y[j]))\n",
    "true_label = np.array(true_label) # true labels for adversarial test set"
   ]
  },
  {
   "cell_type": "code",
   "execution_count": 29,
   "metadata": {},
   "outputs": [
    {
     "name": "stdout",
     "output_type": "stream",
     "text": [
      "WARNING:tensorflow:From /Users/chandrikamukherjee/opt/anaconda3/envs/cs529/lib/python3.7/site-packages/keras/backend/tensorflow_backend.py:422: The name tf.global_variables is deprecated. Please use tf.compat.v1.global_variables instead.\n",
      "\n",
      "Epoch 1/10\n",
      "50000/50000 [==============================] - 15s 307us/step - loss: 0.2272 - acc: 0.9299\n",
      "Epoch 2/10\n",
      "50000/50000 [==============================] - 15s 294us/step - loss: 0.1024 - acc: 0.9698\n",
      "Epoch 3/10\n",
      "50000/50000 [==============================] - 15s 310us/step - loss: 0.0700 - acc: 0.9786\n",
      "Epoch 4/10\n",
      "50000/50000 [==============================] - 16s 322us/step - loss: 0.0559 - acc: 0.9833\n",
      "Epoch 5/10\n",
      "50000/50000 [==============================] - 17s 338us/step - loss: 0.0442 - acc: 0.9859\n",
      "Epoch 6/10\n",
      "50000/50000 [==============================] - 19s 381us/step - loss: 0.0375 - acc: 0.9885\n",
      "Epoch 7/10\n",
      "50000/50000 [==============================] - 17s 338us/step - loss: 0.0313 - acc: 0.9905\n",
      "Epoch 8/10\n",
      "50000/50000 [==============================] - 17s 340us/step - loss: 0.0286 - acc: 0.9912\n",
      "Epoch 9/10\n",
      "50000/50000 [==============================] - 17s 346us/step - loss: 0.0258 - acc: 0.9921\n",
      "Epoch 10/10\n",
      "50000/50000 [==============================] - 17s 347us/step - loss: 0.0234 - acc: 0.9929\n"
     ]
    }
   ],
   "source": [
    "ann_based_model = Sequential()\n",
    "ann_based_model.add(InputLayer(input_shape=(1,28,28)))\n",
    "\n",
    "# Define the intermediate layers.\n",
    "\n",
    "ann_based_model.add(Flatten())\n",
    "ann_based_model.add(Dense(512, activation=\"relu\"))\n",
    "ann_based_model.add(Dense(256, activation=\"relu\"))\n",
    "ann_based_model.add(Dense(128, activation=\"relu\"))\n",
    "ann_based_model.add(Dense(64, activation=\"relu\"))\n",
    "ann_based_model.add(Dense(10, activation=\"softmax\"))\n",
    "\n",
    "# Compile the ANN model. \n",
    "ann_based_model.compile(loss='categorical_crossentropy', \n",
    "              optimizer='adam',\n",
    "              metrics=['acc'])\n",
    "ann_based_classifier = KerasClassifier(model=ann_based_model, clip_values=(0,1))\n",
    "ann_based_classifier.fit(final_train_x, final_train_y, nb_epochs=10, batch_size=32)"
   ]
  },
  {
   "cell_type": "code",
   "execution_count": 30,
   "metadata": {},
   "outputs": [],
   "source": [
    "#Get the raw predictions on the test set.\n",
    "raw_predictions = ann_based_model.predict(final_test_x)\n",
    "new_network = ann_based_classifier\n",
    "new_network_copy = ann_based_classifier # to avoid overfitting"
   ]
  },
  {
   "cell_type": "markdown",
   "metadata": {},
   "source": [
    "## Defense Technique : BinaryInputDetector"
   ]
  },
  {
   "cell_type": "code",
   "execution_count": 31,
   "metadata": {},
   "outputs": [],
   "source": [
    "bn = BinaryInputDetector(ann_based_classifier) \n",
    "####Binary detector of adversarial samples coming from evasion attacks. \n",
    "# The detector uses an architecture provided by the user and trains it on\n",
    "# data labeled as clean (label 0) or adversarial (label 1)."
   ]
  },
  {
   "cell_type": "code",
   "execution_count": 32,
   "metadata": {},
   "outputs": [
    {
     "name": "stdout",
     "output_type": "stream",
     "text": [
      "Epoch 1/20\n",
      "50000/50000 [==============================] - 5s 102us/step - loss: 0.0065 - acc: 0.9981\n",
      "Epoch 2/20\n",
      "50000/50000 [==============================] - 5s 106us/step - loss: 0.0013 - acc: 0.9997\n",
      "Epoch 3/20\n",
      "50000/50000 [==============================] - 5s 107us/step - loss: 3.4769e-04 - acc: 0.9999\n",
      "Epoch 4/20\n",
      "50000/50000 [==============================] - 5s 108us/step - loss: 1.0959e-04 - acc: 1.0000\n",
      "Epoch 5/20\n",
      "50000/50000 [==============================] - 5s 109us/step - loss: 3.9144e-05 - acc: 1.0000\n",
      "Epoch 6/20\n",
      "50000/50000 [==============================] - 5s 110us/step - loss: 2.2427e-05 - acc: 1.0000\n",
      "Epoch 7/20\n",
      "50000/50000 [==============================] - 6s 110us/step - loss: 1.4810e-05 - acc: 1.0000\n",
      "Epoch 8/20\n",
      "50000/50000 [==============================] - 6s 111us/step - loss: 9.0800e-06 - acc: 1.0000\n",
      "Epoch 9/20\n",
      "50000/50000 [==============================] - 6s 112us/step - loss: 4.3843e-06 - acc: 1.0000\n",
      "Epoch 10/20\n",
      "50000/50000 [==============================] - 6s 112us/step - loss: 2.6541e-06 - acc: 1.0000\n",
      "Epoch 11/20\n",
      "50000/50000 [==============================] - 6s 114us/step - loss: 1.7401e-06 - acc: 1.0000\n",
      "Epoch 12/20\n",
      "50000/50000 [==============================] - 6s 112us/step - loss: 1.2388e-06 - acc: 1.0000\n",
      "Epoch 13/20\n",
      "50000/50000 [==============================] - 6s 113us/step - loss: 8.9801e-07 - acc: 1.0000\n",
      "Epoch 14/20\n",
      "50000/50000 [==============================] - 6s 114us/step - loss: 6.6364e-07 - acc: 1.0000\n",
      "Epoch 15/20\n",
      "50000/50000 [==============================] - 6s 114us/step - loss: 5.2798e-07 - acc: 1.0000\n",
      "Epoch 16/20\n",
      "50000/50000 [==============================] - 6s 115us/step - loss: 3.9799e-07 - acc: 1.0000\n",
      "Epoch 17/20\n",
      "50000/50000 [==============================] - 6s 114us/step - loss: 3.2425e-07 - acc: 1.0000\n",
      "Epoch 18/20\n",
      "50000/50000 [==============================] - 6s 118us/step - loss: 2.4599e-07 - acc: 1.0000\n",
      "Epoch 19/20\n",
      "50000/50000 [==============================] - 6s 116us/step - loss: 2.0595e-07 - acc: 1.0000\n",
      "Epoch 20/20\n",
      "50000/50000 [==============================] - 6s 115us/step - loss: 1.6924e-07 - acc: 1.0000\n"
     ]
    }
   ],
   "source": [
    "bn.fit(final_train_x, final_train_y)"
   ]
  },
  {
   "cell_type": "code",
   "execution_count": 33,
   "metadata": {},
   "outputs": [],
   "source": [
    "bn_pred = bn.predict(final_test_x)"
   ]
  },
  {
   "cell_type": "code",
   "execution_count": 34,
   "metadata": {},
   "outputs": [
    {
     "name": "stdout",
     "output_type": "stream",
     "text": [
      "accuracy of raw model  0.965\n",
      "accuracy of defense-enhanced model  0.982\n",
      "Classification Accuracy Variance (CAV) 0.017000000000000015\n",
      "Classification Rectify Ratio (CRR) 0.019\n",
      "Classification Sacrifice Ratio (CSR) 0.002\n",
      "Classification Confidence Variance(CCV) 0.0067272387\n",
      "Classification Output Stability (COS) 0.002612395757895161\n"
     ]
    }
   ],
   "source": [
    "defense_utility_measure(bn_pred,raw_predictions,true_label)"
   ]
  },
  {
   "cell_type": "markdown",
   "metadata": {},
   "source": [
    "## Defense Technique: SpatialSmoothing"
   ]
  },
  {
   "cell_type": "code",
   "execution_count": 35,
   "metadata": {},
   "outputs": [],
   "source": [
    "# SpatialSmoothing\n",
    "sm = SpatialSmoothing()"
   ]
  },
  {
   "cell_type": "code",
   "execution_count": 36,
   "metadata": {},
   "outputs": [],
   "source": [
    "# generating new training and test set after applying spatial smoothing\n",
    "\n",
    "x_art_def, _ = sm(final_train_x)\n",
    "x_art_adv_def, _ = sm(final_test_x)"
   ]
  },
  {
   "cell_type": "code",
   "execution_count": 37,
   "metadata": {},
   "outputs": [
    {
     "name": "stdout",
     "output_type": "stream",
     "text": [
      "Epoch 1/20\n",
      "50000/50000 [==============================] - 5s 102us/step - loss: 0.0454 - acc: 0.9882\n",
      "Epoch 2/20\n",
      "50000/50000 [==============================] - 5s 108us/step - loss: 0.0113 - acc: 0.9966\n",
      "Epoch 3/20\n",
      "50000/50000 [==============================] - 5s 105us/step - loss: 0.0074 - acc: 0.9977\n",
      "Epoch 4/20\n",
      "50000/50000 [==============================] - 5s 107us/step - loss: 0.0057 - acc: 0.9980\n",
      "Epoch 5/20\n",
      "50000/50000 [==============================] - 5s 108us/step - loss: 0.0093 - acc: 0.9974\n",
      "Epoch 6/20\n",
      "50000/50000 [==============================] - 6s 110us/step - loss: 0.0067 - acc: 0.9981\n",
      "Epoch 7/20\n",
      "50000/50000 [==============================] - 6s 110us/step - loss: 0.0057 - acc: 0.9983\n",
      "Epoch 8/20\n",
      "50000/50000 [==============================] - 6s 111us/step - loss: 0.0040 - acc: 0.9986\n",
      "Epoch 9/20\n",
      "50000/50000 [==============================] - 6s 112us/step - loss: 0.0061 - acc: 0.9981\n",
      "Epoch 10/20\n",
      "50000/50000 [==============================] - 6s 112us/step - loss: 0.0043 - acc: 0.9986\n",
      "Epoch 11/20\n",
      "50000/50000 [==============================] - 6s 112us/step - loss: 0.0077 - acc: 0.9981\n",
      "Epoch 12/20\n",
      "50000/50000 [==============================] - 6s 115us/step - loss: 0.0027 - acc: 0.9992\n",
      "Epoch 13/20\n",
      "50000/50000 [==============================] - 6s 115us/step - loss: 0.0036 - acc: 0.9993\n",
      "Epoch 14/20\n",
      "50000/50000 [==============================] - 6s 115us/step - loss: 0.0070 - acc: 0.9978\n",
      "Epoch 15/20\n",
      "50000/50000 [==============================] - 6s 118us/step - loss: 0.0042 - acc: 0.9987\n",
      "Epoch 16/20\n",
      "50000/50000 [==============================] - 6s 116us/step - loss: 0.0053 - acc: 0.9988\n",
      "Epoch 17/20\n",
      "50000/50000 [==============================] - 6s 115us/step - loss: 0.0012 - acc: 0.9997\n",
      "Epoch 18/20\n",
      "50000/50000 [==============================] - 6s 115us/step - loss: 0.0019 - acc: 0.9995\n",
      "Epoch 19/20\n",
      "50000/50000 [==============================] - 6s 116us/step - loss: 0.0100 - acc: 0.9976\n",
      "Epoch 20/20\n",
      "50000/50000 [==============================] - 6s 120us/step - loss: 0.0045 - acc: 0.9985\n"
     ]
    }
   ],
   "source": [
    "new_network.fit(x_art_def,final_train_y)"
   ]
  },
  {
   "cell_type": "code",
   "execution_count": 38,
   "metadata": {},
   "outputs": [],
   "source": [
    "# prediction after applying spatial smooting on train and test set\n",
    "sm_pred = new_network.predict(x_art_adv_def)"
   ]
  },
  {
   "cell_type": "code",
   "execution_count": 39,
   "metadata": {},
   "outputs": [
    {
     "name": "stdout",
     "output_type": "stream",
     "text": [
      "accuracy of raw model  0.965\n",
      "accuracy of defense-enhanced model  0.975\n",
      "Classification Accuracy Variance (CAV) 0.010000000000000009\n",
      "Classification Rectify Ratio (CRR) 0.017\n",
      "Classification Sacrifice Ratio (CSR) 0.007\n",
      "Classification Confidence Variance(CCV) 0.007634353\n",
      "Classification Output Stability (COS) 0.0028271929212442862\n"
     ]
    }
   ],
   "source": [
    "defense_utility_measure(sm_pred,raw_predictions,true_label)"
   ]
  },
  {
   "cell_type": "markdown",
   "metadata": {},
   "source": [
    "## Defense Technique: FeatureSqueezing"
   ]
  },
  {
   "cell_type": "code",
   "execution_count": 40,
   "metadata": {},
   "outputs": [],
   "source": [
    "# FeatureSqueezing Process\n",
    "\n",
    "fs = FeatureSqueezing(clip_values=(0,1))"
   ]
  },
  {
   "cell_type": "code",
   "execution_count": 41,
   "metadata": {},
   "outputs": [],
   "source": [
    "# generating training and test data after applying feature squeezing\n",
    "x_fs,_ = fs(final_train_x)\n",
    "x_adv_fs,_ = fs(final_test_x)"
   ]
  },
  {
   "cell_type": "code",
   "execution_count": 42,
   "metadata": {},
   "outputs": [
    {
     "name": "stdout",
     "output_type": "stream",
     "text": [
      "Epoch 1/20\n",
      "50000/50000 [==============================] - 5s 103us/step - loss: 7.4119e-04 - acc: 0.9998\n",
      "Epoch 2/20\n",
      "50000/50000 [==============================] - 6s 110us/step - loss: 0.0039 - acc: 0.9991\n",
      "Epoch 3/20\n",
      "50000/50000 [==============================] - 5s 108us/step - loss: 0.0089 - acc: 0.9981\n",
      "Epoch 4/20\n",
      "50000/50000 [==============================] - 5s 109us/step - loss: 0.0027 - acc: 0.9993\n",
      "Epoch 5/20\n",
      "50000/50000 [==============================] - 6s 112us/step - loss: 7.1599e-04 - acc: 0.9998\n",
      "Epoch 6/20\n",
      "50000/50000 [==============================] - 6s 112us/step - loss: 0.0054 - acc: 0.9987\n",
      "Epoch 7/20\n",
      "50000/50000 [==============================] - 6s 115us/step - loss: 0.0047 - acc: 0.9987\n",
      "Epoch 8/20\n",
      "50000/50000 [==============================] - 6s 114us/step - loss: 0.0034 - acc: 0.9990\n",
      "Epoch 9/20\n",
      "50000/50000 [==============================] - 6s 113us/step - loss: 2.4456e-04 - acc: 0.9999\n",
      "Epoch 10/20\n",
      "50000/50000 [==============================] - 6s 114us/step - loss: 2.9591e-05 - acc: 1.0000\n",
      "Epoch 11/20\n",
      "50000/50000 [==============================] - 6s 115us/step - loss: 9.3482e-06 - acc: 1.0000\n",
      "Epoch 12/20\n",
      "50000/50000 [==============================] - 6s 116us/step - loss: 5.9876e-06 - acc: 1.0000\n",
      "Epoch 13/20\n",
      "50000/50000 [==============================] - 6s 118us/step - loss: 4.2126e-06 - acc: 1.0000\n",
      "Epoch 14/20\n",
      "50000/50000 [==============================] - 6s 117us/step - loss: 2.9969e-06 - acc: 1.0000\n",
      "Epoch 15/20\n",
      "50000/50000 [==============================] - 6s 116us/step - loss: 1.8040e-06 - acc: 1.0000\n",
      "Epoch 16/20\n",
      "50000/50000 [==============================] - 6s 116us/step - loss: 8.3238e-07 - acc: 1.0000\n",
      "Epoch 17/20\n",
      "50000/50000 [==============================] - 6s 116us/step - loss: 3.7417e-07 - acc: 1.0000\n",
      "Epoch 18/20\n",
      "50000/50000 [==============================] - 6s 117us/step - loss: 2.0841e-07 - acc: 1.0000\n",
      "Epoch 19/20\n",
      "50000/50000 [==============================] - 6s 117us/step - loss: 1.2720e-07 - acc: 1.0000\n",
      "Epoch 20/20\n",
      "50000/50000 [==============================] - 6s 118us/step - loss: 8.0836e-08 - acc: 1.0000\n"
     ]
    }
   ],
   "source": [
    "new_network_copy.fit(x_fs,final_train_y)"
   ]
  },
  {
   "cell_type": "code",
   "execution_count": 43,
   "metadata": {},
   "outputs": [],
   "source": [
    "fs_pred = new_network_copy.predict(x_adv_fs)"
   ]
  },
  {
   "cell_type": "code",
   "execution_count": 44,
   "metadata": {},
   "outputs": [
    {
     "name": "stdout",
     "output_type": "stream",
     "text": [
      "accuracy of raw model  0.965\n",
      "accuracy of defense-enhanced model  0.981\n",
      "Classification Accuracy Variance (CAV) 0.016000000000000014\n",
      "Classification Rectify Ratio (CRR) 0.02\n",
      "Classification Sacrifice Ratio (CSR) 0.004\n",
      "Classification Confidence Variance(CCV) 0.0075209243\n",
      "Classification Output Stability (COS) 0.0028430896143402102\n"
     ]
    }
   ],
   "source": [
    "defense_utility_measure(fs_pred,raw_predictions,true_label)"
   ]
  },
  {
   "cell_type": "code",
   "execution_count": null,
   "metadata": {},
   "outputs": [],
   "source": []
  }
 ],
 "metadata": {
  "kernelspec": {
   "display_name": "cs529",
   "language": "python",
   "name": "cs529"
  },
  "language_info": {
   "codemirror_mode": {
    "name": "ipython",
    "version": 3
   },
   "file_extension": ".py",
   "mimetype": "text/x-python",
   "name": "python",
   "nbconvert_exporter": "python",
   "pygments_lexer": "ipython3",
   "version": "3.7.10"
  }
 },
 "nbformat": 4,
 "nbformat_minor": 2
}
