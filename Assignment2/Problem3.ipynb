{
 "cells": [
  {
   "cell_type": "markdown",
   "id": "5373b1a0",
   "metadata": {},
   "source": [
    "# Problem3 #"
   ]
  },
  {
   "cell_type": "code",
   "execution_count": 1,
   "id": "f45e6765",
   "metadata": {},
   "outputs": [],
   "source": [
    "import numpy as np\n",
    "import pandas as pd\n",
    "import matplotlib.pyplot as plt\n",
    "import seaborn as sns\n",
    "%matplotlib inline\n",
    "import random\n",
    "random.seed(0)\n",
    "np.random.seed(0)"
   ]
  },
  {
   "cell_type": "code",
   "execution_count": 2,
   "id": "6fa8f143",
   "metadata": {},
   "outputs": [],
   "source": [
    "columns = ['Pregnancies', 'Glucose', 'BloodPressure', 'SkinThickness', 'Insulin', 'BMI'\n",
    "           , 'DiabetesPedigreeFunction', 'Age','Target']"
   ]
  },
  {
   "cell_type": "code",
   "execution_count": 3,
   "id": "19749a76",
   "metadata": {},
   "outputs": [],
   "source": [
    "# Read the data\n",
    "pima = pd.read_csv('Pima.csv',names=columns)"
   ]
  },
  {
   "cell_type": "code",
   "execution_count": 4,
   "id": "849a3a82",
   "metadata": {},
   "outputs": [
    {
     "data": {
      "text/html": [
       "<div>\n",
       "<style scoped>\n",
       "    .dataframe tbody tr th:only-of-type {\n",
       "        vertical-align: middle;\n",
       "    }\n",
       "\n",
       "    .dataframe tbody tr th {\n",
       "        vertical-align: top;\n",
       "    }\n",
       "\n",
       "    .dataframe thead th {\n",
       "        text-align: right;\n",
       "    }\n",
       "</style>\n",
       "<table border=\"1\" class=\"dataframe\">\n",
       "  <thead>\n",
       "    <tr style=\"text-align: right;\">\n",
       "      <th></th>\n",
       "      <th>Pregnancies</th>\n",
       "      <th>Glucose</th>\n",
       "      <th>BloodPressure</th>\n",
       "      <th>SkinThickness</th>\n",
       "      <th>Insulin</th>\n",
       "      <th>BMI</th>\n",
       "      <th>DiabetesPedigreeFunction</th>\n",
       "      <th>Age</th>\n",
       "      <th>Target</th>\n",
       "    </tr>\n",
       "  </thead>\n",
       "  <tbody>\n",
       "    <tr>\n",
       "      <th>0</th>\n",
       "      <td>6</td>\n",
       "      <td>148</td>\n",
       "      <td>72</td>\n",
       "      <td>35</td>\n",
       "      <td>0</td>\n",
       "      <td>33.6</td>\n",
       "      <td>0.627</td>\n",
       "      <td>50</td>\n",
       "      <td>1</td>\n",
       "    </tr>\n",
       "    <tr>\n",
       "      <th>1</th>\n",
       "      <td>1</td>\n",
       "      <td>85</td>\n",
       "      <td>66</td>\n",
       "      <td>29</td>\n",
       "      <td>0</td>\n",
       "      <td>26.6</td>\n",
       "      <td>0.351</td>\n",
       "      <td>31</td>\n",
       "      <td>0</td>\n",
       "    </tr>\n",
       "    <tr>\n",
       "      <th>2</th>\n",
       "      <td>8</td>\n",
       "      <td>183</td>\n",
       "      <td>64</td>\n",
       "      <td>0</td>\n",
       "      <td>0</td>\n",
       "      <td>23.3</td>\n",
       "      <td>0.672</td>\n",
       "      <td>32</td>\n",
       "      <td>1</td>\n",
       "    </tr>\n",
       "    <tr>\n",
       "      <th>3</th>\n",
       "      <td>1</td>\n",
       "      <td>89</td>\n",
       "      <td>66</td>\n",
       "      <td>23</td>\n",
       "      <td>94</td>\n",
       "      <td>28.1</td>\n",
       "      <td>0.167</td>\n",
       "      <td>21</td>\n",
       "      <td>0</td>\n",
       "    </tr>\n",
       "    <tr>\n",
       "      <th>4</th>\n",
       "      <td>0</td>\n",
       "      <td>137</td>\n",
       "      <td>40</td>\n",
       "      <td>35</td>\n",
       "      <td>168</td>\n",
       "      <td>43.1</td>\n",
       "      <td>2.288</td>\n",
       "      <td>33</td>\n",
       "      <td>1</td>\n",
       "    </tr>\n",
       "  </tbody>\n",
       "</table>\n",
       "</div>"
      ],
      "text/plain": [
       "   Pregnancies  Glucose  BloodPressure  SkinThickness  Insulin   BMI  \\\n",
       "0            6      148             72             35        0  33.6   \n",
       "1            1       85             66             29        0  26.6   \n",
       "2            8      183             64              0        0  23.3   \n",
       "3            1       89             66             23       94  28.1   \n",
       "4            0      137             40             35      168  43.1   \n",
       "\n",
       "   DiabetesPedigreeFunction  Age  Target  \n",
       "0                     0.627   50       1  \n",
       "1                     0.351   31       0  \n",
       "2                     0.672   32       1  \n",
       "3                     0.167   21       0  \n",
       "4                     2.288   33       1  "
      ]
     },
     "execution_count": 4,
     "metadata": {},
     "output_type": "execute_result"
    }
   ],
   "source": [
    "pima.head()"
   ]
  },
  {
   "cell_type": "code",
   "execution_count": 5,
   "id": "f35191fb",
   "metadata": {},
   "outputs": [
    {
     "name": "stdout",
     "output_type": "stream",
     "text": [
      "<class 'pandas.core.frame.DataFrame'>\n",
      "RangeIndex: 768 entries, 0 to 767\n",
      "Data columns (total 9 columns):\n",
      " #   Column                    Non-Null Count  Dtype  \n",
      "---  ------                    --------------  -----  \n",
      " 0   Pregnancies               768 non-null    int64  \n",
      " 1   Glucose                   768 non-null    int64  \n",
      " 2   BloodPressure             768 non-null    int64  \n",
      " 3   SkinThickness             768 non-null    int64  \n",
      " 4   Insulin                   768 non-null    int64  \n",
      " 5   BMI                       768 non-null    float64\n",
      " 6   DiabetesPedigreeFunction  768 non-null    float64\n",
      " 7   Age                       768 non-null    int64  \n",
      " 8   Target                    768 non-null    int64  \n",
      "dtypes: float64(2), int64(7)\n",
      "memory usage: 54.1 KB\n"
     ]
    }
   ],
   "source": [
    "# Data information (columns and rows)\n",
    "pima.info()"
   ]
  },
  {
   "cell_type": "code",
   "execution_count": 6,
   "id": "701f4440",
   "metadata": {},
   "outputs": [
    {
     "data": {
      "text/html": [
       "<div>\n",
       "<style scoped>\n",
       "    .dataframe tbody tr th:only-of-type {\n",
       "        vertical-align: middle;\n",
       "    }\n",
       "\n",
       "    .dataframe tbody tr th {\n",
       "        vertical-align: top;\n",
       "    }\n",
       "\n",
       "    .dataframe thead th {\n",
       "        text-align: right;\n",
       "    }\n",
       "</style>\n",
       "<table border=\"1\" class=\"dataframe\">\n",
       "  <thead>\n",
       "    <tr style=\"text-align: right;\">\n",
       "      <th></th>\n",
       "      <th>Pregnancies</th>\n",
       "      <th>Glucose</th>\n",
       "      <th>BloodPressure</th>\n",
       "      <th>SkinThickness</th>\n",
       "      <th>Insulin</th>\n",
       "      <th>BMI</th>\n",
       "      <th>DiabetesPedigreeFunction</th>\n",
       "      <th>Age</th>\n",
       "      <th>Target</th>\n",
       "    </tr>\n",
       "  </thead>\n",
       "  <tbody>\n",
       "    <tr>\n",
       "      <th>count</th>\n",
       "      <td>768.000000</td>\n",
       "      <td>768.000000</td>\n",
       "      <td>768.000000</td>\n",
       "      <td>768.000000</td>\n",
       "      <td>768.000000</td>\n",
       "      <td>768.000000</td>\n",
       "      <td>768.000000</td>\n",
       "      <td>768.000000</td>\n",
       "      <td>768.000000</td>\n",
       "    </tr>\n",
       "    <tr>\n",
       "      <th>mean</th>\n",
       "      <td>3.845052</td>\n",
       "      <td>120.894531</td>\n",
       "      <td>69.105469</td>\n",
       "      <td>20.536458</td>\n",
       "      <td>79.799479</td>\n",
       "      <td>31.992578</td>\n",
       "      <td>0.471876</td>\n",
       "      <td>33.240885</td>\n",
       "      <td>0.348958</td>\n",
       "    </tr>\n",
       "    <tr>\n",
       "      <th>std</th>\n",
       "      <td>3.369578</td>\n",
       "      <td>31.972618</td>\n",
       "      <td>19.355807</td>\n",
       "      <td>15.952218</td>\n",
       "      <td>115.244002</td>\n",
       "      <td>7.884160</td>\n",
       "      <td>0.331329</td>\n",
       "      <td>11.760232</td>\n",
       "      <td>0.476951</td>\n",
       "    </tr>\n",
       "    <tr>\n",
       "      <th>min</th>\n",
       "      <td>0.000000</td>\n",
       "      <td>0.000000</td>\n",
       "      <td>0.000000</td>\n",
       "      <td>0.000000</td>\n",
       "      <td>0.000000</td>\n",
       "      <td>0.000000</td>\n",
       "      <td>0.078000</td>\n",
       "      <td>21.000000</td>\n",
       "      <td>0.000000</td>\n",
       "    </tr>\n",
       "    <tr>\n",
       "      <th>25%</th>\n",
       "      <td>1.000000</td>\n",
       "      <td>99.000000</td>\n",
       "      <td>62.000000</td>\n",
       "      <td>0.000000</td>\n",
       "      <td>0.000000</td>\n",
       "      <td>27.300000</td>\n",
       "      <td>0.243750</td>\n",
       "      <td>24.000000</td>\n",
       "      <td>0.000000</td>\n",
       "    </tr>\n",
       "    <tr>\n",
       "      <th>50%</th>\n",
       "      <td>3.000000</td>\n",
       "      <td>117.000000</td>\n",
       "      <td>72.000000</td>\n",
       "      <td>23.000000</td>\n",
       "      <td>30.500000</td>\n",
       "      <td>32.000000</td>\n",
       "      <td>0.372500</td>\n",
       "      <td>29.000000</td>\n",
       "      <td>0.000000</td>\n",
       "    </tr>\n",
       "    <tr>\n",
       "      <th>75%</th>\n",
       "      <td>6.000000</td>\n",
       "      <td>140.250000</td>\n",
       "      <td>80.000000</td>\n",
       "      <td>32.000000</td>\n",
       "      <td>127.250000</td>\n",
       "      <td>36.600000</td>\n",
       "      <td>0.626250</td>\n",
       "      <td>41.000000</td>\n",
       "      <td>1.000000</td>\n",
       "    </tr>\n",
       "    <tr>\n",
       "      <th>max</th>\n",
       "      <td>17.000000</td>\n",
       "      <td>199.000000</td>\n",
       "      <td>122.000000</td>\n",
       "      <td>99.000000</td>\n",
       "      <td>846.000000</td>\n",
       "      <td>67.100000</td>\n",
       "      <td>2.420000</td>\n",
       "      <td>81.000000</td>\n",
       "      <td>1.000000</td>\n",
       "    </tr>\n",
       "  </tbody>\n",
       "</table>\n",
       "</div>"
      ],
      "text/plain": [
       "       Pregnancies     Glucose  BloodPressure  SkinThickness     Insulin  \\\n",
       "count   768.000000  768.000000     768.000000     768.000000  768.000000   \n",
       "mean      3.845052  120.894531      69.105469      20.536458   79.799479   \n",
       "std       3.369578   31.972618      19.355807      15.952218  115.244002   \n",
       "min       0.000000    0.000000       0.000000       0.000000    0.000000   \n",
       "25%       1.000000   99.000000      62.000000       0.000000    0.000000   \n",
       "50%       3.000000  117.000000      72.000000      23.000000   30.500000   \n",
       "75%       6.000000  140.250000      80.000000      32.000000  127.250000   \n",
       "max      17.000000  199.000000     122.000000      99.000000  846.000000   \n",
       "\n",
       "              BMI  DiabetesPedigreeFunction         Age      Target  \n",
       "count  768.000000                768.000000  768.000000  768.000000  \n",
       "mean    31.992578                  0.471876   33.240885    0.348958  \n",
       "std      7.884160                  0.331329   11.760232    0.476951  \n",
       "min      0.000000                  0.078000   21.000000    0.000000  \n",
       "25%     27.300000                  0.243750   24.000000    0.000000  \n",
       "50%     32.000000                  0.372500   29.000000    0.000000  \n",
       "75%     36.600000                  0.626250   41.000000    1.000000  \n",
       "max     67.100000                  2.420000   81.000000    1.000000  "
      ]
     },
     "execution_count": 6,
     "metadata": {},
     "output_type": "execute_result"
    }
   ],
   "source": [
    "# Data Statistics\n",
    "pima.describe()"
   ]
  },
  {
   "cell_type": "code",
   "execution_count": 7,
   "id": "1c8bc2ff",
   "metadata": {},
   "outputs": [
    {
     "data": {
      "text/plain": [
       "Text(0.5, 1.0, 'Histogram of Labels')"
      ]
     },
     "execution_count": 7,
     "metadata": {},
     "output_type": "execute_result"
    },
    {
     "data": {
      "image/png": "[encoded data removed]",
      "text/plain": [
       "<Figure size 432x288 with 1 Axes>"
      ]
     },
     "metadata": {
      "needs_background": "light"
     },
     "output_type": "display_data"
    }
   ],
   "source": [
    "# Histogram of labels\n",
    "sns.countplot(x='Target',data=pima)\n",
    "plt.title(\"Histogram of Labels\")"
   ]
  },
  {
   "cell_type": "code",
   "execution_count": 8,
   "id": "93ec545f",
   "metadata": {},
   "outputs": [],
   "source": [
    "from sklearn.model_selection import train_test_split\n",
    "from sklearn.neighbors import KNeighborsClassifier\n",
    "from sklearn.model_selection import cross_val_score\n",
    "from sklearn.metrics import confusion_matrix"
   ]
  },
  {
   "cell_type": "code",
   "execution_count": 9,
   "id": "e1913835",
   "metadata": {},
   "outputs": [],
   "source": [
    "X=pima.iloc[:,:8]\n",
    "y = pima.iloc[:,8:]\n",
    "accuracy=[]\n",
    "error=[]"
   ]
  },
  {
   "cell_type": "code",
   "execution_count": 10,
   "id": "608ac410",
   "metadata": {},
   "outputs": [],
   "source": [
    "# 2. Splitting the data (training (80%) and test (20%))\n",
    "X_train, X_test, y_train, y_test = train_test_split(X, y, test_size=0.2)"
   ]
  },
  {
   "cell_type": "code",
   "execution_count": 11,
   "id": "670e06fc",
   "metadata": {},
   "outputs": [
    {
     "name": "stdout",
     "output_type": "stream",
     "text": [
      "k =  1\n",
      "[0.6504065  0.68292683 0.69105691 0.67479675 0.63114754]\n",
      "mean accuracy for k =  1 is :  0.6660669065707051\n",
      "*******************\n",
      "k =  2\n",
      "[0.65853659 0.69918699 0.72357724 0.69918699 0.69672131]\n",
      "mean accuracy for k =  2 is :  0.6954418232706917\n",
      "*******************\n",
      "k =  3\n",
      "[0.67479675 0.68292683 0.68292683 0.64227642 0.69672131]\n",
      "mean accuracy for k =  3 is :  0.6759296281487407\n",
      "*******************\n",
      "k =  4\n",
      "[0.67479675 0.70731707 0.65853659 0.69105691 0.72131148]\n",
      "mean accuracy for k =  4 is :  0.6906037584966013\n",
      "*******************\n",
      "k =  5\n",
      "[0.70731707 0.69918699 0.67479675 0.69105691 0.7704918 ]\n",
      "mean accuracy for k =  5 is :  0.7085699053711847\n",
      "*******************\n",
      "k =  6\n",
      "[0.69105691 0.73170732 0.7398374  0.69105691 0.7704918 ]\n",
      "mean accuracy for k =  6 is :  0.7248300679728109\n",
      "*******************\n",
      "k =  7\n",
      "[0.72357724 0.72357724 0.70731707 0.68292683 0.76229508]\n",
      "mean accuracy for k =  7 is :  0.7199386911901906\n",
      "*******************\n",
      "k =  8\n",
      "[0.69105691 0.72357724 0.74796748 0.70731707 0.72131148]\n",
      "mean accuracy for k =  8 is :  0.7182460349193656\n",
      "*******************\n",
      "k =  9\n",
      "[0.72357724 0.71544715 0.69105691 0.71544715 0.7295082 ]\n",
      "mean accuracy for k =  9 is :  0.7150073304011728\n",
      "*******************\n",
      "k =  10\n",
      "[0.69105691 0.73170732 0.73170732 0.69918699 0.74590164]\n",
      "mean accuracy for k =  10 is :  0.7199120351859256\n",
      "*******************\n",
      "k =  11\n",
      "[0.69105691 0.73170732 0.75609756 0.69105691 0.75409836]\n",
      "mean accuracy for k =  11 is :  0.7248034119685458\n",
      "*******************\n",
      "k =  12\n",
      "[0.66666667 0.74796748 0.75609756 0.69105691 0.7295082 ]\n",
      "mean accuracy for k =  12 is :  0.7182593629214982\n",
      "*******************\n",
      "k =  13\n",
      "[0.68292683 0.72357724 0.7398374  0.69105691 0.73770492]\n",
      "mean accuracy for k =  13 is :  0.7150206584033054\n",
      "*******************\n",
      "k =  14\n",
      "[0.68292683 0.7398374  0.7398374  0.71544715 0.74590164]\n",
      "mean accuracy for k =  14 is :  0.7247900839664134\n",
      "*******************\n",
      "k =  15\n",
      "[0.68292683 0.69918699 0.74796748 0.70731707 0.74590164]\n",
      "mean accuracy for k =  15 is :  0.7166600026656005\n",
      "*******************\n"
     ]
    }
   ],
   "source": [
    "# K Value Between 1 and 15\n",
    "for k in range(1,16):\n",
    "    print(\"k = \",k)\n",
    "    knn = KNeighborsClassifier(n_neighbors = k)\n",
    "    scores = cross_val_score(knn, X_train, y_train.values.ravel(), cv=5, scoring='accuracy') # cv=5 -> no of folds\n",
    "    print(scores)\n",
    "    acc = scores.mean()\n",
    "    print(\"mean accuracy for k = \",k,\"is : \",acc)\n",
    "    accuracy.append(acc)\n",
    "    print(\"*******************\")\n",
    "    error.append(1-acc)"
   ]
  },
  {
   "cell_type": "code",
   "execution_count": 12,
   "id": "8a9c5033",
   "metadata": {},
   "outputs": [
    {
     "name": "stdout",
     "output_type": "stream",
     "text": [
      "[0.6660669065707051, 0.6954418232706917, 0.6759296281487407, 0.6906037584966013, 0.7085699053711847, 0.7248300679728109, 0.7199386911901906, 0.7182460349193656, 0.7150073304011728, 0.7199120351859256, 0.7248034119685458, 0.7182593629214982, 0.7150206584033054, 0.7247900839664134, 0.7166600026656005]\n"
     ]
    }
   ],
   "source": [
    "print(accuracy) # accuracy for for K=1 to 16"
   ]
  },
  {
   "cell_type": "code",
   "execution_count": 13,
   "id": "5f421dea",
   "metadata": {},
   "outputs": [
    {
     "name": "stdout",
     "output_type": "stream",
     "text": [
      "[0.3339330934292949, 0.3045581767293083, 0.3240703718512593, 0.30939624150339873, 0.2914300946288153, 0.2751699320271891, 0.2800613088098094, 0.28175396508063444, 0.2849926695988272, 0.2800879648140744, 0.2751965880314542, 0.28174063707850183, 0.2849793415966946, 0.2752099160335866, 0.2833399973343995]\n"
     ]
    }
   ],
   "source": [
    "# cross validation error for K=1 to 16\n",
    "print(error)"
   ]
  },
  {
   "cell_type": "code",
   "execution_count": 15,
   "id": "0eb83db7",
   "metadata": {},
   "outputs": [
    {
     "data": {
      "image/png": "[encoded data removed]",
      "text/plain": [
       "<Figure size 864x288 with 2 Axes>"
      ]
     },
     "metadata": {
      "needs_background": "light"
     },
     "output_type": "display_data"
    }
   ],
   "source": [
    "plt.figure(figsize=(12,4))\n",
    "k_range = range(1,16)\n",
    "plt.subplot(1,2,1)\n",
    "plt.plot(k_range,accuracy)\n",
    "plt.xlabel('value of k in KNN')\n",
    "plt.ylabel('Cross-Validation Accuracy')\n",
    "plt.subplot(1,2,2)\n",
    "plt.plot(k_range,error)\n",
    "plt.xlabel('value of k in KNN')\n",
    "plt.ylabel('Cross-Validation Error')\n",
    "plt.show()"
   ]
  },
  {
   "cell_type": "markdown",
   "id": "fe1970cc",
   "metadata": {},
   "source": [
    "3. Accuracy max for K=6, for all other K values, accuracy is less. So, I will choose K=6"
   ]
  },
  {
   "cell_type": "code",
   "execution_count": 16,
   "id": "3df9b838",
   "metadata": {},
   "outputs": [
    {
     "name": "stdout",
     "output_type": "stream",
     "text": [
      "test error  0.22077922077922077\n",
      "accuracy  0.7792207792207793\n"
     ]
    }
   ],
   "source": [
    "knn = KNeighborsClassifier(n_neighbors=6)\n",
    "knn.fit(X_train,y_train.values.ravel())\n",
    "y_pred = knn.predict(X_test)\n",
    "y_true = y_test.to_numpy().flatten()\n",
    "total_error=0\n",
    "total_accuracy=0\n",
    "for j in range(len(y_pred)):\n",
    "    if y_pred[j]!=y_true[j]:\n",
    "        total_error+=1\n",
    "    else:\n",
    "        total_accuracy+=1\n",
    "print(\"test error \",total_error/len(y_pred))\n",
    "print(\"accuracy \",total_accuracy/len(y_pred))\n"
   ]
  },
  {
   "cell_type": "code",
   "execution_count": 17,
   "id": "2d2f1ffe",
   "metadata": {},
   "outputs": [],
   "source": [
    "X_train_std = (X_train-X_train.mean())/X_train.std()\n",
    "X_test_std = (X_test-X_test.mean())/X_test.std()"
   ]
  },
  {
   "cell_type": "code",
   "execution_count": 18,
   "id": "575284b4",
   "metadata": {},
   "outputs": [
    {
     "name": "stdout",
     "output_type": "stream",
     "text": [
      "test error after standardization  0.2012987012987013\n",
      "accuracy after standardization 0.7987012987012987\n"
     ]
    }
   ],
   "source": [
    "knn = KNeighborsClassifier(n_neighbors=6)\n",
    "knn.fit(X_train_std,y_train.values.ravel())\n",
    "y_pred_std = knn.predict(X_test_std)\n",
    "y_true_std = y_test.to_numpy().flatten()\n",
    "total_error_std=0\n",
    "total_correct_std=0\n",
    "for j in range(len(y_pred_std)):\n",
    "    if y_pred_std[j]!=y_true_std[j]:\n",
    "        total_error_std+=1\n",
    "    else:\n",
    "        total_correct_std+=1\n",
    "print(\"test error after standardization \",total_error_std/len(y_pred_std))\n",
    "print(\"accuracy after standardization\", total_correct_std/len(y_pred_std))"
   ]
  },
  {
   "cell_type": "markdown",
   "id": "ba7e3ef4",
   "metadata": {},
   "source": [
    "Yes, centralization and standarization impact the accuracy - because, if the value of different features are very different, then features with larger value will dominate while computing distance, hence will impact the outcome of KNN. Centralization and standardization solve this issue. Therefore, the outcome becomes more reliable. "
   ]
  },
  {
   "cell_type": "code",
   "execution_count": null,
   "id": "eb0f3012",
   "metadata": {},
   "outputs": [],
   "source": []
  }
 ],
 "metadata": {
  "kernelspec": {
   "display_name": "cs529",
   "language": "python",
   "name": "cs529"
  },
  "language_info": {
   "codemirror_mode": {
    "name": "ipython",
    "version": 3
   },
   "file_extension": ".py",
   "mimetype": "text/x-python",
   "name": "python",
   "nbconvert_exporter": "python",
   "pygments_lexer": "ipython3",
   "version": "3.7.10"
  }
 },
 "nbformat": 4,
 "nbformat_minor": 5
}
