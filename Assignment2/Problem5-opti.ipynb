{
 "cells": [
  {
   "cell_type": "code",
   "execution_count": 30,
   "id": "54922d4b",
   "metadata": {},
   "outputs": [],
   "source": [
    "import numpy as np\n",
    "import pandas as pd\n",
    "import matplotlib.pyplot as plt\n",
    "import seaborn as sns\n",
    "%matplotlib inline\n",
    "from scipy.optimize import minimize, fmin_tnc\n",
    "import warnings\n",
    "warnings.filterwarnings(\"ignore\")"
   ]
  },
  {
   "cell_type": "code",
   "execution_count": 2,
   "id": "77bf5d4b",
   "metadata": {},
   "outputs": [],
   "source": [
    "df = pd.read_csv('optdigits.tra',header=None)"
   ]
  },
  {
   "cell_type": "code",
   "execution_count": 3,
   "id": "6f1a39a4",
   "metadata": {},
   "outputs": [
    {
     "data": {
      "text/html": [
       "<div>\n",
       "<style scoped>\n",
       "    .dataframe tbody tr th:only-of-type {\n",
       "        vertical-align: middle;\n",
       "    }\n",
       "\n",
       "    .dataframe tbody tr th {\n",
       "        vertical-align: top;\n",
       "    }\n",
       "\n",
       "    .dataframe thead th {\n",
       "        text-align: right;\n",
       "    }\n",
       "</style>\n",
       "<table border=\"1\" class=\"dataframe\">\n",
       "  <thead>\n",
       "    <tr style=\"text-align: right;\">\n",
       "      <th></th>\n",
       "      <th>0</th>\n",
       "      <th>1</th>\n",
       "      <th>2</th>\n",
       "      <th>3</th>\n",
       "      <th>4</th>\n",
       "      <th>5</th>\n",
       "      <th>6</th>\n",
       "      <th>7</th>\n",
       "      <th>8</th>\n",
       "      <th>9</th>\n",
       "      <th>...</th>\n",
       "      <th>55</th>\n",
       "      <th>56</th>\n",
       "      <th>57</th>\n",
       "      <th>58</th>\n",
       "      <th>59</th>\n",
       "      <th>60</th>\n",
       "      <th>61</th>\n",
       "      <th>62</th>\n",
       "      <th>63</th>\n",
       "      <th>64</th>\n",
       "    </tr>\n",
       "  </thead>\n",
       "  <tbody>\n",
       "    <tr>\n",
       "      <th>0</th>\n",
       "      <td>0</td>\n",
       "      <td>1</td>\n",
       "      <td>6</td>\n",
       "      <td>15</td>\n",
       "      <td>12</td>\n",
       "      <td>1</td>\n",
       "      <td>0</td>\n",
       "      <td>0</td>\n",
       "      <td>0</td>\n",
       "      <td>7</td>\n",
       "      <td>...</td>\n",
       "      <td>0</td>\n",
       "      <td>0</td>\n",
       "      <td>0</td>\n",
       "      <td>6</td>\n",
       "      <td>14</td>\n",
       "      <td>7</td>\n",
       "      <td>1</td>\n",
       "      <td>0</td>\n",
       "      <td>0</td>\n",
       "      <td>0</td>\n",
       "    </tr>\n",
       "    <tr>\n",
       "      <th>1</th>\n",
       "      <td>0</td>\n",
       "      <td>0</td>\n",
       "      <td>10</td>\n",
       "      <td>16</td>\n",
       "      <td>6</td>\n",
       "      <td>0</td>\n",
       "      <td>0</td>\n",
       "      <td>0</td>\n",
       "      <td>0</td>\n",
       "      <td>7</td>\n",
       "      <td>...</td>\n",
       "      <td>0</td>\n",
       "      <td>0</td>\n",
       "      <td>0</td>\n",
       "      <td>10</td>\n",
       "      <td>16</td>\n",
       "      <td>15</td>\n",
       "      <td>3</td>\n",
       "      <td>0</td>\n",
       "      <td>0</td>\n",
       "      <td>0</td>\n",
       "    </tr>\n",
       "    <tr>\n",
       "      <th>2</th>\n",
       "      <td>0</td>\n",
       "      <td>0</td>\n",
       "      <td>8</td>\n",
       "      <td>15</td>\n",
       "      <td>16</td>\n",
       "      <td>13</td>\n",
       "      <td>0</td>\n",
       "      <td>0</td>\n",
       "      <td>0</td>\n",
       "      <td>1</td>\n",
       "      <td>...</td>\n",
       "      <td>0</td>\n",
       "      <td>0</td>\n",
       "      <td>0</td>\n",
       "      <td>9</td>\n",
       "      <td>14</td>\n",
       "      <td>0</td>\n",
       "      <td>0</td>\n",
       "      <td>0</td>\n",
       "      <td>0</td>\n",
       "      <td>7</td>\n",
       "    </tr>\n",
       "    <tr>\n",
       "      <th>3</th>\n",
       "      <td>0</td>\n",
       "      <td>0</td>\n",
       "      <td>0</td>\n",
       "      <td>3</td>\n",
       "      <td>11</td>\n",
       "      <td>16</td>\n",
       "      <td>0</td>\n",
       "      <td>0</td>\n",
       "      <td>0</td>\n",
       "      <td>0</td>\n",
       "      <td>...</td>\n",
       "      <td>0</td>\n",
       "      <td>0</td>\n",
       "      <td>0</td>\n",
       "      <td>0</td>\n",
       "      <td>1</td>\n",
       "      <td>15</td>\n",
       "      <td>2</td>\n",
       "      <td>0</td>\n",
       "      <td>0</td>\n",
       "      <td>4</td>\n",
       "    </tr>\n",
       "    <tr>\n",
       "      <th>4</th>\n",
       "      <td>0</td>\n",
       "      <td>0</td>\n",
       "      <td>5</td>\n",
       "      <td>14</td>\n",
       "      <td>4</td>\n",
       "      <td>0</td>\n",
       "      <td>0</td>\n",
       "      <td>0</td>\n",
       "      <td>0</td>\n",
       "      <td>0</td>\n",
       "      <td>...</td>\n",
       "      <td>0</td>\n",
       "      <td>0</td>\n",
       "      <td>0</td>\n",
       "      <td>4</td>\n",
       "      <td>12</td>\n",
       "      <td>14</td>\n",
       "      <td>7</td>\n",
       "      <td>0</td>\n",
       "      <td>0</td>\n",
       "      <td>6</td>\n",
       "    </tr>\n",
       "  </tbody>\n",
       "</table>\n",
       "<p>5 rows × 65 columns</p>\n",
       "</div>"
      ],
      "text/plain": [
       "   0   1   2   3   4   5   6   7   8   9   ...  55  56  57  58  59  60  61  \\\n",
       "0   0   1   6  15  12   1   0   0   0   7  ...   0   0   0   6  14   7   1   \n",
       "1   0   0  10  16   6   0   0   0   0   7  ...   0   0   0  10  16  15   3   \n",
       "2   0   0   8  15  16  13   0   0   0   1  ...   0   0   0   9  14   0   0   \n",
       "3   0   0   0   3  11  16   0   0   0   0  ...   0   0   0   0   1  15   2   \n",
       "4   0   0   5  14   4   0   0   0   0   0  ...   0   0   0   4  12  14   7   \n",
       "\n",
       "   62  63  64  \n",
       "0   0   0   0  \n",
       "1   0   0   0  \n",
       "2   0   0   7  \n",
       "3   0   0   4  \n",
       "4   0   0   6  \n",
       "\n",
       "[5 rows x 65 columns]"
      ]
     },
     "execution_count": 3,
     "metadata": {},
     "output_type": "execute_result"
    }
   ],
   "source": [
    "df.head()"
   ]
  },
  {
   "cell_type": "code",
   "execution_count": 4,
   "id": "f8c39198",
   "metadata": {},
   "outputs": [],
   "source": [
    "df_feat = df.iloc[:,:64]"
   ]
  },
  {
   "cell_type": "code",
   "execution_count": 5,
   "id": "20f74989",
   "metadata": {},
   "outputs": [],
   "source": [
    "df_out = df.iloc[:,64]"
   ]
  },
  {
   "cell_type": "code",
   "execution_count": 6,
   "id": "76703e46",
   "metadata": {},
   "outputs": [],
   "source": [
    "X_train = np.c_[np.ones((df_feat.shape[0], 1)), df_feat]"
   ]
  },
  {
   "cell_type": "code",
   "execution_count": 7,
   "id": "d29a6230",
   "metadata": {},
   "outputs": [
    {
     "data": {
      "text/plain": [
       "array([[ 1.,  0.,  1., ...,  1.,  0.,  0.],\n",
       "       [ 1.,  0.,  0., ...,  3.,  0.,  0.],\n",
       "       [ 1.,  0.,  0., ...,  0.,  0.,  0.],\n",
       "       ...,\n",
       "       [ 1.,  0.,  0., ...,  9.,  0.,  0.],\n",
       "       [ 1.,  0.,  0., ..., 16.,  5.,  0.],\n",
       "       [ 1.,  0.,  0., ...,  0.,  0.,  0.]])"
      ]
     },
     "execution_count": 7,
     "metadata": {},
     "output_type": "execute_result"
    }
   ],
   "source": [
    "X_train"
   ]
  },
  {
   "cell_type": "code",
   "execution_count": 8,
   "id": "3141f157",
   "metadata": {},
   "outputs": [],
   "source": [
    "y = np.array(df_out)[:, np.newaxis]"
   ]
  },
  {
   "cell_type": "code",
   "execution_count": 9,
   "id": "addb7b18",
   "metadata": {},
   "outputs": [
    {
     "data": {
      "text/plain": [
       "(3823, 65)"
      ]
     },
     "execution_count": 9,
     "metadata": {},
     "output_type": "execute_result"
    }
   ],
   "source": [
    "X_train.shape"
   ]
  },
  {
   "cell_type": "code",
   "execution_count": 10,
   "id": "6629b26f",
   "metadata": {},
   "outputs": [
    {
     "data": {
      "text/plain": [
       "(3823, 1)"
      ]
     },
     "execution_count": 10,
     "metadata": {},
     "output_type": "execute_result"
    }
   ],
   "source": [
    "y.shape"
   ]
  },
  {
   "cell_type": "code",
   "execution_count": 11,
   "id": "0e937f03",
   "metadata": {},
   "outputs": [],
   "source": [
    "def y_change(y, cl):\n",
    "    y_pr=[]\n",
    "    for i in range(0, len(y)):\n",
    "        if y[i] == cl:\n",
    "            y_pr.append(1)\n",
    "        else:\n",
    "            y_pr.append(0)\n",
    "    return y_pr"
   ]
  },
  {
   "cell_type": "code",
   "execution_count": 12,
   "id": "03fbf3b1",
   "metadata": {},
   "outputs": [],
   "source": [
    "def hypothesis(X, theta):\n",
    "    z = np.dot(X, theta)\n",
    "    return 1/(1+np.exp(-(z)))"
   ]
  },
  {
   "cell_type": "code",
   "execution_count": 13,
   "id": "74d15763",
   "metadata": {},
   "outputs": [],
   "source": [
    "def cost_function(theta, X, y):\n",
    "    m = X.shape[0]\n",
    "    y1 = hypothesis(X, theta)\n",
    "    return -(1/len(X)) * np.sum(y*np.log(y1) + (1-y)*np.log(1-y1))"
   ]
  },
  {
   "cell_type": "code",
   "execution_count": 14,
   "id": "4557e3d0",
   "metadata": {},
   "outputs": [],
   "source": [
    "# update theta\n",
    "def gradient(theta, X, y):\n",
    "    m = X.shape[0]\n",
    "    y1 = hypothesis(X, theta)\n",
    "    return (1/m) * np.dot(X.T, y1 - y)"
   ]
  },
  {
   "cell_type": "code",
   "execution_count": 31,
   "id": "a8f3cae2",
   "metadata": {},
   "outputs": [],
   "source": [
    "theta = np.zeros((X_train.shape[1], 1))"
   ]
  },
  {
   "cell_type": "code",
   "execution_count": 19,
   "id": "1d544d12",
   "metadata": {},
   "outputs": [],
   "source": [
    "def fit(X, y, theta):\n",
    "    opt_weigths = fmin_tnc(func=cost_function, x0=theta,\n",
    "                          fprime=gradient, args=(X, y.flatten()))\n",
    "    return opt_weigths[0]"
   ]
  },
  {
   "cell_type": "code",
   "execution_count": 20,
   "id": "a93f013a",
   "metadata": {},
   "outputs": [],
   "source": [
    "def find_param(X, y, theta):\n",
    "    y_uniq = list(set(y.flatten()))\n",
    "    theta_list = []\n",
    "    for i in y_uniq:\n",
    "        y_tr = pd.Series(y_change(y, i))\n",
    "        y_tr = y_tr[:, np.newaxis]\n",
    "        theta1 = fit(X, y, theta)\n",
    "        theta_list.append(theta1)\n",
    "    return theta_list"
   ]
  },
  {
   "cell_type": "code",
   "execution_count": 32,
   "id": "4ca58807",
   "metadata": {},
   "outputs": [],
   "source": [
    "theta_list = find_param(X_train, y, theta)"
   ]
  },
  {
   "cell_type": "code",
   "execution_count": 33,
   "id": "70082e0a",
   "metadata": {},
   "outputs": [],
   "source": [
    "def predict(theta_list, X, y):\n",
    "    y_uniq = list(set(y.flatten()))\n",
    "    y_hat = [0]*len(y)\n",
    "    for i in range(0, len(y_uniq)):\n",
    "        y_tr = y_change(y, y_uniq[i])\n",
    "        y1 = hypothesis(X, theta_list[i])\n",
    "        for k in range(0, len(y)):\n",
    "            if y_tr[k] == 1 and y1[k] >= 0.5:\n",
    "                y_hat[k] = y_uniq[i]\n",
    "    return y_hat"
   ]
  },
  {
   "cell_type": "code",
   "execution_count": 34,
   "id": "a42cd560",
   "metadata": {},
   "outputs": [],
   "source": [
    "y_hat = predict(theta_list, X_train, y)"
   ]
  },
  {
   "cell_type": "code",
   "execution_count": 35,
   "id": "5d04d74f",
   "metadata": {},
   "outputs": [
    {
     "name": "stdout",
     "output_type": "stream",
     "text": [
      "100.0\n"
     ]
    }
   ],
   "source": [
    "accuracy=0\n",
    "for i in range(0, len(y)):\n",
    "    if y_hat[i] == y.flatten()[i]:\n",
    "        accuracy += 1\n",
    "print(accuracy/len(df_feat)*100)"
   ]
  },
  {
   "cell_type": "code",
   "execution_count": 44,
   "id": "6a044030",
   "metadata": {},
   "outputs": [],
   "source": [
    "df_test = pd.read_csv('optdigits.tes',header=None)"
   ]
  },
  {
   "cell_type": "code",
   "execution_count": 45,
   "id": "a15d695c",
   "metadata": {},
   "outputs": [],
   "source": [
    "df_test_feat = df_test.iloc[:,:64]"
   ]
  },
  {
   "cell_type": "code",
   "execution_count": 46,
   "id": "e68a1f98",
   "metadata": {},
   "outputs": [],
   "source": [
    "df_test_out = df_test.iloc[:,64]"
   ]
  },
  {
   "cell_type": "code",
   "execution_count": 50,
   "id": "9b079d00",
   "metadata": {},
   "outputs": [],
   "source": [
    "X_test = np.c_[np.ones((df_test_feat.shape[0], 1)), df_test_feat]"
   ]
  },
  {
   "cell_type": "code",
   "execution_count": 52,
   "id": "690105ea",
   "metadata": {},
   "outputs": [],
   "source": [
    "y_test = np.array(df_test_out)[:, np.newaxis]"
   ]
  },
  {
   "cell_type": "code",
   "execution_count": 54,
   "id": "9a942ef9",
   "metadata": {},
   "outputs": [],
   "source": [
    "y_hat_test = predict(theta_list,X_test,y_test)"
   ]
  },
  {
   "cell_type": "code",
   "execution_count": 55,
   "id": "43590f50",
   "metadata": {},
   "outputs": [
    {
     "name": "stdout",
     "output_type": "stream",
     "text": [
      "100.0\n"
     ]
    }
   ],
   "source": [
    "accuracy_test=0\n",
    "for i in range(0, len(y_test)):\n",
    "    if y_hat_test[i] == y_test.flatten()[i]:\n",
    "        accuracy_test += 1\n",
    "print(accuracy_test/len(df_test_feat)*100)"
   ]
  },
  {
   "cell_type": "code",
   "execution_count": 60,
   "id": "89d7d0ea",
   "metadata": {},
   "outputs": [],
   "source": [
    "from sklearn.linear_model import LogisticRegression\n",
    "from sklearn.metrics import confusion_matrix,classification_report"
   ]
  },
  {
   "cell_type": "code",
   "execution_count": 57,
   "id": "b17ba178",
   "metadata": {},
   "outputs": [],
   "source": [
    "model = LogisticRegression()"
   ]
  },
  {
   "cell_type": "code",
   "execution_count": 58,
   "id": "ca7a03df",
   "metadata": {},
   "outputs": [
    {
     "data": {
      "text/plain": [
       "LogisticRegression()"
      ]
     },
     "execution_count": 58,
     "metadata": {},
     "output_type": "execute_result"
    }
   ],
   "source": [
    "model.fit(X_train,y)"
   ]
  },
  {
   "cell_type": "code",
   "execution_count": 59,
   "id": "76020d80",
   "metadata": {},
   "outputs": [],
   "source": [
    "y_pred = model.predict(X_test)"
   ]
  },
  {
   "cell_type": "code",
   "execution_count": 61,
   "id": "d08cb76c",
   "metadata": {},
   "outputs": [
    {
     "data": {
      "text/plain": [
       "array([[174,   0,   0,   0,   0,   4,   0,   0,   0,   0],\n",
       "       [  0, 176,   0,   0,   1,   0,   0,   0,   4,   1],\n",
       "       [  0,   4, 172,   0,   0,   0,   1,   0,   0,   0],\n",
       "       [  1,   0,   4, 168,   0,   3,   0,   1,   1,   5],\n",
       "       [  0,   2,   0,   0, 172,   0,   0,   1,   2,   4],\n",
       "       [  0,   0,   1,   1,   0, 175,   0,   1,   0,   4],\n",
       "       [  2,   0,   0,   0,   0,   0, 178,   0,   1,   0],\n",
       "       [  0,   0,   0,   0,   1,   8,   0, 161,   1,   8],\n",
       "       [  0,   7,   0,   1,   1,   3,   1,   0, 155,   6],\n",
       "       [  1,   0,   0,   0,   2,   2,   0,   0,   3, 172]])"
      ]
     },
     "execution_count": 61,
     "metadata": {},
     "output_type": "execute_result"
    }
   ],
   "source": [
    "confusion_matrix(y_test,y_pred)"
   ]
  },
  {
   "cell_type": "code",
   "execution_count": 63,
   "id": "d66945ab",
   "metadata": {},
   "outputs": [
    {
     "name": "stdout",
     "output_type": "stream",
     "text": [
      "              precision    recall  f1-score   support\n",
      "\n",
      "           0       0.98      0.98      0.98       178\n",
      "           1       0.93      0.97      0.95       182\n",
      "           2       0.97      0.97      0.97       177\n",
      "           3       0.99      0.92      0.95       183\n",
      "           4       0.97      0.95      0.96       181\n",
      "           5       0.90      0.96      0.93       182\n",
      "           6       0.99      0.98      0.99       181\n",
      "           7       0.98      0.90      0.94       179\n",
      "           8       0.93      0.89      0.91       174\n",
      "           9       0.86      0.96      0.91       180\n",
      "\n",
      "    accuracy                           0.95      1797\n",
      "   macro avg       0.95      0.95      0.95      1797\n",
      "weighted avg       0.95      0.95      0.95      1797\n",
      "\n"
     ]
    }
   ],
   "source": [
    "print(classification_report(y_test,y_pred))"
   ]
  },
  {
   "cell_type": "code",
   "execution_count": 64,
   "id": "d22098e5",
   "metadata": {},
   "outputs": [],
   "source": [
    "from sklearn.linear_model import Ridge"
   ]
  },
  {
   "cell_type": "code",
   "execution_count": 65,
   "id": "8b31fef0",
   "metadata": {},
   "outputs": [],
   "source": [
    "md = Ridge()"
   ]
  },
  {
   "cell_type": "code",
   "execution_count": null,
   "id": "7d30f9c4",
   "metadata": {},
   "outputs": [],
   "source": []
  }
 ],
 "metadata": {
  "kernelspec": {
   "display_name": "cs529",
   "language": "python",
   "name": "cs529"
  },
  "language_info": {
   "codemirror_mode": {
    "name": "ipython",
    "version": 3
   },
   "file_extension": ".py",
   "mimetype": "text/x-python",
   "name": "python",
   "nbconvert_exporter": "python",
   "pygments_lexer": "ipython3",
   "version": "3.7.10"
  }
 },
 "nbformat": 4,
 "nbformat_minor": 5
}
