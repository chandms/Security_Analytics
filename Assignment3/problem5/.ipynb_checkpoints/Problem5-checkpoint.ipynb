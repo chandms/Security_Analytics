{
 "cells": [
  {
   "cell_type": "code",
   "execution_count": null,
   "metadata": {},
   "outputs": [],
   "source": [
    "# Imports\n",
    "import keras\n",
    "import random\n",
    "import numpy as np\n",
    "import matplotlib.pyplot as plt\n",
    "\n",
    "from keras.datasets import mnist\n",
    "from keras.models import Sequential\n",
    "from keras.layers import Dense, Dropout, Flatten\n",
    "from keras.layers import Conv2D, MaxPooling2D\n",
    "from keras import backend as K\n",
    "\n",
    "from art.attacks import FastGradientMethod, BasicIterativeMethod, UniversalPerturbation, SaliencyMapMethod\n",
    "from art.classifiers import KerasClassifier\n",
    "\n",
    "# Set the random seeds. DO NOT CHANGE THIS!\n",
    "seedVal = 41\n",
    "random.seed(seedVal)\n",
    "np.random.seed(seedVal)\n",
    "\n",
    "# Defining some constants\n",
    "NUM_CLASSES = 10\n",
    "BATCH_SIZE = 64"
   ]
  },
  {
   "cell_type": "raw",
   "metadata": {},
   "source": [
    "Please use only IBM's ART library for this assignment, and not any other libraries."
   ]
  },
  {
   "cell_type": "markdown",
   "metadata": {},
   "source": [
    "## Setting up things"
   ]
  },
  {
   "cell_type": "code",
   "execution_count": null,
   "metadata": {},
   "outputs": [],
   "source": [
    "# Load the MNIST dataset\n",
    "(x_train, y_train), (x_test, y_test) = mnist.load_data()\n",
    "\n",
    "# Normalization\n",
    "x_train = keras.utils.normalize(x_train, axis=1)\n",
    "x_test = keras.utils.normalize(x_test, axis=1)\n",
    "\n",
    "# Plot an example image (after normalization) from the train set\n",
    "plt.title('Label is {}'.format(y_train[100]))\n",
    "plt.imshow(x_train[100])\n",
    "plt.show()\n",
    "\n",
    "# convert class vectors to binary class matrices\n",
    "y_train = keras.utils.to_categorical(y_train, NUM_CLASSES)\n",
    "y_test = keras.utils.to_categorical(y_test, NUM_CLASSES)\n",
    "\n",
    "K.set_image_data_format('channels_first')\n",
    "x_train = x_train.reshape(x_train.shape[0], 1, 28, 28)\n",
    "x_test = x_test.reshape(x_test.shape[0], 1, 28, 28)"
   ]
  },
  {
   "cell_type": "markdown",
   "metadata": {},
   "source": [
    "## Train CNN based model"
   ]
  },
  {
   "cell_type": "markdown",
   "metadata": {},
   "source": [
    "### You need to complete the following."
   ]
  },
  {
   "cell_type": "code",
   "execution_count": null,
   "metadata": {},
   "outputs": [],
   "source": [
    "# Define the CNN network architecture. \n",
    "cnn_based_model = Sequential()\n",
    "\n",
    "# Define the intermediate layers.\n",
    "None\n",
    "\n",
    "cnn_based_model.add(Dense(NUM_CLASSES, activation='softmax'))"
   ]
  },
  {
   "cell_type": "code",
   "execution_count": null,
   "metadata": {},
   "outputs": [],
   "source": [
    "# Compile the CNN model. \n",
    "None\n",
    "\n",
    "cnn_based_classifier = KerasClassifier(model=cnn_based_model, clip_values=(0,1))\n",
    "cnn_based_classifier.fit(x_train, y_train, nb_epochs=5, batch_size=BATCH_SIZE)\n",
    "\n",
    "# Get the predictions on the test set.\n",
    "predictions = None\n",
    "\n",
    "# Compute the accuracy on the test set.\n",
    "cnn_based_score = None\n",
    "\n",
    "print('Test accuracy:', cnn_based_score)"
   ]
  },
  {
   "cell_type": "markdown",
   "metadata": {},
   "source": [
    "## Train ANN based model (dense layers only)"
   ]
  },
  {
   "cell_type": "markdown",
   "metadata": {},
   "source": [
    "### You need to complete the following."
   ]
  },
  {
   "cell_type": "code",
   "execution_count": null,
   "metadata": {},
   "outputs": [],
   "source": [
    "# Define the ANN network architecture.\n",
    "ann_based_model = Sequential()\n",
    "\n",
    "# Define the intermediate layers.\n",
    "None\n",
    "\n",
    "ann_based_model.add(Dense(NUM_CLASSES, activation='softmax'))"
   ]
  },
  {
   "cell_type": "code",
   "execution_count": null,
   "metadata": {},
   "outputs": [],
   "source": [
    "# Compile the ANN model. \n",
    "None"
   ]
  },
  {
   "cell_type": "code",
   "execution_count": null,
   "metadata": {},
   "outputs": [],
   "source": [
    "ann_based_classifier = KerasClassifier(model=ann_based_model, clip_values=(0,1))\n",
    "ann_based_classifier.fit(x_train, y_train, nb_epochs=10, batch_size=BATCH_SIZE)\n",
    "\n",
    "# Get the predictions on the test set.\n",
    "predictions = None\n",
    "\n",
    "# Compute the accuracy on the test set.\n",
    "ann_score = None\n",
    "\n",
    "print('Test accuracy:', ann_score)"
   ]
  },
  {
   "cell_type": "markdown",
   "metadata": {},
   "source": [
    "## Compare the classification accuracy on the test data graphically"
   ]
  },
  {
   "cell_type": "markdown",
   "metadata": {},
   "source": [
    "### You need to complete the following."
   ]
  },
  {
   "cell_type": "code",
   "execution_count": null,
   "metadata": {},
   "outputs": [],
   "source": [
    "X = ['CNN-based Model','ANN-based Model']\n",
    "Y = [cnn_based_score, ann_score]\n",
    "plt.bar(None)\n",
    "plt.title('Test Accuracy')\n",
    "plt.show()\n",
    "plt.close()"
   ]
  },
  {
   "cell_type": "markdown",
   "metadata": {},
   "source": [
    "## Part 2: Generate adversarial examples using four methods"
   ]
  },
  {
   "cell_type": "markdown",
   "metadata": {},
   "source": [
    "### You need to complete the following."
   ]
  },
  {
   "cell_type": "raw",
   "metadata": {},
   "source": [
    "In this question, we will use the following four attack methods: \n",
    "(1) FGSM, \n",
    "(2) Basic Iterative Method, \n",
    "(3) Saliency Map Method, \n",
    "(4) Universal Perturbation."
   ]
  },
  {
   "cell_type": "code",
   "execution_count": null,
   "metadata": {},
   "outputs": [],
   "source": [
    "def generate_adv_examples_FGSM(classifier, x):\n",
    "    # This attack is known as the \"Fast Gradient Sign Method\".\n",
    "    attack = None\n",
    "    return None\n",
    "\n",
    "def generate_adv_examples_BasicIterativeMethod(classifier, x):\n",
    "    # The Basic Iterative Method is the iterative version of FGM and FGSM.\n",
    "    attack = None\n",
    "    return None\n",
    "\n",
    "def generate_adv_examples_SaliencyMapMethod(classifier, x):\n",
    "    # attack from the Jacobian-based Saliency Map Attack (Papernot et al. 2016).\n",
    "    # Paper link: https://arxiv.org/abs/1511.07528\n",
    "    attack = None\n",
    "    return None\n",
    "\n",
    "def generate_adv_examples_UniversalPerturbation(classifier, x):\n",
    "    attack = None\n",
    "    return None"
   ]
  },
  {
   "cell_type": "code",
   "execution_count": null,
   "metadata": {},
   "outputs": [],
   "source": [
    "# Generate examples for CNN-based model\n",
    "cnn_adv_examples_FGSM = None\n",
    "cnn_adv_examples_BasicIterativeMethod = None\n",
    "cnn_adv_examples_SaliencyMapMethod = None\n",
    "cnn_adv_examples_UniversalPerturbation = None\n",
    "\n",
    "# Generate plot\n",
    "fig, ax = plt.subplots(8, 4, sharex='col', sharey='row', figsize=(15,15))\n",
    "fig.suptitle('Adversarial examples generated for the CNN-based model')\n",
    "cnn_adv_examples = None\n",
    "\n",
    "for i in range(8):\n",
    "    for j in range(4):\n",
    "        ax[i, j].imshow(cnn_adv_examples[j][i].squeeze())\n",
    "        predictions = cnn_based_classifier.predict(np.expand_dims(cnn_adv_examples[j][i], 0))\n",
    "        ax[i, j].set_title('Network Prediction: {}'.format(np.argmax(predictions)))"
   ]
  },
  {
   "cell_type": "code",
   "execution_count": null,
   "metadata": {},
   "outputs": [],
   "source": [
    "# Generate examples for ANN-based model\n",
    "ann_adv_examples_FGSM = None\n",
    "ann_adv_examples_BasicIterativeMethod = None\n",
    "ann_adv_examples_SaliencyMapMethod = None\n",
    "ann_adv_examples_UniversalPerturbation = None\n",
    "\n",
    "# Generate plots\n",
    "fig, ax = plt.subplots(8, 4, sharex='col', sharey='row', figsize=(15,15))\n",
    "fig.suptitle('Adversarial examples generated for the ANN-based model')\n",
    "ann_adv_examples = None\n",
    "\n",
    "for i in range(8):\n",
    "    for j in range(4):\n",
    "        ax[i, j].imshow(ann_adv_examples[j][i].squeeze())\n",
    "        predictions = ann_based_classifier.predict(np.expand_dims(ann_adv_examples[j][i], 0))\n",
    "        ax[i, j].set_title('Network Prediction: {}'.format(np.argmax(predictions)))"
   ]
  },
  {
   "cell_type": "markdown",
   "metadata": {},
   "source": [
    "## Part 3: Create a new test set, based entirely on the adversarial images generated previously. Test your classifiers performance on this test set."
   ]
  },
  {
   "cell_type": "markdown",
   "metadata": {},
   "source": [
    "### You need to complete the following."
   ]
  },
  {
   "cell_type": "code",
   "execution_count": null,
   "metadata": {},
   "outputs": [],
   "source": [
    "# We will be using the FGSM method in this part\n",
    "ann_adv_examples_FGSM = None\n",
    "cnn_adv_examples_FGSM = None"
   ]
  },
  {
   "cell_type": "code",
   "execution_count": null,
   "metadata": {},
   "outputs": [],
   "source": [
    "# Evaluate ANN-based-classifier on the newly generated adversarial test set\n",
    "predictions = None\n",
    "ann_based_score = None\n",
    "print('ANN-based Model Score: {}'.format(ann_based_score))"
   ]
  },
  {
   "cell_type": "code",
   "execution_count": null,
   "metadata": {},
   "outputs": [],
   "source": [
    "# Evaluate CNN-based-classifier on the newly generated adversarial test set\n",
    "predictions = None\n",
    "cnn_based_score = None\n",
    "print('CNN-based Model Score: {}'.format(cnn_based_score))"
   ]
  },
  {
   "cell_type": "markdown",
   "metadata": {},
   "source": [
    "## Create a new augmented test set (original test images + adversarial images)\n"
   ]
  },
  {
   "cell_type": "markdown",
   "metadata": {},
   "source": [
    "### You need to complete the following."
   ]
  },
  {
   "cell_type": "code",
   "execution_count": null,
   "metadata": {},
   "outputs": [],
   "source": [
    "# ANN-based-classifier\n",
    "ann_augmented_examples = []\n",
    "for i in range(10000):\n",
    "    \n",
    "    # Select adversarial samples.\n",
    "    if random.randint(0, 1) == 0:\n",
    "        None\n",
    "    # Select actual samples.\n",
    "    else:\n",
    "        None\n",
    "        \n",
    "ann_augmented_examples = np.concatenate(ann_augmented_examples, axis=0)\n",
    "\n",
    "predictions = None\n",
    "ann_based_score = None\n",
    "print('ANN-based Model Score: {}'.format(ann_based_score))"
   ]
  },
  {
   "cell_type": "code",
   "execution_count": null,
   "metadata": {},
   "outputs": [],
   "source": [
    "# CNN-based-classifier\n",
    "cnn_augmented_examples = []\n",
    "for i in range(10000):\n",
    "    \n",
    "    # Select adversarial samples.\n",
    "    if random.randint(0, 1) == 0:\n",
    "        None\n",
    "    # Select actual samples.\n",
    "    else:\n",
    "        None\n",
    "\n",
    "cnn_augmented_examples = np.concatenate(cnn_augmented_examples, axis=0)\n",
    "\n",
    "predictions = None\n",
    "cnn_based_score = None\n",
    "print('CNN-based Model Score: {}'.format(cnn_based_score))"
   ]
  },
  {
   "cell_type": "markdown",
   "metadata": {},
   "source": [
    "## Make a single plot, wherein you compare the test accuracies of all the models, on the three types of test sets that you have"
   ]
  },
  {
   "cell_type": "markdown",
   "metadata": {},
   "source": [
    "### You need to complete the following."
   ]
  },
  {
   "cell_type": "code",
   "execution_count": null,
   "metadata": {},
   "outputs": [],
   "source": [
    "ann_models_score = None\n",
    "cnn_models_score = None"
   ]
  },
  {
   "cell_type": "code",
   "execution_count": null,
   "metadata": {},
   "outputs": [],
   "source": [
    "# Plot for the ANN based model.\n",
    "X = ['Original Test Set','Augmented Test Set', 'Adversarial Test Set']\n",
    "plt.bar(None, color=['r', 'g', 'b'])\n",
    "plt.title('Test Accuracy for the ANN-based model')\n",
    "plt.show()\n",
    "plt.close()"
   ]
  },
  {
   "cell_type": "code",
   "execution_count": null,
   "metadata": {},
   "outputs": [],
   "source": [
    "# Plot for the CNN based model.\n",
    "X = ['Original Test Set','Augmented Test Set', 'Adversarial Test Set']\n",
    "plt.bar(None, color=['r', 'g', 'b'])\n",
    "plt.title('Test Accuracy for the CNN-based model')\n",
    "plt.show()\n",
    "plt.close()"
   ]
  }
 ],
 "metadata": {
  "kernelspec": {
   "display_name": "Python 3",
   "language": "python",
   "name": "python3"
  },
  "language_info": {
   "codemirror_mode": {
    "name": "ipython",
    "version": 3
   },
   "file_extension": ".py",
   "mimetype": "text/x-python",
   "name": "python",
   "nbconvert_exporter": "python",
   "pygments_lexer": "ipython3",
   "version": "3.8.8"
  }
 },
 "nbformat": 4,
 "nbformat_minor": 2
}
