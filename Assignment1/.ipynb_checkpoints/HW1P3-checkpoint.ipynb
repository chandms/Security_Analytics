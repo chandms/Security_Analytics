{
 "cells": [
  {
   "cell_type": "code",
   "execution_count": 1,
   "id": "8ad1f8a5",
   "metadata": {},
   "outputs": [],
   "source": [
    "import numpy as np\n",
    "import pandas as pd\n",
    "import matplotlib.pyplot as plt\n",
    "import seaborn as sns\n",
    "%matplotlib inline\n",
    "import random\n",
    "random.seed(0)\n",
    "np.random.seed(0)\n",
    "from sklearn.linear_model import SGDRegressor,LinearRegression,Ridge\n",
    "from sklearn.preprocessing import PolynomialFeatures\n",
    "from sklearn.model_selection import KFold"
   ]
  },
  {
   "cell_type": "code",
   "execution_count": 2,
   "id": "b0e10e2c",
   "metadata": {},
   "outputs": [],
   "source": [
    "# forming dataframe from the given data\n",
    "data = pd.read_csv('data.txt',header=None,names=['x','y'],delim_whitespace=True)"
   ]
  },
  {
   "cell_type": "code",
   "execution_count": 3,
   "id": "0bcf1ccc",
   "metadata": {},
   "outputs": [
    {
     "data": {
      "text/html": [
       "<div>\n",
       "<style scoped>\n",
       "    .dataframe tbody tr th:only-of-type {\n",
       "        vertical-align: middle;\n",
       "    }\n",
       "\n",
       "    .dataframe tbody tr th {\n",
       "        vertical-align: top;\n",
       "    }\n",
       "\n",
       "    .dataframe thead th {\n",
       "        text-align: right;\n",
       "    }\n",
       "</style>\n",
       "<table border=\"1\" class=\"dataframe\">\n",
       "  <thead>\n",
       "    <tr style=\"text-align: right;\">\n",
       "      <th></th>\n",
       "      <th>x</th>\n",
       "      <th>y</th>\n",
       "    </tr>\n",
       "  </thead>\n",
       "  <tbody>\n",
       "    <tr>\n",
       "      <th>0</th>\n",
       "      <td>-6.0</td>\n",
       "      <td>-164.160590</td>\n",
       "    </tr>\n",
       "    <tr>\n",
       "      <th>1</th>\n",
       "      <td>-5.8</td>\n",
       "      <td>90.739607</td>\n",
       "    </tr>\n",
       "    <tr>\n",
       "      <th>2</th>\n",
       "      <td>-5.6</td>\n",
       "      <td>-131.842090</td>\n",
       "    </tr>\n",
       "    <tr>\n",
       "      <th>3</th>\n",
       "      <td>-5.4</td>\n",
       "      <td>-178.428200</td>\n",
       "    </tr>\n",
       "    <tr>\n",
       "      <th>4</th>\n",
       "      <td>-5.2</td>\n",
       "      <td>-4.838565</td>\n",
       "    </tr>\n",
       "  </tbody>\n",
       "</table>\n",
       "</div>"
      ],
      "text/plain": [
       "     x           y\n",
       "0 -6.0 -164.160590\n",
       "1 -5.8   90.739607\n",
       "2 -5.6 -131.842090\n",
       "3 -5.4 -178.428200\n",
       "4 -5.2   -4.838565"
      ]
     },
     "execution_count": 3,
     "metadata": {},
     "output_type": "execute_result"
    }
   ],
   "source": [
    "#checking the head of the data\n",
    "data.head()"
   ]
  },
  {
   "cell_type": "code",
   "execution_count": 4,
   "id": "f570083b",
   "metadata": {},
   "outputs": [
    {
     "data": {
      "text/plain": [
       "<AxesSubplot:xlabel='x', ylabel='y'>"
      ]
     },
     "execution_count": 4,
     "metadata": {},
     "output_type": "execute_result"
    },
    {
     "data": {
      "image/png": "[encoded data removed]",
      "text/plain": [
       "<Figure size 432x288 with 1 Axes>"
      ]
     },
     "metadata": {
      "needs_background": "light"
     },
     "output_type": "display_data"
    }
   ],
   "source": [
    "# scatterplot of the given data\n",
    "sns.scatterplot(x='x',y='y',data=data)"
   ]
  },
  {
   "cell_type": "code",
   "execution_count": 5,
   "id": "08484186",
   "metadata": {},
   "outputs": [],
   "source": [
    "X=data['x'].to_numpy() #features\n",
    "Y=data['y'].to_numpy() #output\n",
    "kfold = KFold(n_splits=10) #10 splits\n",
    "trainX=[]\n",
    "trainY=[]\n",
    "testX=[]\n",
    "testY=[]"
   ]
  },
  {
   "cell_type": "code",
   "execution_count": 6,
   "id": "02961e1e",
   "metadata": {},
   "outputs": [],
   "source": [
    "#1. Partitioning the data in 10 folds and producing 10 different set of train and validation set\n",
    "for train_index, test_index in kfold.split(X):\n",
    "    trainX.append(X[train_index])\n",
    "    testX.append(X[test_index])\n",
    "    trainY.append(Y[train_index])\n",
    "    testY.append(Y[test_index])"
   ]
  },
  {
   "cell_type": "code",
   "execution_count": 7,
   "id": "eaf78c87",
   "metadata": {},
   "outputs": [],
   "source": [
    "#2. Normalize training input and output sample using mean and standard deviation\n",
    "stdTrainX=[]\n",
    "stdTestX=[]\n",
    "stdTrainY=[]\n",
    "stdTestY=[]\n",
    "for i in range(10):\n",
    "    stdTrainX.append((trainX[i]-np.mean(trainX[i],axis=0))/np.std(trainX[i],axis=0))\n",
    "    stdTrainY.append((trainY[i]-np.mean(trainY[i],axis=0))/np.std(trainY[i],axis=0))\n",
    "    stdTestX.append(testX[i])\n",
    "    stdTestY.append(testY[i])"
   ]
  },
  {
   "cell_type": "code",
   "execution_count": 8,
   "id": "3a3dd044",
   "metadata": {},
   "outputs": [],
   "source": [
    "# compute mean squared error\n",
    "def computeCost(X,y,weights):\n",
    "    n = len(y);\n",
    "    predictions = X.dot(weights)\n",
    "    sq_err = (predictions-y)**2;\n",
    "    return np.mean(sq_err)"
   ]
  },
  {
   "cell_type": "code",
   "execution_count": 9,
   "id": "6e77cd5e",
   "metadata": {},
   "outputs": [],
   "source": [
    "# compute standard deviation of error\n",
    "def computeStdCost(X,y,weights):\n",
    "    n = len(y);\n",
    "    predictions = X.dot(weights)\n",
    "    sq_err = (predictions-y)**2;\n",
    "    return np.std(sq_err)"
   ]
  },
  {
   "cell_type": "code",
   "execution_count": 10,
   "id": "71574a1a",
   "metadata": {},
   "outputs": [],
   "source": [
    "# compute training weights\n",
    "def computeModels(degree):\n",
    "    model_weights=[]\n",
    "    for ind in range(10):\n",
    "        polyFeat = PolynomialFeatures(degree=degree)\n",
    "        Xtrain = polyFeat.fit_transform(stdTrainX[ind].reshape(-1,1))\n",
    "        cmodel = Ridge(fit_intercept=False,alpha=0.5)\n",
    "        cmodel.fit(Xtrain,stdTrainY[ind])\n",
    "        weight=[]\n",
    "        for item in (cmodel.coef_):\n",
    "            weight.append(item)\n",
    "        model_weights.append(weight)\n",
    "    return model_weights"
   ]
  },
  {
   "cell_type": "code",
   "execution_count": 11,
   "id": "cb565f47",
   "metadata": {},
   "outputs": [],
   "source": [
    "# store mean, std of training and test error over 10 folds for errorbar plot\n",
    "mean_training_err = [] \n",
    "mean_test_err = []\n",
    "std_training_err =[]\n",
    "std_test_err =[]"
   ]
  },
  {
   "cell_type": "code",
   "execution_count": 12,
   "id": "29890f9d",
   "metadata": {},
   "outputs": [],
   "source": [
    "# prints mean and standard deviation of training\n",
    "def computeErrorTerms(degree,nthModel,weight_list):\n",
    "    polyFeat = PolynomialFeatures(degree=degree)\n",
    "    train_mean_err_list=[]\n",
    "    test_mean_err_list=[]\n",
    "    train_std_err_list=[]\n",
    "    test_std_err_list=[]\n",
    "    \n",
    "    for i in range(10):\n",
    "        weights = np.array(weight_list[i]).reshape((degree+1,1))\n",
    "        Xtrain = polyFeat.fit_transform(stdTrainX[i].reshape(-1,1))\n",
    "        Xtest = polyFeat.transform(stdTestX[i].reshape(-1,1))\n",
    "        \n",
    "        train_err = computeCost(Xtrain,stdTrainY[i].reshape(len(stdTrainY[i]),1),weights)\n",
    "        test_err = computeCost(Xtest,stdTestY[i].reshape(len(stdTestY[i]),1),weights)\n",
    "        train_std_err = computeStdCost(Xtrain,stdTrainY[i].reshape(len(stdTrainY[i]),1),weights)\n",
    "        test_std_err = computeCost(Xtest,stdTestY[i].reshape(len(stdTestY[i]),1),weights)\n",
    "        \n",
    "        train_mean_err_list.append(train_err)\n",
    "        test_mean_err_list.append(test_err)\n",
    "        train_std_err_list.append(train_std_err)\n",
    "        test_std_err_list.append(test_std_err)\n",
    "        \n",
    "        print(\"for \",str(i+1),\" fold - \")\n",
    "        print(\"mean train error : \",train_err)\n",
    "        print(\"std train error : \",train_std_err)\n",
    "        print(\"\\n\")\n",
    "    \n",
    "    mean_training_err.append(np.mean(train_mean_err_list))\n",
    "    std_training_err.append(np.std(train_std_err_list)/np.sqrt(10))\n",
    "    mean_test_err.append(np.mean(test_mean_err_list))\n",
    "    std_test_err.append(np.std(test_std_err_list)/np.sqrt(10))\n",
    "    min_val = min(train_mean_err_list)\n",
    "    min_ind = train_mean_err_list.index(min_val)\n",
    "    \n",
    "    if(degree==1):\n",
    "        global min_id_deg1 # min index for degree 1\n",
    "        min_id_deg1 = min_ind\n",
    "        global min_val_deg1 #min value for degree 1\n",
    "        min_val_deg1 = min_val\n",
    "    elif(degree==3):\n",
    "        global min_id_deg3 #min index for degree 3\n",
    "        min_id_deg3 = min_ind\n",
    "        global min_val_deg3 #min value for degree 3\n",
    "        min_val_deg3=min_val\n",
    "    elif(degree==5):\n",
    "        global min_id_deg5 #min index for degree 5\n",
    "        min_id_deg5 = min_ind\n",
    "        global min_val_deg5 #min value for degree 5\n",
    "        min_val_deg5 = min_val\n",
    "    else:\n",
    "        global min_id_deg50 #min index for degree 50\n",
    "        min_id_deg50 = min_ind\n",
    "        global min_val_deg50 #min value for degree 50\n",
    "        min_val_deg50 = min_val\n",
    "    "
   ]
  },
  {
   "cell_type": "code",
   "execution_count": 13,
   "id": "888abb95",
   "metadata": {},
   "outputs": [],
   "source": [
    "# to plot minimum training error output\n",
    "def plotTrainingOutput(degree,min_ind,min_val,modelNo,weight_list):\n",
    "    polyFeat = PolynomialFeatures(degree=degree)\n",
    "    print(\"min training error \",min_val,\" at index\",min_ind+1,\"for Hypothesis \",modelNo)\n",
    "    plt.scatter(stdTrainX[min_ind],stdTrainY[min_ind])\n",
    "    X_Poly = polyFeat.fit_transform(stdTrainX[min_ind].reshape(-1,1))\n",
    "    pred = X_Poly.dot(np.array(weight_list[min_ind]).reshape(degree+1,1))\n",
    "    plt.plot(stdTrainX[min_ind],pred,'r')\n",
    "    plt.xlabel('x')\n",
    "    plt.ylabel('y')\n",
    "    plt.title(\"Hypothesis \"+str(modelNo+1))"
   ]
  },
  {
   "cell_type": "code",
   "execution_count": 14,
   "id": "05623b8e",
   "metadata": {},
   "outputs": [
    {
     "name": "stdout",
     "output_type": "stream",
     "text": [
      "[[2.098351907466123e-16, 0.8205396918814147], [3.7639562445626374e-17, 0.8322882993905536], [-9.805043828397366e-17, 0.8317082934430555], [1.971823053718524e-16, 0.8293885337037286], [9.221778980270939e-17, 0.8418107595807812], [-2.5592074694222342e-17, 0.8471349667155518], [-1.3737401920462928e-16, 0.8527197745023836], [-5.437827059388521e-17, 0.8445963089030009], [-1.850451476667785e-16, 0.805848940977048], [2.8314650519897164e-17, 0.8191735489438112]]\n"
     ]
    }
   ],
   "source": [
    "#3a. weights for degree 1\n",
    "weight_list1 = computeModels(1)\n",
    "print(weight_list1)"
   ]
  },
  {
   "cell_type": "code",
   "execution_count": 15,
   "id": "68cb3fa0",
   "metadata": {},
   "outputs": [
    {
     "name": "stdout",
     "output_type": "stream",
     "text": [
      "[[-0.4986723543863928, 0.3556065751087854, 0.5021353568474096, 0.2601568251028362], [-0.4697384821609264, 0.3315751717688119, 0.5342198352305769, 0.3040535114908006], [-0.4615156834116412, 0.3226959220106767, 0.5337408883360194, 0.33234549210861386], [-0.4731155616368855, 0.2916253358563741, 0.5275153080834636, 0.35829154545044534], [-0.45413886590875474, 0.23846233284532498, 0.4749964071717988, 0.3851166093376253], [-0.4785448760199233, 0.2047426294340564, 0.45952112580655, 0.37778693785182843], [-0.4549228593566059, 0.1658074062974065, 0.4024983432406892, 0.36245391959699486], [-0.4104840372645606, 0.15855363454422025, 0.34423361496823107, 0.3256968888748668], [-0.36074447327357345, 0.12579759918876637, 0.30353501624116375, 0.31030987468974547], [-0.3274445625299724, 0.21208811448826634, 0.3296873335062054, 0.33966475333931556]]\n"
     ]
    }
   ],
   "source": [
    "#3b. weights for degree 3\n",
    "weight_list3 = computeModels(3)\n",
    "print(weight_list3)"
   ]
  },
  {
   "cell_type": "code",
   "execution_count": 16,
   "id": "53fcf6fb",
   "metadata": {},
   "outputs": [
    {
     "name": "stdout",
     "output_type": "stream",
     "text": [
      "[[-0.47114625786076364, 0.4163736572106589, 0.4071756693257996, 0.16059061985174133, 0.03736652233415832, 0.03061206058417749], [-0.4300197373405329, 0.33220866889584133, 0.3923426136749725, 0.29007126403888017, 0.05471005527428463, 0.010824054395813831], [-0.4197478304241017, 0.3497921912728126, 0.36150797106870675, 0.28347613353672213, 0.07273410797430653, 0.020772218763522133], [-0.43868020357581144, 0.3314670712999256, 0.3896528861908301, 0.2794573705028934, 0.06098571712491839, 0.02962000597469528], [-0.37841546520899694, 0.23568556093387918, 0.23258958633375887, 0.37545012421200635, 0.10190668422708163, 0.006437388725721252], [-0.4352680091874313, 0.23970718009834818, 0.3247576711838793, 0.32586263324310144, 0.055932382174640645, 0.015282668828629995], [-0.4210617893378609, 0.19304581619792582, 0.28346132515786865, 0.3297464125557926, 0.04990538109753623, 0.0066707698171124315], [-0.3830954779069016, 0.17483372933293767, 0.23656423525058204, 0.3009722408208176, 0.04319833824816313, 0.004087416693924303], [-0.32679204715349836, 0.1605379012922864, 0.18906068634123685, 0.26706734527511106, 0.04065085781005816, 0.006487482953881009], [-0.31268307398110123, 0.15254783254989293, 0.2787877882600538, 0.4371495559400441, 0.02002553951367984, -0.029961913619885327]]\n"
     ]
    }
   ],
   "source": [
    "#3c. weights for degree 5\n",
    "weight_list5 = computeModels(5)\n",
    "print(weight_list5)"
   ]
  },
  {
   "cell_type": "code",
   "execution_count": 17,
   "id": "5fe2bf59",
   "metadata": {},
   "outputs": [
    {
     "name": "stdout",
     "output_type": "stream",
     "text": [
      "[[-0.45971097335580285, 0.4258422753774078, 0.33246247219597114, 0.06633843374313772, 0.10431415511650768, 0.08467490726923628, -0.04198234260256782, 0.08054249895023553, -0.081518364114523, 0.05195288365213646, -0.058618361048476175, 0.014466499341948193, -0.008749943603430054, -0.019744959087072404, 0.0434672514166565, -0.04136469938077411, 0.07989361474105887, -0.04530572123384373, 0.08813808121728191, -0.031545663696508255, 0.06308526263166092, -0.005928371101406825, 0.011247670443209075, 0.01994143332542302, -0.047395713837000746, 0.0330130927089442, -0.08274961448853903, 0.024743676564528035, -0.06827258719357204, -0.0009040196254921698, -0.0035062965829197037, -0.0248475266348116, 0.068564194437629, -0.023634735635548708, 0.0764103161976771, 0.005559328887256131, -0.008294685855474371, 0.027525754176122564, -0.08980067490014013, 0.0018181926429867812, -0.01620834766420945, -0.03031836332158737, 0.10772945267199277, 0.023053099030566786, -0.07834325794516683, -0.007883407573941079, 0.02613751415590843, 0.0013315387112543947, -0.004325908791420979, -9.05421186154651e-05, 0.0002885792373862847], [-0.4252304694861072, 0.4079377724025292, 0.2832103329515374, 0.134661529110875, 0.10555798239920372, 0.06375257505480321, 0.04369247024237455, -0.002236566175010935, 0.044982729762457443, -0.0337660679477496, 0.05213912372447263, -0.04654148235956505, 0.05100215105454707, -0.031015243699500813, 0.04413093954051492, -0.004281853836283298, 0.024195251071327053, 0.01569365768740222, -0.012768979334674465, 0.020269863713780034, -0.041751053860090134, 0.03382093740824849, -0.04552438540715488, 0.0156330153261906, -0.03544891800834698, 0.00871630378333671, -0.01755217430152167, -0.01495705797857984, 0.019447765169549873, -0.017991480309662338, 0.03655678294233208, -0.008530430773402695, 0.01656472142387197, 0.014296565039741431, -0.012790736073528935, 0.006744101574753228, -0.02298097841072883, 0.004588038207386445, -0.0009505292027046197, -0.021198708182942973, 0.025132300736097256, 0.014395401155691972, -0.01868631127570936, -0.002756818361055258, 0.0068648855676622395, -0.0007240600216834716, -0.0016136265845093406, 0.0003709525696927944, 0.00025382856347480186, -4.236994729119834e-05, -2.0056947915491332e-05], [-0.41223170080688626, 0.3625306953974091, 0.31977570782747117, 0.16803423557181843, 0.04967064517368028, 0.13452627666293052, -0.03224550874571501, 0.0900101082049147, -0.042155243520455195, 0.054665365366489665, -0.025157641686247283, 0.029206391135541503, -0.0007943139252316253, 0.007586050227485729, 0.02196681847555778, -0.010689354339507635, 0.037427087884077566, -0.02442302385297906, 0.040347483723413916, -0.03184035451394087, 0.028127481092624286, -0.028897318956160038, 0.005478453896876727, -0.015702470158508224, -0.020662840080603748, 0.0029805101029222944, -0.03600430616877299, 0.017088245270320143, -0.029166552984925632, 0.018849190779991913, -0.0015243146732888228, 0.006284690915721779, 0.028743780006435245, -0.008257599326477086, 0.03128889405264802, -0.009934641547069578, -0.003495870919903138, 0.001503254897193303, -0.034298018301498, 0.00549806983970659, -0.0057306002439943176, -0.006040852510140589, 0.035767893893952914, 0.006064156320613925, -0.023143652765932107, -0.0035622759627342016, 0.006474093977322278, 0.0009825571048262104, -0.000807921103718471, -0.00010145115133341652, 3.175874906826716e-05], [-0.4447184535049361, 0.3974711400774342, 0.3750945918618176, 0.03925585445479079, 0.14561412192219092, 0.045551117120211725, 0.008219302010147974, 0.07075565165842188, -0.053962917628413466, 0.08106346613901569, -0.06113214609126347, 0.07015783261754585, -0.03376685679065672, 0.041375596790429306, 0.008092016040202307, 0.0037482945547161924, 0.0456524061234069, -0.030744290440565973, 0.06320623336915498, -0.05009087607966948, 0.05183675334907657, -0.047113500885964776, 0.014020579653701758, -0.022706434914440597, -0.034030247413938, 0.011205656862896471, -0.06519052761922331, 0.03499770837289297, -0.054780061675225554, 0.03192318471272397, -0.0009148406857311686, 0.0030324840699355177, 0.059270965647618926, -0.025500217193159674, 0.06378276703408858, -0.020777677937224678, -0.010799687953262417, 0.01293653573512207, -0.07933487458929202, 0.018623047364579842, -0.011034308774618851, -0.019391479072984028, 0.09592966978152855, 0.008107601985210298, -0.07151711172462302, -0.0021284730118463456, 0.024059500780388952, 0.00039080709178175316, -0.00396555249492006, -3.662449576257023e-05, 0.0002598882053696745], [-0.36770775015319335, 0.25806353666033005, 0.16518528665886562, 0.21925683736149645, 0.0971769394675411, 0.11570729165798552, 0.030010161726744138, 0.056145534361964435, -0.0030337067920636097, 0.01945287973341199, -0.004485262683846849, -0.005194557996697564, 0.011901484367413017, -0.019996484713638338, 0.030696331979885638, -0.024018573082639168, 0.03957738839669546, -0.01710748814807574, 0.032002765344133516, -0.002231836967818184, 0.008884415012178366, 0.014088890919906175, -0.020923907185151025, 0.023171578989710458, -0.042820894691881654, 0.018205798847800995, -0.042475006943580404, -0.00047653613762757606, -0.015299695792093278, -0.021756032327439098, 0.02498789536962068, -0.027224059855923202, 0.04768709702221581, -0.005732468184695994, 0.025854482864838175, 0.026855836737088513, -0.02791075312182904, 0.0280750051730075, -0.04846947645654174, -0.01915199864997411, 0.011659272761533578, -0.03707084635631013, 0.055595039546481095, 0.04516526151128924, -0.051244258215899174, -0.020209143788117175, 0.01942057361450145, 0.004212981278807667, -0.003522350026937698, -0.0003434610593161751, 0.000252517178848123], [-0.4406745345088018, 0.27400750491156567, 0.34291145833554015, 0.16863578715678085, 0.07800923323169208, 0.1026619853640689, -0.007262239178366095, 0.04718364466261667, -0.03139270339100731, 0.00577336281504885, -0.024858296391581346, -0.019411033795019603, -0.005630173971577106, -0.027388236605857364, 0.013111378189380535, -0.019737243784301493, 0.02317996313219453, -0.0016145621744156342, 0.021510061780340522, 0.01862254933463203, 0.00999989388792831, 0.031139298631684638, -0.005399750354915826, 0.028097998452942377, -0.01676191646972971, 0.008305907164839857, -0.017371822686605427, -0.019223387066532822, -0.005999416915059844, -0.036552981639118035, 0.010295289531242304, -0.026677644964471624, 0.018158291978819744, 0.009178386871586685, 0.007674974131983245, 0.03988309665413495, -0.01358875377145284, 0.02331843714558897, -0.018297419261389253, -0.03279310959578929, 0.008835957562577278, -0.03416680001897675, 0.022863990928328026, 0.0529471896623393, -0.025820258160162302, -0.02560847841992607, 0.011326095373962898, 0.005581441864079438, -0.0023533276253571637, -0.0004690334626270023, 0.00019284017657260707], [-0.4284780483179538, 0.2097840287536862, 0.2959679390700504, 0.20425409592952726, 0.09123989347474062, 0.12212636743776739, 0.011385669152444136, 0.048892387964119266, -0.020303470302050403, -0.005311766296357191, -0.0260112974855478, -0.036716120850446926, -0.01926120318024604, -0.04454129782956401, -0.009109049635589563, -0.03170354718154597, -0.0002763317614517969, -0.005799125631799053, 0.005228360319224456, 0.022075363696629234, 0.007242303074487484, 0.03944213069204973, 0.006759731402167716, 0.03706051657796313, 0.0047068055214322235, 0.013255900345309162, 0.0019348147533518947, -0.020594860872577114, -0.00031891660418173224, -0.04254421180785849, -0.0010762115597555263, -0.031854510974593665, -0.00023986642868645833, 0.010257471271517361, -0.00033872629975630324, 0.04590017580055148, -0.0037387986888442522, 0.02545388367667338, -0.0058142245855757405, -0.038589644183493636, 0.004795225791376007, -0.03596347885841167, 0.014674575735416025, 0.058963998412312896, -0.020392147908360445, -0.029208485839347827, 0.010398619058292738, 0.006500134405456508, -0.0024306241888629133, -0.00055766646735562, 0.0002190567729634706], [-0.38665162613209375, 0.19726723625302867, 0.23457927793493116, 0.14563685084007014, 0.044306269117269564, 0.10192191424256092, 0.018249841058883602, 0.0716717654869046, 0.02547636890537936, 0.03997273627912201, 0.031504490497190535, 0.008376923803806056, 0.027870015326906694, -0.016011478415173332, 0.010317862076259121, -0.029111675356194196, -0.01377390057335158, -0.028574377218228628, -0.03378519524056069, -0.015221832760188844, -0.04053217787100116, 0.004099955007372047, -0.02695672480284251, 0.02219556436747604, 0.0028965270107033855, 0.027010267401214257, 0.032030790802066174, 0.012596630786575578, 0.040347809988574845, -0.01679465612815178, 0.016459839267142017, -0.03701769458185973, -0.02136456281139145, -0.01862008724020183, -0.035348833000003, 0.030091743427132556, -0.0061315925912420865, 0.046177950943618935, 0.025903153209806858, -0.022316048394695427, 0.008601210389753162, -0.05965702684636163, -0.013411777597805312, 0.06860270373748731, -0.0011437134188996279, -0.03058512562203745, 0.004212679072495397, 0.0064418539570097865, -0.001416721429902448, -0.0005338451326617152, 0.00014999170991324048], [-0.3377643296170748, 0.165560230176489, 0.23959944058563337, 0.15210243286652372, -0.01607177645605158, 0.12475630098420624, -0.0016832290599879535, 0.05687972225878762, 0.033666920867323855, 0.05245456260261479, 0.061127374328261895, 0.0053026677858797125, 0.06985332321736092, -0.0348052555829181, 0.02776675549539518, -0.035899712655724614, -0.009421218535932717, -0.04265564502578986, -0.05168262946732854, -0.023391721818116995, -0.05954625101856663, 0.009476241632396475, -0.051561387963718036, 0.023059373947902896, -0.014471814367190862, 0.038959395628752336, 0.03367687513233091, 0.009802423269993879, 0.04545602219530523, -0.00992005899421532, 0.037780120554610455, -0.04125712925372261, 0.0010706445760883115, -0.011953793051552182, -0.05515391339182922, 0.009157501028740776, -0.02216892572777866, 0.05048156282653048, 0.029772661770013274, -0.00808496223853069, 0.024751024761412638, -0.06331273269351163, -0.028572266230409704, 0.06068868834504776, 0.006656980176763245, -0.024592568163435077, 0.0013750091861887482, 0.004813438759225622, -0.0007832737719353916, -0.00037432548360799567, 8.93841840577294e-05], [-0.3189629255876826, 0.19744776977489426, 0.3529462183689207, 0.21696391049581498, -0.030302128800221085, 0.0957510058200553, -0.12555082782370816, 0.05384502296093978, -0.0959261975182791, 0.028848067519434112, -0.020288979930014096, 0.006403452368096809, 0.05549959418046569, -0.010357967586102926, 0.10513379200493157, -0.016720275052307294, 0.11614285761918786, -0.012213550307485053, 0.0874002567339814, -0.0007131128051121305, 0.02903054481338945, 0.010117663463422315, -0.038375542651394055, 0.013225404302503928, -0.08705172054233473, 0.005659045919036032, -0.09173086654405105, -0.007543711678940041, -0.04401622423339126, -0.01534028466840772, 0.033403923613550573, -0.008600484530870211, 0.08611663605498251, 0.007941320386040868, 0.06003959715938915, 0.014564803797521899, -0.035118261840094284, -0.00020897903133427586, -0.08863881401987334, -0.013280738340043995, 0.005338415034217502, 0.004057658172116207, 0.09983651949932365, 0.0034054076898763796, -0.08159743884904239, -0.0024680197772921726, 0.02883627526903293, 0.0005854531749036593, -0.00495762804391725, -4.935936938638909e-05, 0.00034015596570021464]]\n"
     ]
    }
   ],
   "source": [
    "#3d. weights for degree 50\n",
    "weight_list50 = computeModels(50)\n",
    "print(weight_list50)"
   ]
  },
  {
   "cell_type": "code",
   "execution_count": 18,
   "id": "d703322a",
   "metadata": {},
   "outputs": [
    {
     "name": "stdout",
     "output_type": "stream",
     "text": [
      "for  1  fold - \n",
      "mean train error :  0.3173634281311414\n",
      "std train error :  0.46722178726327335\n",
      "\n",
      "\n",
      "for  2  fold - \n",
      "mean train error :  0.2978070933646691\n",
      "std train error :  0.45758361918739154\n",
      "\n",
      "\n",
      "for  3  fold - \n",
      "mean train error :  0.2987854422155474\n",
      "std train error :  0.46475608230953985\n",
      "\n",
      "\n",
      "for  4  fold - \n",
      "mean train error :  0.3026915733136667\n",
      "std train error :  0.4686203424086316\n",
      "\n",
      "\n",
      "for  5  fold - \n",
      "mean train error :  0.28164717443833004\n",
      "std train error :  0.45787837957724237\n",
      "\n",
      "\n",
      "for  6  fold - \n",
      "mean train error :  0.27253169540301747\n",
      "std train error :  0.427887455954049\n",
      "\n",
      "\n",
      "for  7  fold - \n",
      "mean train error :  0.2629082873530506\n",
      "std train error :  0.4038434689292142\n",
      "\n",
      "\n",
      "for  8  fold - \n",
      "mean train error :  0.2768852540968435\n",
      "std train error :  0.4081311322647452\n",
      "\n",
      "\n",
      "for  9  fold - \n",
      "mean train error :  0.34171169644022714\n",
      "std train error :  0.5506481037517281\n",
      "\n",
      "\n",
      "for  10  fold - \n",
      "mean train error :  0.3197622952958812\n",
      "std train error :  0.45194079462826425\n",
      "\n",
      "\n"
     ]
    }
   ],
   "source": [
    "#4a. print mean and std of training errors for degree 1\n",
    "computeErrorTerms(1,0,weight_list1)"
   ]
  },
  {
   "cell_type": "code",
   "execution_count": 19,
   "id": "b9efd5b0",
   "metadata": {},
   "outputs": [
    {
     "name": "stdout",
     "output_type": "stream",
     "text": [
      "for  1  fold - \n",
      "mean train error :  0.06846576573320416\n",
      "std train error :  0.06131298229570573\n",
      "\n",
      "\n",
      "for  2  fold - \n",
      "mean train error :  0.0599005557917604\n",
      "std train error :  0.05291834191381451\n",
      "\n",
      "\n",
      "for  3  fold - \n",
      "mean train error :  0.059559703440642216\n",
      "std train error :  0.05521575438615887\n",
      "\n",
      "\n",
      "for  4  fold - \n",
      "mean train error :  0.05833774969809432\n",
      "std train error :  0.05568846585011868\n",
      "\n",
      "\n",
      "for  5  fold - \n",
      "mean train error :  0.06160590771156087\n",
      "std train error :  0.05523900848697775\n",
      "\n",
      "\n",
      "for  6  fold - \n",
      "mean train error :  0.05833620004806693\n",
      "std train error :  0.05537128919349858\n",
      "\n",
      "\n",
      "for  7  fold - \n",
      "mean train error :  0.05920464513816227\n",
      "std train error :  0.05259068515681807\n",
      "\n",
      "\n",
      "for  8  fold - \n",
      "mean train error :  0.058395625463525086\n",
      "std train error :  0.05437552135515106\n",
      "\n",
      "\n",
      "for  9  fold - \n",
      "mean train error :  0.06955170657719156\n",
      "std train error :  0.06178602326426724\n",
      "\n",
      "\n",
      "for  10  fold - \n",
      "mean train error :  0.15900540367059582\n",
      "std train error :  0.14709226212109458\n",
      "\n",
      "\n"
     ]
    }
   ],
   "source": [
    "#4a. print mean and std of training errors for degree 3\n",
    "computeErrorTerms(3,1,weight_list3)"
   ]
  },
  {
   "cell_type": "code",
   "execution_count": 20,
   "id": "9eaf0068",
   "metadata": {},
   "outputs": [
    {
     "name": "stdout",
     "output_type": "stream",
     "text": [
      "for  1  fold - \n",
      "mean train error :  0.06803278613808837\n",
      "std train error :  0.06077984397806966\n",
      "\n",
      "\n",
      "for  2  fold - \n",
      "mean train error :  0.05954639854837798\n",
      "std train error :  0.05424481706826555\n",
      "\n",
      "\n",
      "for  3  fold - \n",
      "mean train error :  0.058790580545025055\n",
      "std train error :  0.05741784518252396\n",
      "\n",
      "\n",
      "for  4  fold - \n",
      "mean train error :  0.05802669197589767\n",
      "std train error :  0.05776598105083478\n",
      "\n",
      "\n",
      "for  5  fold - \n",
      "mean train error :  0.05954160542195669\n",
      "std train error :  0.059131252761170115\n",
      "\n",
      "\n",
      "for  6  fold - \n",
      "mean train error :  0.058228274527723625\n",
      "std train error :  0.05724902811086224\n",
      "\n",
      "\n",
      "for  7  fold - \n",
      "mean train error :  0.05886097175763352\n",
      "std train error :  0.05492317447834206\n",
      "\n",
      "\n",
      "for  8  fold - \n",
      "mean train error :  0.058030981596417223\n",
      "std train error :  0.0565181088039416\n",
      "\n",
      "\n",
      "for  9  fold - \n",
      "mean train error :  0.06893812190354597\n",
      "std train error :  0.06363102202192379\n",
      "\n",
      "\n",
      "for  10  fold - \n",
      "mean train error :  0.15827782399420545\n",
      "std train error :  0.1489662057915591\n",
      "\n",
      "\n"
     ]
    }
   ],
   "source": [
    "#4a. print mean and std of training errors for degree 5\n",
    "computeErrorTerms(5,2,weight_list5)"
   ]
  },
  {
   "cell_type": "code",
   "execution_count": 21,
   "id": "855a4be8",
   "metadata": {},
   "outputs": [
    {
     "name": "stdout",
     "output_type": "stream",
     "text": [
      "for  1  fold - \n",
      "mean train error :  0.049792956545812825\n",
      "std train error :  0.05262410653572809\n",
      "\n",
      "\n",
      "for  2  fold - \n",
      "mean train error :  0.04773913494215508\n",
      "std train error :  0.05092722954255809\n",
      "\n",
      "\n",
      "for  3  fold - \n",
      "mean train error :  0.049606082011965945\n",
      "std train error :  0.05286226374497228\n",
      "\n",
      "\n",
      "for  4  fold - \n",
      "mean train error :  0.049005610996644244\n",
      "std train error :  0.05412012761730603\n",
      "\n",
      "\n",
      "for  5  fold - \n",
      "mean train error :  0.05229643137043185\n",
      "std train error :  0.05820156345829105\n",
      "\n",
      "\n",
      "for  6  fold - \n",
      "mean train error :  0.050880706885124624\n",
      "std train error :  0.05586930711307158\n",
      "\n",
      "\n",
      "for  7  fold - \n",
      "mean train error :  0.05152603546181387\n",
      "std train error :  0.05385391016696693\n",
      "\n",
      "\n",
      "for  8  fold - \n",
      "mean train error :  0.05044394426376241\n",
      "std train error :  0.05560243876556361\n",
      "\n",
      "\n",
      "for  9  fold - \n",
      "mean train error :  0.058076804393101915\n",
      "std train error :  0.06379151255184762\n",
      "\n",
      "\n",
      "for  10  fold - \n",
      "mean train error :  0.13146986247354203\n",
      "std train error :  0.14750021670726893\n",
      "\n",
      "\n"
     ]
    }
   ],
   "source": [
    "#4a. print mean and std of training errors for degree 50\n",
    "computeErrorTerms(50,3,weight_list50)"
   ]
  },
  {
   "cell_type": "code",
   "execution_count": 22,
   "id": "11b8d329",
   "metadata": {},
   "outputs": [
    {
     "name": "stdout",
     "output_type": "stream",
     "text": [
      "[0.2972093940052375, 0.07123632632728036, 0.07062742364088716, 0.05908375693443548]\n",
      "[0.012306288263591812, 0.008686813334572068, 0.0086723455763895, 0.008811711568354383]\n"
     ]
    },
    {
     "data": {
      "image/png": "[encoded data removed]",
      "text/plain": [
       "<Figure size 432x288 with 1 Axes>"
      ]
     },
     "metadata": {
      "needs_background": "light"
     },
     "output_type": "display_data"
    }
   ],
   "source": [
    "# 4a. Error bar plot for training \n",
    "ind=[1,2,3,4]\n",
    "plt.errorbar(x=ind,y=mean_training_err,fmt='o',yerr=std_training_err, ls='-')\n",
    "plt.xlabel('Hypothesis Class')\n",
    "plt.ylabel('Mean Error Over 10 folds')\n",
    "plt.title(\"Errorbar plot for training errors \")\n",
    "print(mean_training_err)\n",
    "print(std_training_err)"
   ]
  },
  {
   "cell_type": "code",
   "execution_count": 23,
   "id": "3ebe8e91",
   "metadata": {},
   "outputs": [
    {
     "name": "stdout",
     "output_type": "stream",
     "text": [
      "[597330.903957491, 444572.0605701994, 1385995.943541703, 1.2002078041826508e+91]\n",
      "[333242.7757357082, 234648.40468252232, 1178303.8557141812, 1.1386170973515765e+91]\n"
     ]
    },
    {
     "data": {
      "image/png": "[encoded data removed]",
      "text/plain": [
       "<Figure size 432x288 with 1 Axes>"
      ]
     },
     "metadata": {
      "needs_background": "light"
     },
     "output_type": "display_data"
    }
   ],
   "source": [
    "#4a. Error bar plot for test\n",
    "ind=[1,2,3,4]\n",
    "plt.errorbar(x=ind,y=mean_test_err,yerr=std_test_err ,fmt='o', ls='-')\n",
    "plt.xlabel('Hypothesis Class')\n",
    "plt.ylabel('Mean Error Over 10 folds')\n",
    "plt.title(\"Errorbar plot for test errors \")\n",
    "print(mean_test_err)\n",
    "print(std_test_err)"
   ]
  },
  {
   "cell_type": "code",
   "execution_count": 24,
   "id": "7e83f357",
   "metadata": {},
   "outputs": [
    {
     "name": "stdout",
     "output_type": "stream",
     "text": [
      "min training error  0.2629082873530506  at index 7 for Hypothesis  0\n"
     ]
    },
    {
     "data": {
      "image/png": "[encoded data removed]",
      "text/plain": [
       "<Figure size 432x288 with 1 Axes>"
      ]
     },
     "metadata": {
      "needs_background": "light"
     },
     "output_type": "display_data"
    }
   ],
   "source": [
    "# 4b. for degree 1 plot\n",
    "plotTrainingOutput(1,min_id_deg1,min_val_deg1,0,weight_list1)\n"
   ]
  },
  {
   "cell_type": "code",
   "execution_count": 25,
   "id": "ae2607e9",
   "metadata": {},
   "outputs": [
    {
     "name": "stdout",
     "output_type": "stream",
     "text": [
      "min training error  0.05833620004806693  at index 6 for Hypothesis  1\n"
     ]
    },
    {
     "data": {
      "image/png": "[encoded data removed]",
      "text/plain": [
       "<Figure size 432x288 with 1 Axes>"
      ]
     },
     "metadata": {
      "needs_background": "light"
     },
     "output_type": "display_data"
    }
   ],
   "source": [
    "#4b. for degree 3 plot\n",
    "plotTrainingOutput(3,min_id_deg3,min_val_deg3,1,weight_list3)"
   ]
  },
  {
   "cell_type": "code",
   "execution_count": 26,
   "id": "378d9577",
   "metadata": {},
   "outputs": [
    {
     "name": "stdout",
     "output_type": "stream",
     "text": [
      "min training error  0.05802669197589767  at index 4 for Hypothesis  2\n"
     ]
    },
    {
     "data": {
      "image/png": "[encoded data removed]",
      "text/plain": [
       "<Figure size 432x288 with 1 Axes>"
      ]
     },
     "metadata": {
      "needs_background": "light"
     },
     "output_type": "display_data"
    }
   ],
   "source": [
    "#4b. for degree 5 plot\n",
    "plotTrainingOutput(5,min_id_deg5,min_val_deg5,2,weight_list5)"
   ]
  },
  {
   "cell_type": "code",
   "execution_count": 27,
   "id": "6da23b14",
   "metadata": {},
   "outputs": [
    {
     "name": "stdout",
     "output_type": "stream",
     "text": [
      "min training error  0.04773913494215508  at index 2 for Hypothesis  3\n"
     ]
    },
    {
     "data": {
      "image/png": "[encoded data removed]",
      "text/plain": [
       "<Figure size 432x288 with 1 Axes>"
      ]
     },
     "metadata": {
      "needs_background": "light"
     },
     "output_type": "display_data"
    }
   ],
   "source": [
    "#4b for degree 50 plot\n",
    "plotTrainingOutput(50,min_id_deg50,min_val_deg50,3,weight_list50)"
   ]
  },
  {
   "cell_type": "markdown",
   "id": "ddc76baa",
   "metadata": {},
   "source": [
    " # 5) Hypothesis2 with degree 3 is better than other hypotheses. \n",
    "* hypothesis 1 with linear model underfits the training data (simple model)\n",
    "* hypothesis 3 with degree 5 starts overfitting the training data (complex model)\n",
    "* hypothesis 4 with degree 50 exactly overfits the training data (extremely complex model)\n",
    "\n",
    "* Test Error Drops in Hypothesis2 with degree 3 from Hypothesis1 with degree 1, also, Test error increases largely in  Hypotheses3 with degree 5 and Hypotheses4 with degree 50. \n",
    "* Therefore, I will choose Hypothesis2"
   ]
  },
  {
   "cell_type": "code",
   "execution_count": null,
   "id": "1db76058",
   "metadata": {},
   "outputs": [],
   "source": []
  }
 ],
 "metadata": {
  "kernelspec": {
   "display_name": "cs529",
   "language": "python",
   "name": "cs529"
  },
  "language_info": {
   "codemirror_mode": {
    "name": "ipython",
    "version": 3
   },
   "file_extension": ".py",
   "mimetype": "text/x-python",
   "name": "python",
   "nbconvert_exporter": "python",
   "pygments_lexer": "ipython3",
   "version": "3.7.10"
  }
 },
 "nbformat": 4,
 "nbformat_minor": 5
}
