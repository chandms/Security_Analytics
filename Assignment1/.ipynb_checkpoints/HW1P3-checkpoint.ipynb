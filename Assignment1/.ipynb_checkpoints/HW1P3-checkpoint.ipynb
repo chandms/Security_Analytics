{
 "cells": [
  {
   "cell_type": "code",
   "execution_count": 1,
   "id": "8ad1f8a5",
   "metadata": {},
   "outputs": [],
   "source": [
    "import numpy as np\n",
    "import pandas as pd\n",
    "import matplotlib.pyplot as plt\n",
    "import seaborn as sns\n",
    "%matplotlib inline\n",
    "import random\n",
    "random.seed(0)\n",
    "np.random.seed(0)\n",
    "from sklearn.linear_model import LinearRegression\n",
    "from sklearn.preprocessing import PolynomialFeatures\n",
    "from sklearn.model_selection import KFold"
   ]
  },
  {
   "cell_type": "code",
   "execution_count": 2,
   "id": "b0e10e2c",
   "metadata": {},
   "outputs": [],
   "source": [
    "# forming dataframe from the given data\n",
    "data = pd.read_csv('data.txt',header=None,names=['x','y'],delim_whitespace=True)"
   ]
  },
  {
   "cell_type": "code",
   "execution_count": 3,
   "id": "0bcf1ccc",
   "metadata": {},
   "outputs": [
    {
     "data": {
      "text/html": [
       "<div>\n",
       "<style scoped>\n",
       "    .dataframe tbody tr th:only-of-type {\n",
       "        vertical-align: middle;\n",
       "    }\n",
       "\n",
       "    .dataframe tbody tr th {\n",
       "        vertical-align: top;\n",
       "    }\n",
       "\n",
       "    .dataframe thead th {\n",
       "        text-align: right;\n",
       "    }\n",
       "</style>\n",
       "<table border=\"1\" class=\"dataframe\">\n",
       "  <thead>\n",
       "    <tr style=\"text-align: right;\">\n",
       "      <th></th>\n",
       "      <th>x</th>\n",
       "      <th>y</th>\n",
       "    </tr>\n",
       "  </thead>\n",
       "  <tbody>\n",
       "    <tr>\n",
       "      <th>0</th>\n",
       "      <td>-6.0</td>\n",
       "      <td>-164.160590</td>\n",
       "    </tr>\n",
       "    <tr>\n",
       "      <th>1</th>\n",
       "      <td>-5.8</td>\n",
       "      <td>90.739607</td>\n",
       "    </tr>\n",
       "    <tr>\n",
       "      <th>2</th>\n",
       "      <td>-5.6</td>\n",
       "      <td>-131.842090</td>\n",
       "    </tr>\n",
       "    <tr>\n",
       "      <th>3</th>\n",
       "      <td>-5.4</td>\n",
       "      <td>-178.428200</td>\n",
       "    </tr>\n",
       "    <tr>\n",
       "      <th>4</th>\n",
       "      <td>-5.2</td>\n",
       "      <td>-4.838565</td>\n",
       "    </tr>\n",
       "  </tbody>\n",
       "</table>\n",
       "</div>"
      ],
      "text/plain": [
       "     x           y\n",
       "0 -6.0 -164.160590\n",
       "1 -5.8   90.739607\n",
       "2 -5.6 -131.842090\n",
       "3 -5.4 -178.428200\n",
       "4 -5.2   -4.838565"
      ]
     },
     "execution_count": 3,
     "metadata": {},
     "output_type": "execute_result"
    }
   ],
   "source": [
    "#checking the head of the data\n",
    "data.head()"
   ]
  },
  {
   "cell_type": "code",
   "execution_count": 4,
   "id": "f570083b",
   "metadata": {},
   "outputs": [
    {
     "data": {
      "text/plain": [
       "<AxesSubplot:xlabel='x', ylabel='y'>"
      ]
     },
     "execution_count": 4,
     "metadata": {},
     "output_type": "execute_result"
    },
    {
     "data": {
      "image/png": "[encoded data removed]",
      "text/plain": [
       "<Figure size 432x288 with 1 Axes>"
      ]
     },
     "metadata": {
      "needs_background": "light"
     },
     "output_type": "display_data"
    }
   ],
   "source": [
    "# scatterplot of the given data\n",
    "sns.scatterplot(x='x',y='y',data=data)"
   ]
  },
  {
   "cell_type": "code",
   "execution_count": 5,
   "id": "08484186",
   "metadata": {},
   "outputs": [],
   "source": [
    "X=data['x'].to_numpy() #features\n",
    "Y=data['y'].to_numpy() #output\n",
    "kfold = KFold(n_splits=10) #10 splits\n",
    "trainX=[]\n",
    "trainY=[]\n",
    "testX=[]\n",
    "testY=[]"
   ]
  },
  {
   "cell_type": "code",
   "execution_count": 6,
   "id": "02961e1e",
   "metadata": {},
   "outputs": [],
   "source": [
    "#1. Partitioning the data in 10 folds and producing 10 different set of train and validation set\n",
    "for train_index, test_index in kfold.split(X):\n",
    "    trainX.append(X[train_index])\n",
    "    testX.append(X[test_index])\n",
    "    trainY.append(Y[train_index])\n",
    "    testY.append(Y[test_index])"
   ]
  },
  {
   "cell_type": "code",
   "execution_count": 7,
   "id": "eaf78c87",
   "metadata": {},
   "outputs": [],
   "source": [
    "#2. Normalize training input and output sample using mean and standard deviation\n",
    "stdTrainX=[]\n",
    "stdTrainY=[]\n",
    "for i in range(10):\n",
    "    stdTrainX.append((trainX[i]-np.mean(trainX[i],axis=0))/np.std(trainX[i],axis=0))\n",
    "    stdTrainY.append((trainY[i]-np.mean(trainY[i],axis=0))/np.std(trainY[i],axis=0))"
   ]
  },
  {
   "cell_type": "code",
   "execution_count": 8,
   "id": "3a3dd044",
   "metadata": {},
   "outputs": [],
   "source": [
    "# compute mean squared error\n",
    "def computeCost(X,y,weights):\n",
    "    n = len(y);\n",
    "    predictions = X.dot(weights)\n",
    "    sq_err = (predictions-y)**2;\n",
    "    return np.mean(sq_err)"
   ]
  },
  {
   "cell_type": "code",
   "execution_count": 9,
   "id": "6e77cd5e",
   "metadata": {},
   "outputs": [],
   "source": [
    "# compute standard deviation of error\n",
    "def computeStdCost(X,y,weights):\n",
    "    n = len(y);\n",
    "    predictions = X.dot(weights)\n",
    "    sq_err = (predictions-y)**2;\n",
    "    return np.std(sq_err)"
   ]
  },
  {
   "cell_type": "code",
   "execution_count": 10,
   "id": "71574a1a",
   "metadata": {},
   "outputs": [],
   "source": [
    "# compute training weights\n",
    "def computeModels(degree):\n",
    "    model_weights=[]\n",
    "    for ind in range(10):\n",
    "        polyFeat = PolynomialFeatures(degree=degree)\n",
    "        Xtrain = polyFeat.fit_transform(stdTrainX[ind].reshape(-1,1))\n",
    "        cmodel = LinearRegression(fit_intercept=False)\n",
    "        cmodel.fit(Xtrain,stdTrainY[ind])\n",
    "        weight=[]\n",
    "        for item in (cmodel.coef_):\n",
    "            weight.append(item)\n",
    "        model_weights.append(weight)\n",
    "    return model_weights"
   ]
  },
  {
   "cell_type": "code",
   "execution_count": 11,
   "id": "cb565f47",
   "metadata": {},
   "outputs": [],
   "source": [
    "# store mean, std of training and test error over 10 folds for errorbar plot\n",
    "mean_training_err = [] \n",
    "mean_test_err = []\n",
    "std_training_err =[]\n",
    "std_test_err =[]"
   ]
  },
  {
   "cell_type": "code",
   "execution_count": 12,
   "id": "29890f9d",
   "metadata": {},
   "outputs": [],
   "source": [
    "# prints mean and standard deviation of training\n",
    "def computeErrorTerms(degree,nthModel,weight_list):\n",
    "    polyFeat = PolynomialFeatures(degree=degree)\n",
    "    train_mean_err_list=[]\n",
    "    test_mean_err_list=[]\n",
    "    train_std_err_list=[]\n",
    "    test_std_err_list=[]\n",
    "    \n",
    "    for i in range(10):\n",
    "        weights = np.array(weight_list[i]).reshape((degree+1,1))\n",
    "        Xtrain = polyFeat.fit_transform(stdTrainX[i].reshape(-1,1))\n",
    "        Xtest = polyFeat.transform(testX[i].reshape(-1,1))\n",
    "        \n",
    "        train_err = computeCost(Xtrain,stdTrainY[i].reshape(len(stdTrainY[i]),1),weights)\n",
    "        test_err = computeCost(Xtest,testY[i].reshape(len(testY[i]),1),weights)\n",
    "        train_std_err = computeStdCost(Xtrain,stdTrainY[i].reshape(len(stdTrainY[i]),1),weights)\n",
    "        test_std_err = computeCost(Xtest,testY[i].reshape(len(testY[i]),1),weights)\n",
    "        \n",
    "        train_mean_err_list.append(train_err)\n",
    "        test_mean_err_list.append(test_err)\n",
    "        train_std_err_list.append(train_std_err)\n",
    "        test_std_err_list.append(test_std_err)\n",
    "        \n",
    "        print(\"for \",str(i+1),\" fold - \")\n",
    "        print(\"mean train error : \",train_err)\n",
    "        print(\"std train error : \",train_std_err)\n",
    "        print(\"\\n\")\n",
    "    \n",
    "    mean_training_err.append(np.mean(train_mean_err_list))\n",
    "    std_training_err.append(np.std(train_std_err_list)/np.sqrt(10))\n",
    "    mean_test_err.append(np.mean(test_mean_err_list))\n",
    "    std_test_err.append(np.std(test_std_err_list)/np.sqrt(10))\n",
    "    min_val = min(train_mean_err_list)\n",
    "    min_ind = train_mean_err_list.index(min_val)\n",
    "    \n",
    "    if(degree==1):\n",
    "        global min_id_deg1 # min index for degree 1\n",
    "        min_id_deg1 = min_ind\n",
    "        global min_val_deg1 #min value for degree 1\n",
    "        min_val_deg1 = min_val\n",
    "    elif(degree==3):\n",
    "        global min_id_deg3 #min index for degree 3\n",
    "        min_id_deg3 = min_ind\n",
    "        global min_val_deg3 #min value for degree 3\n",
    "        min_val_deg3=min_val\n",
    "    elif(degree==5):\n",
    "        global min_id_deg5 #min index for degree 5\n",
    "        min_id_deg5 = min_ind\n",
    "        global min_val_deg5 #min value for degree 5\n",
    "        min_val_deg5 = min_val\n",
    "    else:\n",
    "        global min_id_deg50 #min index for degree 50\n",
    "        min_id_deg50 = min_ind\n",
    "        global min_val_deg50 #min value for degree 50\n",
    "        min_val_deg50 = min_val\n",
    "    "
   ]
  },
  {
   "cell_type": "code",
   "execution_count": 13,
   "id": "888abb95",
   "metadata": {},
   "outputs": [],
   "source": [
    "# to plot minimum training error output\n",
    "def plotTrainingOutput(degree,min_ind,min_val,modelNo,weight_list):\n",
    "    polyFeat = PolynomialFeatures(degree=degree)\n",
    "    print(\"min training error \",min_val,\" at index\",min_ind+1,\"for Hypothesis \",modelNo)\n",
    "    plt.scatter(stdTrainX[min_ind],stdTrainY[min_ind])\n",
    "    X_Poly = polyFeat.fit_transform(stdTrainX[min_ind].reshape(-1,1))\n",
    "    pred = X_Poly.dot(np.array(weight_list[min_ind]).reshape(degree+1,1))\n",
    "    plt.plot(stdTrainX[min_ind],pred,'r')\n",
    "    plt.xlabel('x')\n",
    "    plt.ylabel('y')\n",
    "    plt.title(\"Hypothesis \"+str(modelNo+1))"
   ]
  },
  {
   "cell_type": "code",
   "execution_count": 14,
   "id": "05623b8e",
   "metadata": {},
   "outputs": [
    {
     "name": "stdout",
     "output_type": "stream",
     "text": [
      "[[1.0467283057891832e-16, 0.826237884186147], [-1.2994177644568626e-16, 0.837988904180901], [0.0, 0.8374049255899256], [2.0790684231309803e-16, 0.8350692770852614], [2.5988355289137254e-17, 0.8475765867011976], [1.5593013173482354e-16, 0.852937261008124], [-7.796506586741176e-17, 0.858560320903085], [-7.796506586741176e-17, 0.8503812151283634], [-5.19767105782745e-17, 0.8113684542714112], [-7.796506586741176e-17, 0.8247843266763029]]\n"
     ]
    }
   ],
   "source": [
    "#3a. weights for degree 1\n",
    "weight_list1 = computeModels(1)\n",
    "print(weight_list1)"
   ]
  },
  {
   "cell_type": "code",
   "execution_count": 15,
   "id": "68cb3fa0",
   "metadata": {},
   "outputs": [
    {
     "name": "stdout",
     "output_type": "stream",
     "text": [
      "[[-0.5108279551946254, 0.3657825428543696, 0.5108279551946261, 0.2558743469628608], [-0.48049478981316146, 0.3354573187060557, 0.5417493471413588, 0.3040068151638949], [-0.47337889896686985, 0.32959893539250107, 0.5421159646376559, 0.3307715752293232], [-0.48667047797476937, 0.2983365139904455, 0.5375576540039286, 0.35638623440427003], [-0.46744469962216706, 0.24094044833097156, 0.485181112940571, 0.3848868508010609], [-0.4918193463888138, 0.20424354116107768, 0.4694705977856366, 0.3785880947591973], [-0.4660789799640613, 0.16400122860286387, 0.410385739448531, 0.36345117841522656], [-0.41913368370646215, 0.16006092116611867, 0.3502617273233245, 0.32480084499020545], [-0.3679985427463086, 0.12828654533730244, 0.30856548001585654, 0.3090243059276885], [-0.33531663240337045, 0.2143813049524664, 0.3353166324033703, 0.3391976741494163]]\n"
     ]
    }
   ],
   "source": [
    "#3b. weights for degree 3\n",
    "weight_list3 = computeModels(3)\n",
    "print(weight_list3)"
   ]
  },
  {
   "cell_type": "code",
   "execution_count": 16,
   "id": "53fcf6fb",
   "metadata": {},
   "outputs": [
    {
     "name": "stdout",
     "output_type": "stream",
     "text": [
      "[[-0.4977314091349073, 0.44744529585160664, 0.4671334346960806, 0.1286632612647645, 0.017003248795586984, 0.03820755594977226], [-0.45488620975355204, 0.32331945891828606, 0.45425828057623685, 0.3159608736021651, 0.03228357330841147, 0.0006549379020433441], [-0.44252737410616944, 0.3404014333288223, 0.4208920080364828, 0.3112758265782487, 0.05010078599107182, 0.009693097192176842], [-0.4654329792564865, 0.3319243424204555, 0.4533445310037116, 0.29632666100221555, 0.03706687709504779, 0.02135755726102747], [-0.39960576005945025, 0.20427911931100398, 0.2800329007537325, 0.43481265747527176, 0.08435537979925178, -0.013770394656372184], [-0.46654277049485054, 0.20461811757355858, 0.39053701863532414, 0.3837159323406133, 0.032827398507162764, -0.00298652740332344], [-0.4424415959489049, 0.15432370409431248, 0.3226362062020005, 0.3863543736996728, 0.037609619740702, -0.009863295405918137], [-0.3979321077406826, 0.16177688406005908, 0.2685083457120445, 0.32350517118242306, 0.03304172810245238, -0.0022153405680243455], [-0.3397408187134994, 0.14704980713352409, 0.2147844233258075, 0.28981683641751577, 0.03392587255990767, 0.0007334179348860853], [-0.33045937063006475, 0.10223603567180302, 0.31911155730587937, 0.5138865005942226, 0.006305918793414557, -0.0524657309638065]]\n"
     ]
    }
   ],
   "source": [
    "#3c. weights for degree 5\n",
    "weight_list5 = computeModels(5)\n",
    "print(weight_list5)"
   ]
  },
  {
   "cell_type": "code",
   "execution_count": 17,
   "id": "5fe2bf59",
   "metadata": {},
   "outputs": [
    {
     "name": "stdout",
     "output_type": "stream",
     "text": [
      "[[-0.4333067930782929, 1.061520694735234, 2.326571028999715, -1.6826951829638408, -40.170274579566765, -28.216903239820017, 177.15026379227317, 155.23772008270606, -249.5067285863199, -245.40536537518872, -2.874341254407131, 12.491781122569693, 166.6780426701131, 202.86138308017476, 80.7663967750362, 56.90072986592289, -82.78019071221355, -150.6228996607472, -126.56899332519713, -143.5865755198168, -34.61430790434059, 42.73580864452378, 87.35087580496045, 162.9204181026649, 104.67227742001296, 65.43298740309008, -2.0008671284123523, -117.96649425228843, -103.73839094778478, -123.34768125328763, -61.3425291839889, 70.33023780280489, 75.61159985601503, 138.61623434990102, 85.56998199201425, -75.1664477852877, -73.46772830618303, -119.85201289604414, -73.15610700320852, 171.02670320127325, 129.260157638134, -100.98956799965622, -82.5673608379541, 34.11996656363128, 29.362320370357814, -6.892475285892743, -6.168858561830987, 0.7798372911839735, 0.7209177499675548, -0.03823801577216557, -0.03634469988528366], [-0.4537544565650236, 0.9855273508348406, 1.3680526487115252, -4.310685938081051, -3.3939350377003663, 7.787010999754689, 1.7894671003846945, 0.6182021221012315, 2.2050163821883957, -3.829143784307058, 0.3757718794056701, -4.013332879546862, -1.0632179301549554, -1.2871671659569321, -1.2808521862570712, 1.7415834000726256, -0.7090445744605068, 3.1350559840533516, 0.3929783341863672, 2.4014736811144854, 1.1820776115749263, 0.17183670490191144, 1.0410001201049952, -1.9467588172080252, -0.035033136425027714, -2.3713797942644104, -1.2541753743462145, -0.7522426525479434, -1.38297547072752, 1.4163645910694713, 0.11480184683749206, 1.8385444516839933, 1.8251267225690433, -0.005341877342084189, 1.0834827389437596, -1.5092820400074909, -1.884546552207835, -0.3210711594737422, -1.4309895371704568, 0.9675502447498114, 3.0887741920333633, -0.06754232270965504, -1.919421699040178, -0.3408985397305704, 0.576512260164352, 0.18357324515288553, -0.0801473136688361, -0.03895219173499331, 0.0021788198860897, 0.003088912113933695, 0.0003870991940333468], [-0.5142547219965261, 1.508290925657618, -0.14725841448109625, -13.600100100032499, 10.937237851850437, 44.98283761510584, -30.11522787119246, -42.16942130699779, 11.467468828200992, -13.073668742769813, 24.044083550578694, 18.218168876512372, 4.246540207770324, 18.802183390810455, -17.592805486795644, 1.4677395582306842, -16.799057244431786, -13.295713515892542, -3.0363544412024877, -13.278670046198005, 13.218728421100412, -1.232525383129519, 15.636238808404022, 11.177854219772504, 2.9032057535953024, 12.046854130181963, -11.710202906938335, -0.39674403388673257, -12.516227196023072, -13.31956544235024, 1.3303873391415704, -9.538222422658432, 11.98659283372494, 9.486751978475764, 4.294109501375976, 14.958817216709278, -8.818305725379204, -9.202074884429365, -3.374429000131128, -16.021969715781214, 6.78062569180795, 22.72834730280768, -1.928219047601969, -12.734472832627176, -0.7392282828401235, 3.800094078831493, 0.5748890587936941, -0.5991106269657465, -0.13177896597498062, 0.03947872289248622, 0.010793214005403229], [-0.532344488186366, 0.8509134028080646, 1.2529609760257152, -1.6574984741396317, 19.15780049030333, -19.94610795552043, -212.29736033996522, 128.224402270196, 644.8622789142419, -170.3043403153119, -596.1623588857695, -100.96707411298274, -291.76460703763314, 169.55868896940783, 426.0546135762501, 173.29555301058713, 448.75334909532904, -26.206456426641616, -182.24542867894112, -200.07575702637328, -499.8598485154023, -149.19978060720092, -159.71849119083677, 61.157764373276756, 365.6130226730131, 211.86573469238098, 384.8895398780637, 130.01629262838944, -130.69735396516126, -126.79217203733862, -438.30190491249823, -250.51853451173025, -31.48191771526072, 6.23876850781987, 420.3066108703507, 322.88486386260564, 13.644545161663245, 7.88745477414534, -401.5508130215294, -444.74197107587656, 298.7801448364406, 442.6470977448937, -80.31537399904423, -213.1243642471502, -4.900971102310024, 57.58542858202043, 8.203928826410305, -8.422476246138245, -1.8765696649407602, 0.5224012121119443, 0.1469034778494258], [-0.37173374440956924, 0.025410045496670572, -11.245868544623992, 20.154285814624927, 189.84252295180556, -220.1566434708881, -1087.6296186434163, 910.9694247668266, 2671.141356158479, -1513.1065514619363, -2406.078730042528, 445.7566012249277, -809.9695630709448, 1156.3010040487452, 1818.5635491527303, -280.8275159793388, 997.3296891193761, -994.2309956765407, -1001.875734254654, -194.55323628692602, -1339.87727220989, 702.1816338172783, 99.45886722555876, 527.5433203456914, 1241.0089138714281, -301.3222851492527, 603.3802241968647, -581.100192089446, -841.4429400477409, 5.5615499557742964, -931.338580337359, 482.64190853283804, 519.5111652313717, 88.41499528035149, 995.4741944240814, -392.36121638717486, -581.5660635792947, 7.498211853797443, -818.0326772700644, 299.643203832322, 1231.3400760427608, -248.0229150518117, -751.036336702816, 99.94230500599042, 261.8390573313093, -22.787929314232315, -54.64149341690796, 2.830813240815587, 6.395139483661524, -0.1498317453347795, -0.32474595506948845], [-0.7236038490723833, -1.388852956476741, 0.19439514112329434, 27.267823156895773, 77.54605111126838, -165.1774588044327, -572.8595565950305, 482.6365138938914, 1457.7107658933264, -628.3137644848977, -1123.2583749357807, 92.09056819266115, -766.190855423318, 433.7848520135285, 843.0425595721206, 44.55196262889478, 828.4922654761635, -373.32770490690274, -215.4156188260299, -243.66032180478024, -848.6229134460427, 202.03234011505518, -332.7118961199744, 374.86586169342337, 527.6617076588609, 32.76553059083819, 599.6290450922392, -370.8981397169536, -145.27518287795482, -222.06567886304288, -592.9903258465037, 313.46206668250886, -59.3813101015798, 314.1851453895893, 515.102915116576, -346.44881830586746, 14.053272197172646, -260.3281804807418, -452.11069831387283, 582.6689337059947, 343.50187728140946, -421.0061141415576, -110.40945464233889, 167.36155393222492, 10.646240558497425, -39.23674947584732, 3.12677545461014, 5.120169306131743, -0.9746283188221128, -0.28863003925118846, 0.08043598655261519], [-0.5136997976770907, 0.8533346031316393, 4.910310975133129, -16.31824915117861, -26.42987745030353, 126.8238146523644, 20.234006305511826, -355.89871015069485, 92.74017192555225, 305.88962802925624, -106.98645169526867, 184.27455059395007, -94.09652239546254, -200.50774116990803, 54.81734893121672, -241.60030272091979, 108.91568625614825, 3.862949098895292, 53.575789368863504, 222.95083178006823, -57.81753496025985, 170.45330890632007, -107.54315178639526, -69.63932355785629, -44.89968000224064, -212.97534562445355, 71.75860185738676, -89.6331891977579, 111.51462204191711, 144.07296199268953, 5.1579255793417165, 165.38442253887948, -125.33622276346948, -70.74836550201957, -61.97827826250271, -176.1964388477988, 138.71895791961663, 69.55981528022505, 59.82508600245418, 147.29195127929054, -209.26985356988263, -173.21325843629995, 168.748029569845, 85.90560660155356, -71.54878633177275, -23.16395097552258, 17.553127621543126, 3.3407569713031933, -2.371181707249889, -0.20322283955609066, 0.13740977054706605], [-0.46715530214830553, -0.38071738817826467, 5.529613950127801, 7.634070268850543, -34.725574254143766, -20.341283784505283, 73.07776079515406, 7.663571195244705, -24.76015646667966, 19.228479823534215, -51.93582195733352, 4.056837884274073, -11.129142408721592, -15.177342912817572, 32.24692023896771, -16.363532161125583, 39.695624649073736, -3.997396401544296, 11.76098507774779, 11.008860888071471, -23.224248641770554, 15.167025860875135, -35.798198295602496, 6.253849737316474, -15.257152322941847, -6.767004624496758, 19.847989287062823, -12.087555928104619, 33.78598775386108, -5.817123675817596, 7.795586496667816, 4.876221490540361, -29.52306751970639, 9.619282426677165, -23.07118969298545, 3.878940923727424, 25.05235731726129, -8.859891798392113, 22.72344011341892, -9.81494860280561, -38.201576306365304, 19.508128216633104, 20.588299237282754, -12.448243975611902, -5.242899643450492, 4.014502717738022, 0.5058288208419981, -0.6663362905733186, 0.03091150446659441, 0.045492412474512633, -0.007247010402174681], [-0.3143308634725738, 0.20368441052299116, 0.8126702324517163, 0.23102508870750219, -0.7700416854000234, -0.1553466164159513, -0.6282601449429773, 0.07661118106346668, -0.09515942777093767, 0.29065185810889416, 0.37615696241692914, 0.3241219560891948, 0.6242371209534735, 0.1600291275501901, 0.5680454181016762, -0.0894324109218191, 0.2800550930744114, -0.31688676582092207, -0.12042334318263952, -0.38959766403065893, -0.44871144351886577, -0.25956186385978075, -0.5452402935676329, 0.029764512350704743, -0.3414263198500933, 0.3217565881986487, 0.06359067667664806, 0.40048735956254594, 0.4048691023748791, 0.1407922389670186, 0.4008732864755704, -0.30004156840205554, 0.026061116420717893, -0.4603571521192952, -0.3339063862697681, -0.00350556387665317, -0.21715155403900094, 0.5573535932407059, 0.18671561463231146, 0.10620119093608124, 0.13339524557366614, -0.7226676736432286, -0.10694072803205196, 0.5608393744895819, -0.009338222275934414, -0.20147503588043852, 0.024355826553386528, 0.03609234013145062, -0.00713158951552284, -0.0026145966627156847, 0.0006721552846276624], [-0.509925589667073, -0.17927641988382684, 12.052185501948587, -14.7550776336001, -112.72536139768972, 188.021085751643, 371.5172771033147, -652.431527469316, -420.1720362365319, 760.6384746322193, -36.020409051306025, 124.35248029596684, 154.1626799500761, -586.8022957666421, 247.68381995254867, -216.6021545070603, -54.21587811345677, 305.99155834224484, -239.75037093556745, 397.0254607352845, -116.2594295823927, -29.141010030088598, 122.46863415827809, -379.2697673918309, 186.4713536401579, -202.35230197699238, 14.627013223283626, 249.2110277366247, -155.2208377690756, 311.96047206231, -90.35227728500209, -141.29597601960128, 103.17225647896464, -339.7524517998077, 103.39746259145682, 165.71083383118932, -85.27767037942908, 299.00513940198726, -84.56212241428369, -416.2659807830965, 142.405453943545, 246.26613079835025, -87.64218613805349, -83.9744992201517, 30.118311871565766, 17.185299923389664, -6.12615833003872, -1.9743234384435056, 0.6940963541769847, 0.09843926457693897, -0.03396366659777739]]\n"
     ]
    }
   ],
   "source": [
    "#3d. weights for degree 50\n",
    "weight_list50 = computeModels(50)\n",
    "print(weight_list50)"
   ]
  },
  {
   "cell_type": "code",
   "execution_count": 18,
   "id": "d703322a",
   "metadata": {},
   "outputs": [
    {
     "name": "stdout",
     "output_type": "stream",
     "text": [
      "for  1  fold - \n",
      "mean train error :  0.3173309587355997\n",
      "std train error :  0.46279615963827253\n",
      "\n",
      "\n",
      "for  2  fold - \n",
      "mean train error :  0.2977745964696934\n",
      "std train error :  0.45262588797813363\n",
      "\n",
      "\n",
      "for  3  fold - \n",
      "mean train error :  0.29875299059773075\n",
      "std train error :  0.45988078253877074\n",
      "\n",
      "\n",
      "for  4  fold - \n",
      "mean train error :  0.3026593024682998\n",
      "std train error :  0.4637003859665985\n",
      "\n",
      "\n",
      "for  5  fold - \n",
      "mean train error :  0.2816139296759475\n",
      "std train error :  0.45323572831283193\n",
      "\n",
      "\n",
      "for  6  fold - \n",
      "mean train error :  0.27249802878395984\n",
      "std train error :  0.4233104035894403\n",
      "\n",
      "\n",
      "for  7  fold - \n",
      "mean train error :  0.2628741753707918\n",
      "std train error :  0.3994387160717923\n",
      "\n",
      "\n",
      "for  8  fold - \n",
      "mean train error :  0.2768517889568073\n",
      "std train error :  0.40371714795795277\n",
      "\n",
      "\n",
      "for  9  fold - \n",
      "mean train error :  0.3416812314132205\n",
      "std train error :  0.5442314520114779\n",
      "\n",
      "\n",
      "for  10  fold - \n",
      "mean train error :  0.31973081446911766\n",
      "std train error :  0.4496777113336276\n",
      "\n",
      "\n"
     ]
    }
   ],
   "source": [
    "#4a. print mean and std of training errors for degree 1\n",
    "computeErrorTerms(1,0,weight_list1)"
   ]
  },
  {
   "cell_type": "code",
   "execution_count": 19,
   "id": "b9efd5b0",
   "metadata": {},
   "outputs": [
    {
     "name": "stdout",
     "output_type": "stream",
     "text": [
      "for  1  fold - \n",
      "mean train error :  0.06837596678758616\n",
      "std train error :  0.060689990622467375\n",
      "\n",
      "\n",
      "for  2  fold - \n",
      "mean train error :  0.05982967845204849\n",
      "std train error :  0.05288446436513692\n",
      "\n",
      "\n",
      "for  3  fold - \n",
      "mean train error :  0.05947991117497331\n",
      "std train error :  0.055340599589408256\n",
      "\n",
      "\n",
      "for  4  fold - \n",
      "mean train error :  0.058248811165242984\n",
      "std train error :  0.05616310043660449\n",
      "\n",
      "\n",
      "for  5  fold - \n",
      "mean train error :  0.06152794299750575\n",
      "std train error :  0.054829092769489926\n",
      "\n",
      "\n",
      "for  6  fold - \n",
      "mean train error :  0.05826000207333155\n",
      "std train error :  0.055728898734900285\n",
      "\n",
      "\n",
      "for  7  fold - \n",
      "mean train error :  0.059147714857882214\n",
      "std train error :  0.052689648976030054\n",
      "\n",
      "\n",
      "for  8  fold - \n",
      "mean train error :  0.05835745582128888\n",
      "std train error :  0.054609876445316625\n",
      "\n",
      "\n",
      "for  9  fold - \n",
      "mean train error :  0.06952391228854007\n",
      "std train error :  0.062072633982918554\n",
      "\n",
      "\n",
      "for  10  fold - \n",
      "mean train error :  0.1589727921423581\n",
      "std train error :  0.14739702561802223\n",
      "\n",
      "\n"
     ]
    }
   ],
   "source": [
    "#4a. print mean and std of training errors for degree 3\n",
    "computeErrorTerms(3,1,weight_list3)"
   ]
  },
  {
   "cell_type": "code",
   "execution_count": 20,
   "id": "9eaf0068",
   "metadata": {},
   "outputs": [
    {
     "name": "stdout",
     "output_type": "stream",
     "text": [
      "for  1  fold - \n",
      "mean train error :  0.06772569846903997\n",
      "std train error :  0.05943384537027068\n",
      "\n",
      "\n",
      "for  2  fold - \n",
      "mean train error :  0.059284720722800166\n",
      "std train error :  0.052942804837405065\n",
      "\n",
      "\n",
      "for  3  fold - \n",
      "mean train error :  0.058559424037951543\n",
      "std train error :  0.056181572440077536\n",
      "\n",
      "\n",
      "for  4  fold - \n",
      "mean train error :  0.057754665107394826\n",
      "std train error :  0.05673141673812384\n",
      "\n",
      "\n",
      "for  5  fold - \n",
      "mean train error :  0.05932228692031022\n",
      "std train error :  0.05759651770925058\n",
      "\n",
      "\n",
      "for  6  fold - \n",
      "mean train error :  0.05792796726686325\n",
      "std train error :  0.056419446339446455\n",
      "\n",
      "\n",
      "for  7  fold - \n",
      "mean train error :  0.058651560839176546\n",
      "std train error :  0.05386749013937117\n",
      "\n",
      "\n",
      "for  8  fold - \n",
      "mean train error :  0.05791265845413088\n",
      "std train error :  0.055873924098201855\n",
      "\n",
      "\n",
      "for  9  fold - \n",
      "mean train error :  0.06885117332138874\n",
      "std train error :  0.06318097242194338\n",
      "\n",
      "\n",
      "for  10  fold - \n",
      "mean train error :  0.15798282261197497\n",
      "std train error :  0.14907199778121244\n",
      "\n",
      "\n"
     ]
    }
   ],
   "source": [
    "#4a. print mean and std of training errors for degree 5\n",
    "computeErrorTerms(5,2,weight_list5)"
   ]
  },
  {
   "cell_type": "code",
   "execution_count": 21,
   "id": "855a4be8",
   "metadata": {},
   "outputs": [
    {
     "name": "stdout",
     "output_type": "stream",
     "text": [
      "for  1  fold - \n",
      "mean train error :  0.04417908056972276\n",
      "std train error :  0.05597253629859364\n",
      "\n",
      "\n",
      "for  2  fold - \n",
      "mean train error :  0.05166114971267614\n",
      "std train error :  0.05766816591057447\n",
      "\n",
      "\n",
      "for  3  fold - \n",
      "mean train error :  0.047819507926513675\n",
      "std train error :  0.05830312081669739\n",
      "\n",
      "\n",
      "for  4  fold - \n",
      "mean train error :  0.038369099921729606\n",
      "std train error :  0.048541571059325654\n",
      "\n",
      "\n",
      "for  5  fold - \n",
      "mean train error :  0.04456805242557462\n",
      "std train error :  0.051333483940945994\n",
      "\n",
      "\n",
      "for  6  fold - \n",
      "mean train error :  0.0349377834355395\n",
      "std train error :  0.046461916488650466\n",
      "\n",
      "\n",
      "for  7  fold - \n",
      "mean train error :  0.046712722553534154\n",
      "std train error :  0.05700056326380344\n",
      "\n",
      "\n",
      "for  8  fold - \n",
      "mean train error :  0.06553111001779907\n",
      "std train error :  0.08175740346667046\n",
      "\n",
      "\n",
      "for  9  fold - \n",
      "mean train error :  0.10937087708476805\n",
      "std train error :  0.26060802203513617\n",
      "\n",
      "\n",
      "for  10  fold - \n",
      "mean train error :  0.11750756662242982\n",
      "std train error :  0.16083894943506818\n",
      "\n",
      "\n"
     ]
    }
   ],
   "source": [
    "#4a. print mean and std of training errors for degree 50\n",
    "computeErrorTerms(50,3,weight_list50)"
   ]
  },
  {
   "cell_type": "code",
   "execution_count": 22,
   "id": "11b8d329",
   "metadata": {},
   "outputs": [
    {
     "name": "stdout",
     "output_type": "stream",
     "text": [
      "[0.2971767816941169, 0.07117241877607575, 0.0703972977751031, 0.06006569502702874]\n",
      "[0.01214128325992253, 0.008707995186968787, 0.008784525231512694, 0.0208694140392961]\n"
     ]
    },
    {
     "data": {
      "image/png": "[encoded data removed]",
      "text/plain": [
       "<Figure size 432x288 with 1 Axes>"
      ]
     },
     "metadata": {
      "needs_background": "light"
     },
     "output_type": "display_data"
    }
   ],
   "source": [
    "# 4a. Error bar plot for training \n",
    "ind=[1,2,3,4]\n",
    "plt.errorbar(x=ind,y=mean_training_err,fmt='o',yerr=std_training_err, ls='-')\n",
    "plt.xlabel('Hypothesis Class')\n",
    "plt.ylabel('Mean Error Over 10 folds')\n",
    "plt.title(\"Errorbar plot for training errors \")\n",
    "print(mean_training_err)\n",
    "print(std_training_err)"
   ]
  },
  {
   "cell_type": "code",
   "execution_count": 23,
   "id": "8e4353b2",
   "metadata": {},
   "outputs": [
    {
     "name": "stdout",
     "output_type": "stream",
     "text": [
      "[597293.7298207106, 444567.58355719165, 2906386.85508043, 5.487515213182359e+94]\n",
      "[333223.8351833852, 234630.46318061807, 2580887.045489795, 5.20591403050448e+94]\n"
     ]
    },
    {
     "data": {
      "image/png": "[encoded data removed]",
      "text/plain": [
       "<Figure size 432x288 with 1 Axes>"
      ]
     },
     "metadata": {
      "needs_background": "light"
     },
     "output_type": "display_data"
    }
   ],
   "source": [
    "# 4a. Error bar plot for test\n",
    "ind=[1,2,3,4]\n",
    "plt.errorbar(x=ind,y=mean_test_err,yerr=std_test_err ,fmt='o', ls='-')\n",
    "plt.xlabel('Hypothesis Class')\n",
    "plt.ylabel('Mean Error Over 10 folds')\n",
    "plt.title(\"Errorbar plot for test errors \")\n",
    "print(mean_test_err)\n",
    "print(std_test_err)"
   ]
  },
  {
   "cell_type": "code",
   "execution_count": 24,
   "id": "7e83f357",
   "metadata": {},
   "outputs": [
    {
     "name": "stdout",
     "output_type": "stream",
     "text": [
      "min training error  0.2628741753707918  at index 7 for Hypothesis  0\n"
     ]
    },
    {
     "data": {
      "image/png": "[encoded data removed]",
      "text/plain": [
       "<Figure size 432x288 with 1 Axes>"
      ]
     },
     "metadata": {
      "needs_background": "light"
     },
     "output_type": "display_data"
    }
   ],
   "source": [
    "# 4b. for degree 1 plot\n",
    "plotTrainingOutput(1,min_id_deg1,min_val_deg1,0,weight_list1)\n"
   ]
  },
  {
   "cell_type": "code",
   "execution_count": 25,
   "id": "ae2607e9",
   "metadata": {},
   "outputs": [
    {
     "name": "stdout",
     "output_type": "stream",
     "text": [
      "min training error  0.058248811165242984  at index 4 for Hypothesis  1\n"
     ]
    },
    {
     "data": {
      "image/png": "[encoded data removed]",
      "text/plain": [
       "<Figure size 432x288 with 1 Axes>"
      ]
     },
     "metadata": {
      "needs_background": "light"
     },
     "output_type": "display_data"
    }
   ],
   "source": [
    "#4b. for degree 3 plot\n",
    "plotTrainingOutput(3,min_id_deg3,min_val_deg3,1,weight_list3)"
   ]
  },
  {
   "cell_type": "code",
   "execution_count": 26,
   "id": "378d9577",
   "metadata": {},
   "outputs": [
    {
     "name": "stdout",
     "output_type": "stream",
     "text": [
      "min training error  0.057754665107394826  at index 4 for Hypothesis  2\n"
     ]
    },
    {
     "data": {
      "image/png": "[encoded data removed]",
      "text/plain": [
       "<Figure size 432x288 with 1 Axes>"
      ]
     },
     "metadata": {
      "needs_background": "light"
     },
     "output_type": "display_data"
    }
   ],
   "source": [
    "#4b. for degree 5 plot\n",
    "plotTrainingOutput(5,min_id_deg5,min_val_deg5,2,weight_list5)"
   ]
  },
  {
   "cell_type": "code",
   "execution_count": 27,
   "id": "6da23b14",
   "metadata": {},
   "outputs": [
    {
     "name": "stdout",
     "output_type": "stream",
     "text": [
      "min training error  0.0349377834355395  at index 6 for Hypothesis  3\n"
     ]
    },
    {
     "data": {
      "image/png": "[encoded data removed]",
      "text/plain": [
       "<Figure size 432x288 with 1 Axes>"
      ]
     },
     "metadata": {
      "needs_background": "light"
     },
     "output_type": "display_data"
    }
   ],
   "source": [
    "#4b for degree 50 plot\n",
    "plotTrainingOutput(50,min_id_deg50,min_val_deg50,3,weight_list50)"
   ]
  },
  {
   "cell_type": "markdown",
   "id": "ddc76baa",
   "metadata": {},
   "source": [
    " # 5) Hypothesis2 with degree 3 is better than other hypotheses. \n",
    "* hypothesis 1 with linear model underfits the training data (simple model)\n",
    "* hypothesis 3 with degree 5 starts overfitting the training data (complex model)\n",
    "* hypothesis 4 with degree 50 exactly overfits the training data (extremely complex model)\n",
    "\n",
    "* Test Error Drops in Hypothesis2 with degree 3 from Hypothesis1 with degree 1, also, Test error increases largely in  Hypotheses3 with degree 5 and Hypotheses4 with degree 50. \n",
    "* Therefore, I will choose Hypothesis2"
   ]
  },
  {
   "cell_type": "code",
   "execution_count": null,
   "id": "1db76058",
   "metadata": {},
   "outputs": [],
   "source": []
  }
 ],
 "metadata": {
  "kernelspec": {
   "display_name": "cs529",
   "language": "python",
   "name": "cs529"
  },
  "language_info": {
   "codemirror_mode": {
    "name": "ipython",
    "version": 3
   },
   "file_extension": ".py",
   "mimetype": "text/x-python",
   "name": "python",
   "nbconvert_exporter": "python",
   "pygments_lexer": "ipython3",
   "version": "3.7.10"
  }
 },
 "nbformat": 4,
 "nbformat_minor": 5
}
