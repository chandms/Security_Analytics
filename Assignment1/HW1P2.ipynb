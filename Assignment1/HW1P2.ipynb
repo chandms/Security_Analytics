{
 "cells": [
  {
   "cell_type": "code",
   "execution_count": 38,
   "id": "19d166df",
   "metadata": {},
   "outputs": [],
   "source": [
    "import numpy as np\n",
    "import pandas as pd\n",
    "import matplotlib.pyplot as plt\n",
    "import seaborn as sns\n",
    "%matplotlib inline"
   ]
  },
  {
   "cell_type": "code",
   "execution_count": 43,
   "id": "20e2a9f4",
   "metadata": {},
   "outputs": [],
   "source": [
    "#Reading Data from adult.data.csv\n",
    "\n",
    "adult_data = pd.read_csv('adult.data.csv',skipinitialspace=True)\n",
    "# skipinitialspace is True to remove extra white space from input data"
   ]
  },
  {
   "cell_type": "code",
   "execution_count": 44,
   "id": "28b0fa35",
   "metadata": {},
   "outputs": [
    {
     "data": {
      "text/html": [
       "<div>\n",
       "<style scoped>\n",
       "    .dataframe tbody tr th:only-of-type {\n",
       "        vertical-align: middle;\n",
       "    }\n",
       "\n",
       "    .dataframe tbody tr th {\n",
       "        vertical-align: top;\n",
       "    }\n",
       "\n",
       "    .dataframe thead th {\n",
       "        text-align: right;\n",
       "    }\n",
       "</style>\n",
       "<table border=\"1\" class=\"dataframe\">\n",
       "  <thead>\n",
       "    <tr style=\"text-align: right;\">\n",
       "      <th></th>\n",
       "      <th>age</th>\n",
       "      <th>workclass</th>\n",
       "      <th>fnlwgt</th>\n",
       "      <th>education</th>\n",
       "      <th>education-num</th>\n",
       "      <th>marital-status</th>\n",
       "      <th>occupation</th>\n",
       "      <th>relationship</th>\n",
       "      <th>race</th>\n",
       "      <th>sex</th>\n",
       "      <th>capital-gain</th>\n",
       "      <th>capital-loss</th>\n",
       "      <th>hours-per-week</th>\n",
       "      <th>native-country</th>\n",
       "      <th>salary</th>\n",
       "    </tr>\n",
       "  </thead>\n",
       "  <tbody>\n",
       "    <tr>\n",
       "      <th>0</th>\n",
       "      <td>39</td>\n",
       "      <td>State-gov</td>\n",
       "      <td>77516</td>\n",
       "      <td>Bachelors</td>\n",
       "      <td>13</td>\n",
       "      <td>Never-married</td>\n",
       "      <td>Adm-clerical</td>\n",
       "      <td>Not-in-family</td>\n",
       "      <td>White</td>\n",
       "      <td>Male</td>\n",
       "      <td>2174</td>\n",
       "      <td>0</td>\n",
       "      <td>40</td>\n",
       "      <td>United-States</td>\n",
       "      <td>&lt;=50K</td>\n",
       "    </tr>\n",
       "    <tr>\n",
       "      <th>1</th>\n",
       "      <td>50</td>\n",
       "      <td>Self-emp-not-inc</td>\n",
       "      <td>83311</td>\n",
       "      <td>Bachelors</td>\n",
       "      <td>13</td>\n",
       "      <td>Married-civ-spouse</td>\n",
       "      <td>Exec-managerial</td>\n",
       "      <td>Husband</td>\n",
       "      <td>White</td>\n",
       "      <td>Male</td>\n",
       "      <td>0</td>\n",
       "      <td>0</td>\n",
       "      <td>13</td>\n",
       "      <td>United-States</td>\n",
       "      <td>&lt;=50K</td>\n",
       "    </tr>\n",
       "    <tr>\n",
       "      <th>2</th>\n",
       "      <td>38</td>\n",
       "      <td>Private</td>\n",
       "      <td>215646</td>\n",
       "      <td>HS-grad</td>\n",
       "      <td>9</td>\n",
       "      <td>Divorced</td>\n",
       "      <td>Handlers-cleaners</td>\n",
       "      <td>Not-in-family</td>\n",
       "      <td>White</td>\n",
       "      <td>Male</td>\n",
       "      <td>0</td>\n",
       "      <td>0</td>\n",
       "      <td>40</td>\n",
       "      <td>United-States</td>\n",
       "      <td>&lt;=50K</td>\n",
       "    </tr>\n",
       "    <tr>\n",
       "      <th>3</th>\n",
       "      <td>53</td>\n",
       "      <td>Private</td>\n",
       "      <td>234721</td>\n",
       "      <td>11th</td>\n",
       "      <td>7</td>\n",
       "      <td>Married-civ-spouse</td>\n",
       "      <td>Handlers-cleaners</td>\n",
       "      <td>Husband</td>\n",
       "      <td>Black</td>\n",
       "      <td>Male</td>\n",
       "      <td>0</td>\n",
       "      <td>0</td>\n",
       "      <td>40</td>\n",
       "      <td>United-States</td>\n",
       "      <td>&lt;=50K</td>\n",
       "    </tr>\n",
       "    <tr>\n",
       "      <th>4</th>\n",
       "      <td>28</td>\n",
       "      <td>Private</td>\n",
       "      <td>338409</td>\n",
       "      <td>Bachelors</td>\n",
       "      <td>13</td>\n",
       "      <td>Married-civ-spouse</td>\n",
       "      <td>Prof-specialty</td>\n",
       "      <td>Wife</td>\n",
       "      <td>Black</td>\n",
       "      <td>Female</td>\n",
       "      <td>0</td>\n",
       "      <td>0</td>\n",
       "      <td>40</td>\n",
       "      <td>Cuba</td>\n",
       "      <td>&lt;=50K</td>\n",
       "    </tr>\n",
       "  </tbody>\n",
       "</table>\n",
       "</div>"
      ],
      "text/plain": [
       "   age         workclass  fnlwgt  education  education-num  \\\n",
       "0   39         State-gov   77516  Bachelors             13   \n",
       "1   50  Self-emp-not-inc   83311  Bachelors             13   \n",
       "2   38           Private  215646    HS-grad              9   \n",
       "3   53           Private  234721       11th              7   \n",
       "4   28           Private  338409  Bachelors             13   \n",
       "\n",
       "       marital-status         occupation   relationship   race     sex  \\\n",
       "0       Never-married       Adm-clerical  Not-in-family  White    Male   \n",
       "1  Married-civ-spouse    Exec-managerial        Husband  White    Male   \n",
       "2            Divorced  Handlers-cleaners  Not-in-family  White    Male   \n",
       "3  Married-civ-spouse  Handlers-cleaners        Husband  Black    Male   \n",
       "4  Married-civ-spouse     Prof-specialty           Wife  Black  Female   \n",
       "\n",
       "   capital-gain  capital-loss  hours-per-week native-country salary  \n",
       "0          2174             0              40  United-States  <=50K  \n",
       "1             0             0              13  United-States  <=50K  \n",
       "2             0             0              40  United-States  <=50K  \n",
       "3             0             0              40  United-States  <=50K  \n",
       "4             0             0              40           Cuba  <=50K  "
      ]
     },
     "execution_count": 44,
     "metadata": {},
     "output_type": "execute_result"
    }
   ],
   "source": [
    "# checking the head of the data\n",
    "adult_data.head()"
   ]
  },
  {
   "cell_type": "code",
   "execution_count": 45,
   "id": "03f2f0c5",
   "metadata": {},
   "outputs": [
    {
     "data": {
      "text/plain": [
       "Index(['age', 'workclass', 'fnlwgt', 'education', 'education-num',\n",
       "       'marital-status', 'occupation', 'relationship', 'race', 'sex',\n",
       "       'capital-gain', 'capital-loss', 'hours-per-week', 'native-country',\n",
       "       'salary'],\n",
       "      dtype='object')"
      ]
     },
     "execution_count": 45,
     "metadata": {},
     "output_type": "execute_result"
    }
   ],
   "source": [
    "adult_data.columns"
   ]
  },
  {
   "cell_type": "code",
   "execution_count": 46,
   "id": "4e1bbf53",
   "metadata": {},
   "outputs": [
    {
     "data": {
      "text/plain": [
       "Male      21790\n",
       "Female    10771\n",
       "Name: sex, dtype: int64"
      ]
     },
     "execution_count": 46,
     "metadata": {},
     "output_type": "execute_result"
    }
   ],
   "source": [
    "#1. Male and Female Count : \n",
    "\n",
    "adult_data['sex'].value_counts()"
   ]
  },
  {
   "cell_type": "code",
   "execution_count": 47,
   "id": "717300f2",
   "metadata": {},
   "outputs": [
    {
     "data": {
      "text/plain": [
       "36.85823043357163"
      ]
     },
     "execution_count": 47,
     "metadata": {},
     "output_type": "execute_result"
    }
   ],
   "source": [
    "#2. Average Age of Women :\n",
    "np.mean(adult_data[adult_data['sex']=='Female']['age'])"
   ]
  },
  {
   "cell_type": "code",
   "execution_count": 49,
   "id": "67b593fe",
   "metadata": {},
   "outputs": [
    {
     "name": "stdout",
     "output_type": "stream",
     "text": [
      "Percentage of German :  0.42074874850281013\n"
     ]
    }
   ],
   "source": [
    "#3. Percentage of German Citizen :\n",
    "\n",
    "number_of_germans = adult_data[adult_data['native-country']=='Germany'].shape[0] # shape[0] gives the number of rows\n",
    "total_citizen = adult_data.shape[0]\n",
    "print (\"Percentage of German : \",number_of_germans*100/total_citizen)"
   ]
  },
  {
   "cell_type": "code",
   "execution_count": 51,
   "id": "b11dd9e5",
   "metadata": {},
   "outputs": [
    {
     "name": "stdout",
     "output_type": "stream",
     "text": [
      ">50K mean :  44.24984058155847\n",
      ">50K std :  10.518356927661575\n",
      "<=50K mean :  36.78373786407767\n",
      "<=50K std :  14.019804910115214\n"
     ]
    }
   ],
   "source": [
    "#4. Mean and Std of age who earns more than 50k\n",
    "\n",
    "salary_more_than_50k_age = adult_data[adult_data['salary']=='>50K']['age']\n",
    "print (\">50K mean : \",np.mean(salary_more_than_50k_age))\n",
    "print (\">50K std : \",np.std(salary_more_than_50k_age))\n",
    "\n",
    "# Mean and Std of age who earns less than or equal to 50k\n",
    "\n",
    "salary_less_than_50k_age = adult_data[adult_data['salary']=='<=50K']['age']\n",
    "print (\"<=50K mean : \",np.mean(salary_less_than_50k_age))\n",
    "print (\"<=50K std : \",np.std(salary_less_than_50k_age))"
   ]
  },
  {
   "cell_type": "code",
   "execution_count": 53,
   "id": "96a7476c",
   "metadata": {},
   "outputs": [
    {
     "data": {
      "text/plain": [
       "Bachelors       2221\n",
       "HS-grad         1675\n",
       "Some-college    1387\n",
       "Masters          959\n",
       "Prof-school      423\n",
       "Assoc-voc        361\n",
       "Doctorate        306\n",
       "Assoc-acdm       265\n",
       "10th              62\n",
       "11th              60\n",
       "7th-8th           40\n",
       "12th              33\n",
       "9th               27\n",
       "5th-6th           16\n",
       "1st-4th            6\n",
       "Name: education, dtype: int64"
      ]
     },
     "execution_count": 53,
     "metadata": {},
     "output_type": "execute_result"
    }
   ],
   "source": [
    "#5. Is it true that people who earn more than 50K have at least high school education?\n",
    "\n",
    "salary_more_than_50k = adult_data[adult_data['salary']=='>50K']\n",
    "salary_more_than_50k['education'].value_counts()\n",
    "\n",
    "# Ans - No, there are people with lower qualification who earn more than 50K"
   ]
  },
  {
   "cell_type": "code",
   "execution_count": 76,
   "id": "ae8f4c79",
   "metadata": {},
   "outputs": [
    {
     "name": "stdout",
     "output_type": "stream",
     "text": [
      "Age Race Statistics\n",
      "                age\n",
      "count  32561.000000\n",
      "mean      38.581647\n",
      "std       13.640433\n",
      "min       17.000000\n",
      "25%       28.000000\n",
      "50%       37.000000\n",
      "75%       48.000000\n",
      "max       90.000000\n",
      "\n",
      "\n",
      "Age Gender Statistics\n",
      "                age\n",
      "count  32561.000000\n",
      "mean      38.581647\n",
      "std       13.640433\n",
      "min       17.000000\n",
      "25%       28.000000\n",
      "50%       37.000000\n",
      "75%       48.000000\n",
      "max       90.000000\n"
     ]
    },
    {
     "data": {
      "text/plain": [
       "<AxesSubplot:xlabel='sex', ylabel='age'>"
      ]
     },
     "execution_count": 76,
     "metadata": {},
     "output_type": "execute_result"
    },
    {
     "data": {
      "image/png": "[encoded data removed]",
      "text/plain": [
       "<Figure size 1440x504 with 2 Axes>"
      ]
     },
     "metadata": {
      "needs_background": "light"
     },
     "output_type": "display_data"
    }
   ],
   "source": [
    "#6.  Display age statistics for each race  (BoxPlot & Describe)\n",
    "\n",
    "plt.figure(figsize=(20,7))\n",
    "plt.subplot(1,2,1)\n",
    "sns.boxplot(y='age',x='race',data=adult_data)\n",
    "age_race = adult_data[['age','race']]\n",
    "print(\"Age Race Statistics\")\n",
    "print(age_race.describe())\n",
    "print(\"\\n\")\n",
    "\n",
    "# Display age statistics for each gender (BoxPlot & Describe)\n",
    "age_sex = adult_data[['age','sex']]\n",
    "print(\"Age Gender Statistics\")\n",
    "print(age_sex.describe())\n",
    "plt.subplot(1,2,2)\n",
    "sns.boxplot(x='sex', y='age', data=adult_data)"
   ]
  },
  {
   "cell_type": "code",
   "execution_count": 79,
   "id": "22c73d0c",
   "metadata": {},
   "outputs": [
    {
     "name": "stdout",
     "output_type": "stream",
     "text": [
      "max work hours per week :  99\n",
      "number of people working for max hours per week  85\n",
      "percentage of people working for max hours and also earning more than 50K is  29.41176470588235\n"
     ]
    }
   ],
   "source": [
    "# 7. maximum number of hours a person works per week\n",
    "\n",
    "max_hours_per_week = adult_data['hours-per-week'].max()\n",
    "print(\"max work hours per week : \",max_hours_per_week)\n",
    "\n",
    "# dataframe that stores the rows where each person works for max hours per week\n",
    "working_max_hours = adult_data[adult_data['hours-per-week']==max_hours_per_week]\n",
    "# number of people working for max hours per week\n",
    "no_of_adults_working_for_max_hours = working_max_hours.shape[0]\n",
    "print(\"number of people working for max hours per week \",no_of_adults_working_for_max_hours)\n",
    "\n",
    "# dataframe that stores those rows where each person earns more than 50K and also works for max hours per week\n",
    "no_of_adults_earning_more = working_max_hours[working_max_hours['salary']=='>50K'].shape[0]\n",
    "print(\"percentage of people working for max hours and also earning more than 50K is \",\n",
    "      (no_of_adults_earning_more*100)/no_of_adults_working_for_max_hours)\n"
   ]
  },
  {
   "cell_type": "code",
   "execution_count": 89,
   "id": "8f56ce1a",
   "metadata": {},
   "outputs": [
    {
     "name": "stdout",
     "output_type": "stream",
     "text": [
      "for little salary people \n",
      "native-country\n",
      "?                             40.164760\n",
      "Cambodia                      41.416667\n",
      "Canada                        37.914634\n",
      "China                         37.381818\n",
      "Columbia                      38.684211\n",
      "Cuba                          37.985714\n",
      "Dominican-Republic            42.338235\n",
      "Ecuador                       38.041667\n",
      "El-Salvador                   36.030928\n",
      "England                       40.483333\n",
      "France                        41.058824\n",
      "Germany                       39.139785\n",
      "Greece                        41.809524\n",
      "Guatemala                     39.360656\n",
      "Haiti                         36.325000\n",
      "Holand-Netherlands            40.000000\n",
      "Honduras                      34.333333\n",
      "Hong                          39.142857\n",
      "Hungary                       31.300000\n",
      "India                         38.233333\n",
      "Iran                          41.440000\n",
      "Ireland                       40.947368\n",
      "Italy                         39.625000\n",
      "Jamaica                       38.239437\n",
      "Japan                         41.000000\n",
      "Laos                          40.375000\n",
      "Mexico                        40.003279\n",
      "Nicaragua                     36.093750\n",
      "Outlying-US(Guam-USVI-etc)    41.857143\n",
      "Peru                          35.068966\n",
      "Philippines                   38.065693\n",
      "Poland                        38.166667\n",
      "Portugal                      41.939394\n",
      "Puerto-Rico                   38.470588\n",
      "Scotland                      39.444444\n",
      "South                         40.156250\n",
      "Taiwan                        33.774194\n",
      "Thailand                      42.866667\n",
      "Trinadad&Tobago               37.058824\n",
      "United-States                 38.799127\n",
      "Vietnam                       37.193548\n",
      "Yugoslavia                    41.600000\n",
      "Name: hours-per-week, dtype: float64\n",
      "\n",
      "\n",
      "for more salary people \n",
      "native-country\n",
      "?                     45.547945\n",
      "Cambodia              40.000000\n",
      "Canada                45.641026\n",
      "China                 38.900000\n",
      "Columbia              50.000000\n",
      "Cuba                  42.440000\n",
      "Dominican-Republic    47.000000\n",
      "Ecuador               48.750000\n",
      "El-Salvador           45.000000\n",
      "England               44.533333\n",
      "France                50.750000\n",
      "Germany               44.977273\n",
      "Greece                50.625000\n",
      "Guatemala             36.666667\n",
      "Haiti                 42.750000\n",
      "Honduras              60.000000\n",
      "Hong                  45.000000\n",
      "Hungary               50.000000\n",
      "India                 46.475000\n",
      "Iran                  47.500000\n",
      "Ireland               48.000000\n",
      "Italy                 45.400000\n",
      "Jamaica               41.100000\n",
      "Japan                 47.958333\n",
      "Laos                  40.000000\n",
      "Mexico                46.575758\n",
      "Nicaragua             37.500000\n",
      "Peru                  40.000000\n",
      "Philippines           43.032787\n",
      "Poland                39.000000\n",
      "Portugal              41.500000\n",
      "Puerto-Rico           39.416667\n",
      "Scotland              46.666667\n",
      "South                 51.437500\n",
      "Taiwan                46.800000\n",
      "Thailand              58.333333\n",
      "Trinadad&Tobago       40.000000\n",
      "United-States         45.505369\n",
      "Vietnam               39.200000\n",
      "Yugoslavia            49.500000\n",
      "Name: hours-per-week, dtype: float64\n",
      "\n",
      "\n",
      "avg time of work in japan 47.958333333333336\n",
      "\n",
      "\n",
      "avg time of work in japan  41.0\n"
     ]
    }
   ],
   "source": [
    "#8. avg salary calculation for those who earns little and also lot.\n",
    "\n",
    "#  for little salary\n",
    "print(\"for little salary people \")\n",
    "sal_little = adult_data[adult_data['salary']=='<=50K']\n",
    "print(sal_little.groupby(by='native-country')['hours-per-week'].mean())\n",
    "\n",
    "\n",
    "# for lot salary\n",
    "print(\"\\n\\nfor more salary people \")\n",
    "sal_more = adult_data[adult_data['salary']=='>50K']\n",
    "print(sal_more.groupby(by='native-country')['hours-per-week'].mean())\n",
    "\n",
    "# people of japan who earns more than 50K\n",
    "japan_more = sal_more.groupby(by='native-country')['hours-per-week'].mean()\n",
    "print(\"\\n\\navg time of work in japan of people with more salary\",japan_more['Japan'])\n",
    "\n",
    "#people of japan who earns less than or equal to 50K.\n",
    "japan_less = sal_little.groupby(by='native-country')['hours-per-week'].mean()\n",
    "print(\"\\n\\navg time of work in japan \",japan_less['Japan'])\n"
   ]
  },
  {
   "cell_type": "code",
   "execution_count": null,
   "id": "132191a8",
   "metadata": {},
   "outputs": [],
   "source": []
  }
 ],
 "metadata": {
  "kernelspec": {
   "display_name": "cs529",
   "language": "python",
   "name": "cs529"
  },
  "language_info": {
   "codemirror_mode": {
    "name": "ipython",
    "version": 3
   },
   "file_extension": ".py",
   "mimetype": "text/x-python",
   "name": "python",
   "nbconvert_exporter": "python",
   "pygments_lexer": "ipython3",
   "version": "3.7.10"
  }
 },
 "nbformat": 4,
 "nbformat_minor": 5
}
